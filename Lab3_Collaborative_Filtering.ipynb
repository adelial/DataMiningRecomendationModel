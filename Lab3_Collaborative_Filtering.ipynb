{
 "cells": [
  {
   "cell_type": "markdown",
   "metadata": {},
   "source": [
    "<a id=\"top\"></a>\n",
    "# Project 3 - Collaborative Filtering\n",
    "\n",
    "## Team Members:\n",
    "- Alma Lopez\n",
    "- Cynthia Alvarado\n",
    "- Chris Havenstein\n",
    "- Hieu Nguyen\n",
    "\n",
    "## Contents\n",
    "* <a href=\"#BusinessUnderstanding\">1. Business Understanding</a>\n",
    "* <a href=\"#DataUnderstanding\">2. Data Understanding</a>\n",
    "* <a href=\"#MandE\">3. Modeling and Evaluation</a>\n",
    "    - [Train and Adjust Parameters](#train)\n",
    "    - [Evaluate and Compare](#eval)\n",
    "    - [Visualize Results](#visualize)       \n",
    "    - [Summarize the Ramifications](#summary)\n",
    "* <a href=\"#deployment\">4. Deployment</a>\n",
    "* <a href=\"#exceptional\">5. Exceptional Work</a>\n",
    "\n",
    "________________________________________________________________________________________________________\n",
    "<a id=\"BusinessUnderstanding\"></a>\n",
    "<a href=\"#top\">Back to Top</a>\n",
    "## 1. Business Understanding\n",
    "\n",
    "For collaborative filtering, we have chosen the MovieLens data that gathered movie rankings by users. The information on movie rankings gathered is useful for film recommendation systems to provide a method of customer service for users who may be looking for film recommendations. This will not only provide a method of customer service, but it retains customers by enticing them to continue using your service rather than a competitor.\n",
    "\n",
    "Our collaborative filtering model will be user-to-item recommendations, which are are based on the concept of \"crowd wisdom.\" Recommendations are made based on users who ranked a particular film similar to the customer.  The customer then gets recommendations based on favorably ranked films by compared users, for films not yet watched by the customer. Thus, we increase the experience for the user by providing relevant and accurate recommendations to entice the customer to continue using our service instead of the competitor.\n",
    "\n",
    "The Root Mean Squared Error (RMSE) will be used to assess the effectiveness of the algorithm. This will give us a good measure of the difference between the film predicted for recommendation based on rating, against the rating of the film actually chosen by the user. By minimizing the RMSE, we increase the accuracy of the recommended films for the customer.\n",
    "\n",
    "Secondly, we will also assess the model using Precision and Recall.  When taking precision and recall into account into the model, we are taking the customer's ratings as well to get more relevant recommendations.  Thus, we are not limiting recommendations solely on the comparison against all users. We will be looking for improvements in the precision and recall and which model increased while still maintaining a low standard deviation. \n",
    "\n",
    "The change to the RMSE in relation to the Precision and Recall will also be taken into account in order to determine which model is truly the best one to deploy and present to customers so that the films chosen for the customers retain them as customers for the long term.\n"
   ]
  },
  {
   "cell_type": "markdown",
   "metadata": {},
   "source": [
    "<a id=\"DataUnderstanding\"></a>\n",
    "<a href=\"#top\">Back to Top</a>\n",
    "## 2. Data Understanding\n",
    "\n",
    "The movies dataset that is used in this project describes 5-star rating with free-text tagging activity from MovieLens. It contains 100004 ratings and 1,296 tag applications across 9,125 movies. \n",
    "The data is provided in 4 csv files:\n",
    "- Movies.csv contains information about the movies.\n",
    "- Ratings.csv contains the user, movie rating information.\n",
    "- Tags.csv contains user, movie tags by review.\n",
    "- Links.csv  contains links to http://www.imdb.com (Internet Movie Database)\n",
    "\n",
    "These data were created by 671 users between January 09, 1995 and October 16, 2016. It was generated on October 17, 2016.\n",
    "The users in this data set have rated at least 20 movies, but there is not demographic information available, only user ids are provided and consistent between ratings.csv and tags.csv \n",
    "\n",
    "MovieLens users were selected at random for inclusion. Their ids have been anonymized. User ids are consistent between ratings.csv and tags.csv\n",
    "\n",
    "Movie information has Movie Ids as unique identifier for movies. Movie ids are consistent between ratings.csv, tags.csv, movies.csv, and links.csv (i.e., the same id refers to the same movie across these four data files).\n",
    "Only movies with at least one rating or tag are included in the dataset. \n",
    "\n",
    "This data set (ml-latest-small) is publicly available for download at http://grouplens.org/datasets/.\n",
    "F. Maxwell Harper and Joseph A. Konstan. 2015. The MovieLens Datasets: History and Context. ACM Transactions on Interactive Intelligent Systems (TiiS) 5, 4, Article 19 (December 2015), 19 pages. DOI=http://dx.doi.org/10.1145/2827872\n",
    "\n",
    "More details about the contents and use of all these files follows.\n"
   ]
  },
  {
   "cell_type": "markdown",
   "metadata": {},
   "source": [
    "### Movies\n",
    "\n",
    "Attribute | Type | Range / Values |  Description\n",
    "--- | --- | --- | ---\n",
    "movieId |Nominal   | 1 - 164,979 |Unique Identifier for the movies\n",
    "title | Nominal |String - Example: \"Dangerous Minds (1995)\" | Title of the movie includes release year.  \n",
    "genres | Nominal | Action, Adventure, Animation, Children’s, Comedy, Crime, Documentary, Drama, Fantasy, Film-Noir, Horror, Musical, Mystery, Romance, Sci-Fi, Thriller, War, Western, N/A '(no genres listed)'|  Genre or genres assigned to each movie.\n",
    "\n",
    "\n",
    "### Ratings\n",
    "\n",
    "Attribute | Type | Range / Values | Description \n",
    "--- | --- | --- | ---\n",
    "userId | Nominal | 1 - 671 | Assigned user ID's by MovieLens.\n",
    "movieId | Nominal | 1 - 163,949 | Unique Identifier for the movies.\n",
    "rating | Ordinal | 0.5 - 5.0 | Individual rating given to each movie by a user.\n",
    "timestamp | Interval |789652009 - 1476640644 | Represent how many seconds since midnight Coordinated Universal Time (UTC) of January 1, 1970 the rating was made.\n",
    "\n",
    "\n",
    "\n",
    "### Tags\n",
    "\n",
    "Attribute | Type | Range / Values | Description \n",
    "--- | --- | --- | ---\n",
    "userId | Nominal | 15 - 663 | Assigned user ID's by MovieLens.\n",
    "movieId | Nominal | 1 - 164,979 | Unique Identifier for the movies.\n",
    "tag | Nominal | Free Text. Example: \"Funny\", \"Romantic\", \"Boring\", etc. | User-generated metadata about movies.\n",
    "timestamp | Interval |1137217440 - 1476650744 | Represent how many seconds since midnight Coordinated Universal Time (UTC) of January 1, 1970 the rating was made.\n",
    "\n",
    "### Links\n",
    "Attribute | Type | Range / Values | Description \n",
    "--- | --- | --- | ---\n",
    "movieId | Nominal | 1 - 164,979 | Unique Identifier for the movies.\n",
    "imdbId | Nominal | 417 - 5,794,766  | Identifier for movies used by http://www.imdb.com.\n",
    "tmdbId | Nominal | 2 - 416,437 | identifier for movies used by https://www.themoviedb.org.\n"
   ]
  },
  {
   "cell_type": "code",
   "execution_count": 1,
   "metadata": {
    "collapsed": false
   },
   "outputs": [],
   "source": [
    "%matplotlib inline\n",
    "\n",
    "# Import libraries needed to load data and initial Data Analysis\n",
    "# Visualization in Python with Pandas, Matplotlib\n",
    "import numpy as np\n",
    "import pandas as pd\n",
    "import matplotlib.pyplot as plt\n",
    "from wordcloud import WordCloud \n",
    "import graphlab as gl\n",
    "from graphlab import SFrame\n",
    "import warnings\n",
    "warnings.filterwarnings('ignore')\n",
    "import seaborn as sns\n",
    "sns.set()"
   ]
  },
  {
   "cell_type": "markdown",
   "metadata": {},
   "source": [
    "We downloaded the zip file provided in MovieLens website  https://grouplens.org/datasets/movielens/ and unzip the files in our local drive. Then, the following instructions were used to load the data in different data frames to be used in our analysis."
   ]
  },
  {
   "cell_type": "code",
   "execution_count": 2,
   "metadata": {
    "collapsed": false
   },
   "outputs": [],
   "source": [
    "#Load the data from different files Ratings.csv  \n",
    "filename = 'C:/Alma@SMU/MSDS_7331_DM/Movies/ml-latest-small/ratings.csv'\n",
    "Ratings_df = pd.read_csv(filename, sep=',', error_bad_lines=False, index_col=False, encoding='utf-8', low_memory=False)\n",
    "df = pd.read_csv(filename, delimiter=',',  dtype={'a': np.float32})\n"
   ]
  },
  {
   "cell_type": "code",
   "execution_count": 3,
   "metadata": {
    "collapsed": true
   },
   "outputs": [],
   "source": [
    "#Load the data from different files movies.csv  \n",
    "filename = 'C:/Alma@SMU/MSDS_7331_DM/Movies/ml-latest-small/movies.csv'\n",
    "Movies_df = pd.read_csv(filename, sep=',', error_bad_lines=False, index_col=False, encoding='utf-8', low_memory=False)\n"
   ]
  },
  {
   "cell_type": "code",
   "execution_count": 4,
   "metadata": {
    "collapsed": true
   },
   "outputs": [],
   "source": [
    "#Load the data from different files tags.csv  \n",
    "filename = 'C:/Alma@SMU/MSDS_7331_DM/Movies/ml-latest-small/tags.csv'\n",
    "Tags_df = pd.read_csv(filename, sep=',', error_bad_lines=False, index_col=False, encoding='utf-8', low_memory=False)\n"
   ]
  },
  {
   "cell_type": "code",
   "execution_count": 5,
   "metadata": {
    "collapsed": true
   },
   "outputs": [],
   "source": [
    "#Load the data from different files Links.csv\n",
    "filename = 'C:/Alma@SMU/MSDS_7331_DM/Movies/ml-latest-small/links.csv'\n",
    "Links_df = pd.read_csv(filename, sep=',', error_bad_lines=False, index_col=False, encoding='utf-8', low_memory=False)\n"
   ]
  },
  {
   "cell_type": "code",
   "execution_count": 6,
   "metadata": {
    "collapsed": false
   },
   "outputs": [
    {
     "name": "stdout",
     "output_type": "stream",
     "text": [
      "Rating_df:\n",
      "<class 'pandas.core.frame.DataFrame'>\n",
      "RangeIndex: 100004 entries, 0 to 100003\n",
      "Data columns (total 4 columns):\n",
      "userId       100004 non-null int64\n",
      "movieId      100004 non-null int64\n",
      "rating       100004 non-null float64\n",
      "timestamp    100004 non-null int64\n",
      "dtypes: float64(1), int64(3)\n",
      "memory usage: 3.1 MB\n",
      "\n",
      "Movies_df:\n",
      "<class 'pandas.core.frame.DataFrame'>\n",
      "RangeIndex: 9125 entries, 0 to 9124\n",
      "Data columns (total 3 columns):\n",
      "movieId    9125 non-null int64\n",
      "title      9125 non-null object\n",
      "genres     9125 non-null object\n",
      "dtypes: int64(1), object(2)\n",
      "memory usage: 213.9+ KB\n",
      "\n",
      "Tags_df:\n",
      "<class 'pandas.core.frame.DataFrame'>\n",
      "RangeIndex: 1296 entries, 0 to 1295\n",
      "Data columns (total 4 columns):\n",
      "userId       1296 non-null int64\n",
      "movieId      1296 non-null int64\n",
      "tag          1296 non-null object\n",
      "timestamp    1296 non-null int64\n",
      "dtypes: int64(3), object(1)\n",
      "memory usage: 40.6+ KB\n",
      "\n",
      "Links_df:\n",
      "<class 'pandas.core.frame.DataFrame'>\n",
      "RangeIndex: 9125 entries, 0 to 9124\n",
      "Data columns (total 3 columns):\n",
      "movieId    9125 non-null int64\n",
      "imdbId     9125 non-null int64\n",
      "tmdbId     9112 non-null float64\n",
      "dtypes: float64(1), int64(2)\n",
      "memory usage: 213.9 KB\n"
     ]
    }
   ],
   "source": [
    "# Checking structure and possible null values with info instruction for all the created data frames \n",
    "print(\"Rating_df:\")\n",
    "Ratings_df.info()\n",
    "print(\"\\nMovies_df:\")\n",
    "Movies_df.info()\n",
    "print(\"\\nTags_df:\")\n",
    "Tags_df.info()\n",
    "print(\"\\nLinks_df:\")\n",
    "Links_df.info()"
   ]
  },
  {
   "cell_type": "code",
   "execution_count": 7,
   "metadata": {
    "collapsed": false
   },
   "outputs": [
    {
     "name": "stdout",
     "output_type": "stream",
     "text": [
      "Duplicates in Ratings 0\n",
      "Duplicates in Movies 0\n",
      "Duplicates in Tags 0\n",
      "Duplicates in Links 0\n"
     ]
    }
   ],
   "source": [
    "# Looking for duplicates records in dataframes\n",
    "print(\"Duplicates in Ratings %d\" %Ratings_df.duplicated().sum())\n",
    "print(\"Duplicates in Movies %d\" %Movies_df.duplicated().sum())\n",
    "print(\"Duplicates in Tags %d\" %Tags_df.duplicated().sum())\n",
    "print(\"Duplicates in Links %d\" %Links_df.duplicated().sum())"
   ]
  },
  {
   "cell_type": "code",
   "execution_count": 8,
   "metadata": {
    "collapsed": false
   },
   "outputs": [
    {
     "name": "stdout",
     "output_type": "stream",
     "text": [
      "Duplicates in Ratings, same user rate the same movie more than once: 0\n"
     ]
    }
   ],
   "source": [
    "# Looking for duplicates in useId with the same movie with possible different rating\n",
    "print(\"Duplicates in Ratings, same user rate the same movie more than once: %d\" \\\n",
    "      %Ratings_df.duplicated(subset=['userId', 'movieId']).sum())"
   ]
  },
  {
   "cell_type": "markdown",
   "metadata": {},
   "source": [
    "The previous instructions indicate the following.\n",
    "- All rows are populated in all dataframes (no null values).\n",
    "- No duplicates in Ratings dataframe that will be used as key information for the models.\n",
    "- There are not rows with same user and movie and different rating, in other words we don't have different ratings submitted by the same user to one movie."
   ]
  },
  {
   "cell_type": "code",
   "execution_count": 9,
   "metadata": {
    "collapsed": false
   },
   "outputs": [
    {
     "data": {
      "text/html": [
       "<div>\n",
       "<table border=\"1\" class=\"dataframe\">\n",
       "  <thead>\n",
       "    <tr style=\"text-align: right;\">\n",
       "      <th></th>\n",
       "      <th>userId</th>\n",
       "      <th>movieId</th>\n",
       "      <th>rating</th>\n",
       "      <th>timestamp</th>\n",
       "    </tr>\n",
       "  </thead>\n",
       "  <tbody>\n",
       "    <tr>\n",
       "      <th>count</th>\n",
       "      <td>100004.000000</td>\n",
       "      <td>100004.000000</td>\n",
       "      <td>100004.000000</td>\n",
       "      <td>1.000040e+05</td>\n",
       "    </tr>\n",
       "    <tr>\n",
       "      <th>mean</th>\n",
       "      <td>347.011310</td>\n",
       "      <td>12548.664363</td>\n",
       "      <td>3.543608</td>\n",
       "      <td>1.129639e+09</td>\n",
       "    </tr>\n",
       "    <tr>\n",
       "      <th>std</th>\n",
       "      <td>195.163838</td>\n",
       "      <td>26369.198969</td>\n",
       "      <td>1.058064</td>\n",
       "      <td>1.916858e+08</td>\n",
       "    </tr>\n",
       "    <tr>\n",
       "      <th>min</th>\n",
       "      <td>1.000000</td>\n",
       "      <td>1.000000</td>\n",
       "      <td>0.500000</td>\n",
       "      <td>7.896520e+08</td>\n",
       "    </tr>\n",
       "    <tr>\n",
       "      <th>25%</th>\n",
       "      <td>182.000000</td>\n",
       "      <td>1028.000000</td>\n",
       "      <td>3.000000</td>\n",
       "      <td>9.658478e+08</td>\n",
       "    </tr>\n",
       "    <tr>\n",
       "      <th>50%</th>\n",
       "      <td>367.000000</td>\n",
       "      <td>2406.500000</td>\n",
       "      <td>4.000000</td>\n",
       "      <td>1.110422e+09</td>\n",
       "    </tr>\n",
       "    <tr>\n",
       "      <th>75%</th>\n",
       "      <td>520.000000</td>\n",
       "      <td>5418.000000</td>\n",
       "      <td>4.000000</td>\n",
       "      <td>1.296192e+09</td>\n",
       "    </tr>\n",
       "    <tr>\n",
       "      <th>max</th>\n",
       "      <td>671.000000</td>\n",
       "      <td>163949.000000</td>\n",
       "      <td>5.000000</td>\n",
       "      <td>1.476641e+09</td>\n",
       "    </tr>\n",
       "  </tbody>\n",
       "</table>\n",
       "</div>"
      ],
      "text/plain": [
       "              userId        movieId         rating     timestamp\n",
       "count  100004.000000  100004.000000  100004.000000  1.000040e+05\n",
       "mean      347.011310   12548.664363       3.543608  1.129639e+09\n",
       "std       195.163838   26369.198969       1.058064  1.916858e+08\n",
       "min         1.000000       1.000000       0.500000  7.896520e+08\n",
       "25%       182.000000    1028.000000       3.000000  9.658478e+08\n",
       "50%       367.000000    2406.500000       4.000000  1.110422e+09\n",
       "75%       520.000000    5418.000000       4.000000  1.296192e+09\n",
       "max       671.000000  163949.000000       5.000000  1.476641e+09"
      ]
     },
     "execution_count": 9,
     "metadata": {},
     "output_type": "execute_result"
    }
   ],
   "source": [
    "# Basic statistics of the Ratings_df data frame\n",
    "Ratings_df.describe()"
   ]
  },
  {
   "cell_type": "code",
   "execution_count": 10,
   "metadata": {
    "collapsed": false
   },
   "outputs": [
    {
     "data": {
      "text/html": [
       "<div>\n",
       "<table border=\"1\" class=\"dataframe\">\n",
       "  <thead>\n",
       "    <tr style=\"text-align: right;\">\n",
       "      <th></th>\n",
       "      <th>userId</th>\n",
       "      <th>counts</th>\n",
       "    </tr>\n",
       "  </thead>\n",
       "  <tbody>\n",
       "    <tr>\n",
       "      <th>count</th>\n",
       "      <td>671.000000</td>\n",
       "      <td>671.000000</td>\n",
       "    </tr>\n",
       "    <tr>\n",
       "      <th>mean</th>\n",
       "      <td>336.000000</td>\n",
       "      <td>149.037258</td>\n",
       "    </tr>\n",
       "    <tr>\n",
       "      <th>std</th>\n",
       "      <td>193.845299</td>\n",
       "      <td>231.226948</td>\n",
       "    </tr>\n",
       "    <tr>\n",
       "      <th>min</th>\n",
       "      <td>1.000000</td>\n",
       "      <td>20.000000</td>\n",
       "    </tr>\n",
       "    <tr>\n",
       "      <th>25%</th>\n",
       "      <td>168.500000</td>\n",
       "      <td>37.000000</td>\n",
       "    </tr>\n",
       "    <tr>\n",
       "      <th>50%</th>\n",
       "      <td>336.000000</td>\n",
       "      <td>71.000000</td>\n",
       "    </tr>\n",
       "    <tr>\n",
       "      <th>75%</th>\n",
       "      <td>503.500000</td>\n",
       "      <td>161.000000</td>\n",
       "    </tr>\n",
       "    <tr>\n",
       "      <th>max</th>\n",
       "      <td>671.000000</td>\n",
       "      <td>2391.000000</td>\n",
       "    </tr>\n",
       "  </tbody>\n",
       "</table>\n",
       "</div>"
      ],
      "text/plain": [
       "           userId       counts\n",
       "count  671.000000   671.000000\n",
       "mean   336.000000   149.037258\n",
       "std    193.845299   231.226948\n",
       "min      1.000000    20.000000\n",
       "25%    168.500000    37.000000\n",
       "50%    336.000000    71.000000\n",
       "75%    503.500000   161.000000\n",
       "max    671.000000  2391.000000"
      ]
     },
     "execution_count": 10,
     "metadata": {},
     "output_type": "execute_result"
    }
   ],
   "source": [
    "# Verifying that users has at least 20 ratings and look for possible outliers or weird behaviors like the use of\n",
    "# boots to rate movies - looking for high count numbers in counts column \n",
    "Users_df = Ratings_df.groupby(['userId']).size().reset_index(name='counts')\n",
    "Users_df.describe()"
   ]
  },
  {
   "cell_type": "markdown",
   "metadata": {},
   "source": [
    "To summarize the output above, there are 671 total users. Of these 671 total users: 75% of them rated no more than 161 movies; the average was 149 movies per user; the minimum number of ratings per user was 20 movies rated; and, there was at least one user who rated 2,391 movies."
   ]
  },
  {
   "cell_type": "code",
   "execution_count": 11,
   "metadata": {
    "collapsed": false,
    "scrolled": true
   },
   "outputs": [
    {
     "data": {
      "text/plain": [
       "<matplotlib.axes._subplots.AxesSubplot at 0x215b2f28>"
      ]
     },
     "execution_count": 11,
     "metadata": {},
     "output_type": "execute_result"
    },
    {
     "data": {
      "image/png": "[encoded data removed]",
      "text/plain": [
       "<matplotlib.figure.Figure at 0x215b2630>"
      ]
     },
     "metadata": {},
     "output_type": "display_data"
    }
   ],
   "source": [
    "# Scatter plot for the user with number of ratings\n",
    "Users_df.plot(kind='scatter', x='userId', y='counts')"
   ]
  },
  {
   "cell_type": "markdown",
   "metadata": {},
   "source": [
    "Based on the previous graphic we identified some outliers and we took the decision to remove them.\n",
    "Upper and lower fences cordon off outliers from the bulk of data in a set. \n",
    "\n",
    "To determine the fence values we used the following values:\n",
    "- Upper fence = Q3 + (1.5 * IQR)\n",
    "- Lower fence = Q1 – (1.5 * IQR).\n",
    "\n",
    "Using Interquartile range (IQR): Q3 - Q1 = 161-37 = 124\n",
    "- Upper fence = 161 + (1.5*124) = 161+ 186 = 347\n",
    "- Lower fence = 37 - (1.5*124) = 37 - 186 = -147\n",
    "\n",
    "Thus, the boundaries of our inner fence are -147 and 347.\n",
    "\n",
    "**So we decided to remove from our Ratings data set all the users who rated more than 347 movies that we identified as upper fence limit.**"
   ]
  },
  {
   "cell_type": "code",
   "execution_count": 12,
   "metadata": {
    "collapsed": false
   },
   "outputs": [
    {
     "name": "stdout",
     "output_type": "stream",
     "text": [
      "Number of users that rated more than 347 movies: 60\n"
     ]
    }
   ],
   "source": [
    "# Calculate how many users rated more than 347 movies\n",
    "print(\"Number of users that rated more than 347 movies: %d\" %(Users_df['counts'] > 347).sum())"
   ]
  },
  {
   "cell_type": "code",
   "execution_count": 13,
   "metadata": {
    "collapsed": false
   },
   "outputs": [],
   "source": [
    "# Create an array that has all the usersId's who rated more than 347 movies, total = 60 users\n",
    "arr1 = Users_df['userId'].loc[Users_df['counts'] > 347]\n",
    "\n",
    "# Create new Ratings data set without users who rated more than 347 movies\n",
    "NewRatings_df = Ratings_df[(Ratings_df['userId'].isin(arr1)==False)]"
   ]
  },
  {
   "cell_type": "markdown",
   "metadata": {},
   "source": [
    "After removing outiliers our new Ratings data frame has the following:"
   ]
  },
  {
   "cell_type": "code",
   "execution_count": 14,
   "metadata": {
    "collapsed": false
   },
   "outputs": [
    {
     "name": "stdout",
     "output_type": "stream",
     "text": [
      "Number of users = 611 | Number of movies = 6101\n"
     ]
    }
   ],
   "source": [
    "print 'Number of users = ' + str(NewRatings_df.userId.unique().shape[0]) + ' | Number of movies = ' + \\\n",
    "    str(NewRatings_df.movieId.unique().shape[0])"
   ]
  },
  {
   "cell_type": "code",
   "execution_count": 111,
   "metadata": {
    "collapsed": false
   },
   "outputs": [
    {
     "data": {
      "text/plain": [
       "<matplotlib.axes._subplots.AxesSubplot at 0x419de7f0>"
      ]
     },
     "execution_count": 111,
     "metadata": {},
     "output_type": "execute_result"
    },
    {
     "data": {
      "image/png": "[encoded data removed]",
      "text/plain": [
       "<matplotlib.figure.Figure at 0x48f673c8>"
      ]
     },
     "metadata": {},
     "output_type": "display_data"
    }
   ],
   "source": [
    "# New data set without 60 users who rated more than 347 movies (outliers)\n",
    "Usr_df = NewRatings_df.groupby(['userId']).size().reset_index(name='counts')\n",
    "\n",
    "# Scatter plot for the user with number of ratings\n",
    "Usr_df.plot(kind='scatter', x='userId', y='counts')"
   ]
  },
  {
   "cell_type": "markdown",
   "metadata": {},
   "source": [
    "This plot shows the number of rated movies by user, without outliers, and the data appears better distributed."
   ]
  },
  {
   "cell_type": "code",
   "execution_count": 16,
   "metadata": {
    "collapsed": false
   },
   "outputs": [
    {
     "data": {
      "text/html": [
       "<div>\n",
       "<table border=\"1\" class=\"dataframe\">\n",
       "  <thead>\n",
       "    <tr style=\"text-align: right;\">\n",
       "      <th></th>\n",
       "      <th>userId</th>\n",
       "      <th>movieId</th>\n",
       "      <th>rating</th>\n",
       "      <th>timestamp</th>\n",
       "    </tr>\n",
       "  </thead>\n",
       "  <tbody>\n",
       "    <tr>\n",
       "      <th>count</th>\n",
       "      <td>56768.000000</td>\n",
       "      <td>56768.000000</td>\n",
       "      <td>56768.000000</td>\n",
       "      <td>5.676800e+04</td>\n",
       "    </tr>\n",
       "    <tr>\n",
       "      <th>mean</th>\n",
       "      <td>335.731433</td>\n",
       "      <td>10955.359199</td>\n",
       "      <td>3.698281</td>\n",
       "      <td>1.122936e+09</td>\n",
       "    </tr>\n",
       "    <tr>\n",
       "      <th>std</th>\n",
       "      <td>188.820803</td>\n",
       "      <td>24467.137689</td>\n",
       "      <td>1.037846</td>\n",
       "      <td>2.033279e+08</td>\n",
       "    </tr>\n",
       "    <tr>\n",
       "      <th>min</th>\n",
       "      <td>1.000000</td>\n",
       "      <td>1.000000</td>\n",
       "      <td>0.500000</td>\n",
       "      <td>7.896520e+08</td>\n",
       "    </tr>\n",
       "    <tr>\n",
       "      <th>25%</th>\n",
       "      <td>175.000000</td>\n",
       "      <td>673.000000</td>\n",
       "      <td>3.000000</td>\n",
       "      <td>9.532728e+08</td>\n",
       "    </tr>\n",
       "    <tr>\n",
       "      <th>50%</th>\n",
       "      <td>342.000000</td>\n",
       "      <td>2010.000000</td>\n",
       "      <td>4.000000</td>\n",
       "      <td>1.109967e+09</td>\n",
       "    </tr>\n",
       "    <tr>\n",
       "      <th>75%</th>\n",
       "      <td>501.000000</td>\n",
       "      <td>4776.000000</td>\n",
       "      <td>4.500000</td>\n",
       "      <td>1.298379e+09</td>\n",
       "    </tr>\n",
       "    <tr>\n",
       "      <th>max</th>\n",
       "      <td>671.000000</td>\n",
       "      <td>162672.000000</td>\n",
       "      <td>5.000000</td>\n",
       "      <td>1.476641e+09</td>\n",
       "    </tr>\n",
       "  </tbody>\n",
       "</table>\n",
       "</div>"
      ],
      "text/plain": [
       "             userId        movieId        rating     timestamp\n",
       "count  56768.000000   56768.000000  56768.000000  5.676800e+04\n",
       "mean     335.731433   10955.359199      3.698281  1.122936e+09\n",
       "std      188.820803   24467.137689      1.037846  2.033279e+08\n",
       "min        1.000000       1.000000      0.500000  7.896520e+08\n",
       "25%      175.000000     673.000000      3.000000  9.532728e+08\n",
       "50%      342.000000    2010.000000      4.000000  1.109967e+09\n",
       "75%      501.000000    4776.000000      4.500000  1.298379e+09\n",
       "max      671.000000  162672.000000      5.000000  1.476641e+09"
      ]
     },
     "execution_count": 16,
     "metadata": {},
     "output_type": "execute_result"
    }
   ],
   "source": [
    "# Basic stats for the new data set based on the elimination of the users/ratings identified in the outliers \n",
    "NewRatings_df.describe()"
   ]
  },
  {
   "cell_type": "markdown",
   "metadata": {},
   "source": [
    "It was decided to split the movie title string to get the year that the movie was released - to see which are the years movie relleases garnered the greatest user interest."
   ]
  },
  {
   "cell_type": "code",
   "execution_count": 17,
   "metadata": {
    "collapsed": false
   },
   "outputs": [],
   "source": [
    "# Split Movie title and release year\n",
    "Movies_df['ORIG_TITLE'] = Movies_df['title']  #Keep the original movie title\n",
    "\n",
    "for i in range(0, len(Movies_df)):\n",
    "    str1 = Movies_df.iloc[i]['ORIG_TITLE']\n",
    "    lenstr1 = len(str1)\n",
    "    Movies_df.set_value(i,'YEAR', str1[lenstr1-5:lenstr1-1])"
   ]
  },
  {
   "cell_type": "code",
   "execution_count": 18,
   "metadata": {
    "collapsed": true
   },
   "outputs": [],
   "source": [
    "# Clean up of movie title and year\n",
    "Movies_df['title'] = Movies_df['ORIG_TITLE'].str.split('(', 1).str[0].str.strip()\n",
    "Movies_df['YEAR'] = Movies_df['YEAR'].str.extract('(\\d+)', expand=False)"
   ]
  },
  {
   "cell_type": "code",
   "execution_count": 19,
   "metadata": {
    "collapsed": false,
    "scrolled": true
   },
   "outputs": [
    {
     "name": "stdout",
     "output_type": "stream",
     "text": [
      "<class 'pandas.core.frame.DataFrame'>\n",
      "RangeIndex: 9125 entries, 0 to 9124\n",
      "Data columns (total 5 columns):\n",
      "movieId       9125 non-null int64\n",
      "title         9125 non-null object\n",
      "genres        9125 non-null object\n",
      "ORIG_TITLE    9125 non-null object\n",
      "YEAR          9121 non-null object\n",
      "dtypes: int64(1), object(4)\n",
      "memory usage: 356.5+ KB\n"
     ]
    }
   ],
   "source": [
    "# Movies data frame to verify any missing information (null values)\n",
    "Movies_df.info()"
   ]
  },
  {
   "cell_type": "code",
   "execution_count": 20,
   "metadata": {
    "collapsed": false
   },
   "outputs": [
    {
     "data": {
      "text/html": [
       "<div>\n",
       "<table border=\"1\" class=\"dataframe\">\n",
       "  <thead>\n",
       "    <tr style=\"text-align: right;\">\n",
       "      <th></th>\n",
       "      <th>movieId</th>\n",
       "      <th>title</th>\n",
       "      <th>genres</th>\n",
       "      <th>ORIG_TITLE</th>\n",
       "      <th>YEAR</th>\n",
       "    </tr>\n",
       "  </thead>\n",
       "  <tbody>\n",
       "    <tr>\n",
       "      <th>7269</th>\n",
       "      <td>69757</td>\n",
       "      <td></td>\n",
       "      <td>Comedy|Drama|Romance</td>\n",
       "      <td>(500) Days of Summer (2009)</td>\n",
       "      <td>2009</td>\n",
       "    </tr>\n",
       "  </tbody>\n",
       "</table>\n",
       "</div>"
      ],
      "text/plain": [
       "      movieId title                genres                   ORIG_TITLE  YEAR\n",
       "7269    69757        Comedy|Drama|Romance  (500) Days of Summer (2009)  2009"
      ]
     },
     "execution_count": 20,
     "metadata": {},
     "output_type": "execute_result"
    }
   ],
   "source": [
    "# Identify any missing values in title in this case a unique movie name was identify and will be populated manually to avoid \n",
    "# possible problems of missing information in the analysis\n",
    "# The movie title is unique because starts with \"(\" that is used for the release year\n",
    "Movies_df.loc[Movies_df['title'] == \"\"]  # movieId = 69757"
   ]
  },
  {
   "cell_type": "code",
   "execution_count": 21,
   "metadata": {
    "collapsed": false
   },
   "outputs": [],
   "source": [
    "# Update manually the missing title\n",
    "Movies_df.loc[Movies_df['movieId'] == 69757, 'title'] = \"(500) Days of Summer\""
   ]
  },
  {
   "cell_type": "code",
   "execution_count": 22,
   "metadata": {
    "collapsed": false
   },
   "outputs": [
    {
     "name": "stdout",
     "output_type": "stream",
     "text": [
      "Total of  movies with no release year: 4\n"
     ]
    }
   ],
   "source": [
    "# Year of 4 movies are null so will be replace by 1000 and be consistent in data format \n",
    "print(\"Total of  movies with no release year: %d\" %Movies_df['YEAR'].isnull().sum())\n",
    "Movies_df.loc[Movies_df['YEAR'].isnull(), 'YEAR'] = \"1000\""
   ]
  },
  {
   "cell_type": "code",
   "execution_count": 23,
   "metadata": {
    "collapsed": false
   },
   "outputs": [
    {
     "name": "stdout",
     "output_type": "stream",
     "text": [
      "20 years with the highest number of movies released:\n",
      "     YEAR  counts\n",
      "86   1996     275\n",
      "90   2000     273\n",
      "92   2002     272\n",
      "88   1998     272\n",
      "91   2001     267\n",
      "87   1997     267\n",
      "85   1995     266\n",
      "89   1999     261\n",
      "96   2006     261\n",
      "97   2007     255\n",
      "99   2009     255\n",
      "94   2004     247\n",
      "98   2008     247\n",
      "84   1994     240\n",
      "93   2003     238\n",
      "95   2005     233\n",
      "101  2011     227\n",
      "100  2010     227\n",
      "103  2013     224\n",
      "102  2012     222\n"
     ]
    },
    {
     "data": {
      "text/plain": [
       "<matplotlib.figure.Figure at 0x21e16e80>"
      ]
     },
     "metadata": {},
     "output_type": "display_data"
    },
    {
     "data": {
      "image/png": "[encoded data removed]",
      "text/plain": [
       "<matplotlib.figure.Figure at 0x21e16550>"
      ]
     },
     "metadata": {},
     "output_type": "display_data"
    }
   ],
   "source": [
    "# Checking how many ratings a movie has, in this case was min =1 and max = 341\n",
    "Moviesg_df = Movies_df.groupby(['YEAR']).size().reset_index(name='counts')\n",
    "print(\"20 years with the highest number of movies released:\")\n",
    "print(Moviesg_df.sort_values('counts', ascending=False).head(20))\n",
    "\n",
    "# Plot of the movies per year\n",
    "plt.figure(figsize=(25,25))\n",
    "Moviesg_df.sort_values('counts', ascending=False).head(20).plot('YEAR', kind='bar', color='c', width=0.5, \n",
    "                                                                title=\"Number of  movies release by year (20 highest)\");"
   ]
  },
  {
   "cell_type": "markdown",
   "metadata": {},
   "source": [
    "The table and bar plot displayed above shows the 20 years that movies relaeses had the highest number of ratings submitted, regardles, regardless of the rating value that will be analysed later. "
   ]
  },
  {
   "cell_type": "markdown",
   "metadata": {},
   "source": [
    "The following code will use movie genre information to see more statistics in the dataset"
   ]
  },
  {
   "cell_type": "code",
   "execution_count": 24,
   "metadata": {
    "collapsed": true
   },
   "outputs": [],
   "source": [
    "# We did a Hot coding for movie's genres to be able to run some reporting on movie genre information \n",
    "Movies_df['ACTION'] = np.where(Movies_df['genres'].str.contains(\"Action\")==True,1,0)\n",
    "Movies_df['ADVENTURE'] = np.where(Movies_df['genres'].str.contains(\"Adventure\")==True,1,0)\n",
    "Movies_df['ANIMATION'] = np.where(Movies_df['genres'].str.contains(\"Animation\")==True,1,0)\n",
    "Movies_df['CHILDREN'] = np.where(Movies_df['genres'].str.contains(\"Children\")==True,1,0)\n",
    "Movies_df['COMEDY'] = np.where(Movies_df['genres'].str.contains(\"Comedy\")==True,1,0)\n",
    "Movies_df['CRIME'] = np.where(Movies_df['genres'].str.contains(\"Crime\")==True,1,0)\n",
    "Movies_df['DOCUMENTARY'] = np.where(Movies_df['genres'].str.contains(\"Documentary\")==True,1,0)\n",
    "Movies_df['DRAMA'] = np.where(Movies_df['genres'].str.contains(\"Drama\")==True,1,0)\n",
    "Movies_df['FANTASY'] = np.where(Movies_df['genres'].str.contains(\"Fantasy\")==True,1,0)\n",
    "Movies_df['FILM-NOIR'] = np.where(Movies_df['genres'].str.contains(\"Film-Noir\")==True,1,0)\n",
    "Movies_df['HORROR'] = np.where(Movies_df['genres'].str.contains(\"Horror\")==True,1,0)\n",
    "Movies_df['MUSICAL'] = np.where(Movies_df['genres'].str.contains(\"Musical\")==True,1,0)\n",
    "Movies_df['MYSTERY'] = np.where(Movies_df['genres'].str.contains(\"Mystery\")==True,1,0)\n",
    "Movies_df['ROMANCE'] = np.where(Movies_df['genres'].str.contains(\"Romance\")==True,1,0)\n",
    "Movies_df['SCI-FI'] = np.where(Movies_df['genres'].str.contains(\"Sci-Fi\")==True,1,0)\n",
    "Movies_df['THRILLER'] = np.where(Movies_df['genres'].str.contains(\"Thriller\")==True,1,0)\n",
    "Movies_df['WAR'] = np.where(Movies_df['genres'].str.contains(\"War\")==True,1,0)\n",
    "Movies_df['WESTERN'] = np.where(Movies_df['genres'].str.contains(\"Western\")==True,1,0)"
   ]
  },
  {
   "cell_type": "code",
   "execution_count": 25,
   "metadata": {
    "collapsed": false
   },
   "outputs": [
    {
     "name": "stdout",
     "output_type": "stream",
     "text": [
      "<class 'pandas.core.frame.DataFrame'>\n",
      "RangeIndex: 9125 entries, 0 to 9124\n",
      "Data columns (total 23 columns):\n",
      "movieId        9125 non-null int64\n",
      "title          9125 non-null object\n",
      "genres         9125 non-null object\n",
      "ORIG_TITLE     9125 non-null object\n",
      "YEAR           9125 non-null object\n",
      "ACTION         9125 non-null int32\n",
      "ADVENTURE      9125 non-null int32\n",
      "ANIMATION      9125 non-null int32\n",
      "CHILDREN       9125 non-null int32\n",
      "COMEDY         9125 non-null int32\n",
      "CRIME          9125 non-null int32\n",
      "DOCUMENTARY    9125 non-null int32\n",
      "DRAMA          9125 non-null int32\n",
      "FANTASY        9125 non-null int32\n",
      "FILM-NOIR      9125 non-null int32\n",
      "HORROR         9125 non-null int32\n",
      "MUSICAL        9125 non-null int32\n",
      "MYSTERY        9125 non-null int32\n",
      "ROMANCE        9125 non-null int32\n",
      "SCI-FI         9125 non-null int32\n",
      "THRILLER       9125 non-null int32\n",
      "WAR            9125 non-null int32\n",
      "WESTERN        9125 non-null int32\n",
      "dtypes: int32(18), int64(1), object(4)\n",
      "memory usage: 998.1+ KB\n"
     ]
    }
   ],
   "source": [
    "# Data frame with columns for each genre\n",
    "Movies_df.info()"
   ]
  },
  {
   "cell_type": "code",
   "execution_count": 26,
   "metadata": {
    "collapsed": false
   },
   "outputs": [],
   "source": [
    "# Creation of a new data frame that holds rates and movies information \n",
    "Rating_movies = pd.merge(NewRatings_df, Movies_df, on='movieId')"
   ]
  },
  {
   "cell_type": "code",
   "execution_count": 27,
   "metadata": {
    "collapsed": true
   },
   "outputs": [],
   "source": [
    "# Drop the columns that we think are not useful for our model\n",
    "Rating_movies.drop(['genres', 'timestamp'], axis=1, inplace=True)"
   ]
  },
  {
   "cell_type": "code",
   "execution_count": 28,
   "metadata": {
    "collapsed": false
   },
   "outputs": [
    {
     "data": {
      "text/html": [
       "<div>\n",
       "<table border=\"1\" class=\"dataframe\">\n",
       "  <thead>\n",
       "    <tr style=\"text-align: right;\">\n",
       "      <th></th>\n",
       "      <th>userId</th>\n",
       "      <th>movieId</th>\n",
       "      <th>rating</th>\n",
       "      <th>title</th>\n",
       "      <th>ORIG_TITLE</th>\n",
       "      <th>YEAR</th>\n",
       "      <th>ACTION</th>\n",
       "      <th>ADVENTURE</th>\n",
       "      <th>ANIMATION</th>\n",
       "      <th>CHILDREN</th>\n",
       "      <th>...</th>\n",
       "      <th>FANTASY</th>\n",
       "      <th>FILM-NOIR</th>\n",
       "      <th>HORROR</th>\n",
       "      <th>MUSICAL</th>\n",
       "      <th>MYSTERY</th>\n",
       "      <th>ROMANCE</th>\n",
       "      <th>SCI-FI</th>\n",
       "      <th>THRILLER</th>\n",
       "      <th>WAR</th>\n",
       "      <th>WESTERN</th>\n",
       "    </tr>\n",
       "  </thead>\n",
       "  <tbody>\n",
       "    <tr>\n",
       "      <th>0</th>\n",
       "      <td>1</td>\n",
       "      <td>31</td>\n",
       "      <td>2.5</td>\n",
       "      <td>Dangerous Minds</td>\n",
       "      <td>Dangerous Minds (1995)</td>\n",
       "      <td>1995</td>\n",
       "      <td>0</td>\n",
       "      <td>0</td>\n",
       "      <td>0</td>\n",
       "      <td>0</td>\n",
       "      <td>...</td>\n",
       "      <td>0</td>\n",
       "      <td>0</td>\n",
       "      <td>0</td>\n",
       "      <td>0</td>\n",
       "      <td>0</td>\n",
       "      <td>0</td>\n",
       "      <td>0</td>\n",
       "      <td>0</td>\n",
       "      <td>0</td>\n",
       "      <td>0</td>\n",
       "    </tr>\n",
       "    <tr>\n",
       "      <th>1</th>\n",
       "      <td>7</td>\n",
       "      <td>31</td>\n",
       "      <td>3.0</td>\n",
       "      <td>Dangerous Minds</td>\n",
       "      <td>Dangerous Minds (1995)</td>\n",
       "      <td>1995</td>\n",
       "      <td>0</td>\n",
       "      <td>0</td>\n",
       "      <td>0</td>\n",
       "      <td>0</td>\n",
       "      <td>...</td>\n",
       "      <td>0</td>\n",
       "      <td>0</td>\n",
       "      <td>0</td>\n",
       "      <td>0</td>\n",
       "      <td>0</td>\n",
       "      <td>0</td>\n",
       "      <td>0</td>\n",
       "      <td>0</td>\n",
       "      <td>0</td>\n",
       "      <td>0</td>\n",
       "    </tr>\n",
       "    <tr>\n",
       "      <th>2</th>\n",
       "      <td>31</td>\n",
       "      <td>31</td>\n",
       "      <td>4.0</td>\n",
       "      <td>Dangerous Minds</td>\n",
       "      <td>Dangerous Minds (1995)</td>\n",
       "      <td>1995</td>\n",
       "      <td>0</td>\n",
       "      <td>0</td>\n",
       "      <td>0</td>\n",
       "      <td>0</td>\n",
       "      <td>...</td>\n",
       "      <td>0</td>\n",
       "      <td>0</td>\n",
       "      <td>0</td>\n",
       "      <td>0</td>\n",
       "      <td>0</td>\n",
       "      <td>0</td>\n",
       "      <td>0</td>\n",
       "      <td>0</td>\n",
       "      <td>0</td>\n",
       "      <td>0</td>\n",
       "    </tr>\n",
       "    <tr>\n",
       "      <th>3</th>\n",
       "      <td>32</td>\n",
       "      <td>31</td>\n",
       "      <td>4.0</td>\n",
       "      <td>Dangerous Minds</td>\n",
       "      <td>Dangerous Minds (1995)</td>\n",
       "      <td>1995</td>\n",
       "      <td>0</td>\n",
       "      <td>0</td>\n",
       "      <td>0</td>\n",
       "      <td>0</td>\n",
       "      <td>...</td>\n",
       "      <td>0</td>\n",
       "      <td>0</td>\n",
       "      <td>0</td>\n",
       "      <td>0</td>\n",
       "      <td>0</td>\n",
       "      <td>0</td>\n",
       "      <td>0</td>\n",
       "      <td>0</td>\n",
       "      <td>0</td>\n",
       "      <td>0</td>\n",
       "    </tr>\n",
       "    <tr>\n",
       "      <th>4</th>\n",
       "      <td>36</td>\n",
       "      <td>31</td>\n",
       "      <td>3.0</td>\n",
       "      <td>Dangerous Minds</td>\n",
       "      <td>Dangerous Minds (1995)</td>\n",
       "      <td>1995</td>\n",
       "      <td>0</td>\n",
       "      <td>0</td>\n",
       "      <td>0</td>\n",
       "      <td>0</td>\n",
       "      <td>...</td>\n",
       "      <td>0</td>\n",
       "      <td>0</td>\n",
       "      <td>0</td>\n",
       "      <td>0</td>\n",
       "      <td>0</td>\n",
       "      <td>0</td>\n",
       "      <td>0</td>\n",
       "      <td>0</td>\n",
       "      <td>0</td>\n",
       "      <td>0</td>\n",
       "    </tr>\n",
       "    <tr>\n",
       "      <th>5</th>\n",
       "      <td>39</td>\n",
       "      <td>31</td>\n",
       "      <td>3.0</td>\n",
       "      <td>Dangerous Minds</td>\n",
       "      <td>Dangerous Minds (1995)</td>\n",
       "      <td>1995</td>\n",
       "      <td>0</td>\n",
       "      <td>0</td>\n",
       "      <td>0</td>\n",
       "      <td>0</td>\n",
       "      <td>...</td>\n",
       "      <td>0</td>\n",
       "      <td>0</td>\n",
       "      <td>0</td>\n",
       "      <td>0</td>\n",
       "      <td>0</td>\n",
       "      <td>0</td>\n",
       "      <td>0</td>\n",
       "      <td>0</td>\n",
       "      <td>0</td>\n",
       "      <td>0</td>\n",
       "    </tr>\n",
       "    <tr>\n",
       "      <th>6</th>\n",
       "      <td>88</td>\n",
       "      <td>31</td>\n",
       "      <td>3.0</td>\n",
       "      <td>Dangerous Minds</td>\n",
       "      <td>Dangerous Minds (1995)</td>\n",
       "      <td>1995</td>\n",
       "      <td>0</td>\n",
       "      <td>0</td>\n",
       "      <td>0</td>\n",
       "      <td>0</td>\n",
       "      <td>...</td>\n",
       "      <td>0</td>\n",
       "      <td>0</td>\n",
       "      <td>0</td>\n",
       "      <td>0</td>\n",
       "      <td>0</td>\n",
       "      <td>0</td>\n",
       "      <td>0</td>\n",
       "      <td>0</td>\n",
       "      <td>0</td>\n",
       "      <td>0</td>\n",
       "    </tr>\n",
       "    <tr>\n",
       "      <th>7</th>\n",
       "      <td>96</td>\n",
       "      <td>31</td>\n",
       "      <td>2.5</td>\n",
       "      <td>Dangerous Minds</td>\n",
       "      <td>Dangerous Minds (1995)</td>\n",
       "      <td>1995</td>\n",
       "      <td>0</td>\n",
       "      <td>0</td>\n",
       "      <td>0</td>\n",
       "      <td>0</td>\n",
       "      <td>...</td>\n",
       "      <td>0</td>\n",
       "      <td>0</td>\n",
       "      <td>0</td>\n",
       "      <td>0</td>\n",
       "      <td>0</td>\n",
       "      <td>0</td>\n",
       "      <td>0</td>\n",
       "      <td>0</td>\n",
       "      <td>0</td>\n",
       "      <td>0</td>\n",
       "    </tr>\n",
       "    <tr>\n",
       "      <th>8</th>\n",
       "      <td>110</td>\n",
       "      <td>31</td>\n",
       "      <td>4.0</td>\n",
       "      <td>Dangerous Minds</td>\n",
       "      <td>Dangerous Minds (1995)</td>\n",
       "      <td>1995</td>\n",
       "      <td>0</td>\n",
       "      <td>0</td>\n",
       "      <td>0</td>\n",
       "      <td>0</td>\n",
       "      <td>...</td>\n",
       "      <td>0</td>\n",
       "      <td>0</td>\n",
       "      <td>0</td>\n",
       "      <td>0</td>\n",
       "      <td>0</td>\n",
       "      <td>0</td>\n",
       "      <td>0</td>\n",
       "      <td>0</td>\n",
       "      <td>0</td>\n",
       "      <td>0</td>\n",
       "    </tr>\n",
       "    <tr>\n",
       "      <th>9</th>\n",
       "      <td>111</td>\n",
       "      <td>31</td>\n",
       "      <td>3.5</td>\n",
       "      <td>Dangerous Minds</td>\n",
       "      <td>Dangerous Minds (1995)</td>\n",
       "      <td>1995</td>\n",
       "      <td>0</td>\n",
       "      <td>0</td>\n",
       "      <td>0</td>\n",
       "      <td>0</td>\n",
       "      <td>...</td>\n",
       "      <td>0</td>\n",
       "      <td>0</td>\n",
       "      <td>0</td>\n",
       "      <td>0</td>\n",
       "      <td>0</td>\n",
       "      <td>0</td>\n",
       "      <td>0</td>\n",
       "      <td>0</td>\n",
       "      <td>0</td>\n",
       "      <td>0</td>\n",
       "    </tr>\n",
       "    <tr>\n",
       "      <th>10</th>\n",
       "      <td>161</td>\n",
       "      <td>31</td>\n",
       "      <td>3.0</td>\n",
       "      <td>Dangerous Minds</td>\n",
       "      <td>Dangerous Minds (1995)</td>\n",
       "      <td>1995</td>\n",
       "      <td>0</td>\n",
       "      <td>0</td>\n",
       "      <td>0</td>\n",
       "      <td>0</td>\n",
       "      <td>...</td>\n",
       "      <td>0</td>\n",
       "      <td>0</td>\n",
       "      <td>0</td>\n",
       "      <td>0</td>\n",
       "      <td>0</td>\n",
       "      <td>0</td>\n",
       "      <td>0</td>\n",
       "      <td>0</td>\n",
       "      <td>0</td>\n",
       "      <td>0</td>\n",
       "    </tr>\n",
       "    <tr>\n",
       "      <th>11</th>\n",
       "      <td>186</td>\n",
       "      <td>31</td>\n",
       "      <td>3.0</td>\n",
       "      <td>Dangerous Minds</td>\n",
       "      <td>Dangerous Minds (1995)</td>\n",
       "      <td>1995</td>\n",
       "      <td>0</td>\n",
       "      <td>0</td>\n",
       "      <td>0</td>\n",
       "      <td>0</td>\n",
       "      <td>...</td>\n",
       "      <td>0</td>\n",
       "      <td>0</td>\n",
       "      <td>0</td>\n",
       "      <td>0</td>\n",
       "      <td>0</td>\n",
       "      <td>0</td>\n",
       "      <td>0</td>\n",
       "      <td>0</td>\n",
       "      <td>0</td>\n",
       "      <td>0</td>\n",
       "    </tr>\n",
       "    <tr>\n",
       "      <th>12</th>\n",
       "      <td>254</td>\n",
       "      <td>31</td>\n",
       "      <td>3.0</td>\n",
       "      <td>Dangerous Minds</td>\n",
       "      <td>Dangerous Minds (1995)</td>\n",
       "      <td>1995</td>\n",
       "      <td>0</td>\n",
       "      <td>0</td>\n",
       "      <td>0</td>\n",
       "      <td>0</td>\n",
       "      <td>...</td>\n",
       "      <td>0</td>\n",
       "      <td>0</td>\n",
       "      <td>0</td>\n",
       "      <td>0</td>\n",
       "      <td>0</td>\n",
       "      <td>0</td>\n",
       "      <td>0</td>\n",
       "      <td>0</td>\n",
       "      <td>0</td>\n",
       "      <td>0</td>\n",
       "    </tr>\n",
       "    <tr>\n",
       "      <th>13</th>\n",
       "      <td>288</td>\n",
       "      <td>31</td>\n",
       "      <td>3.0</td>\n",
       "      <td>Dangerous Minds</td>\n",
       "      <td>Dangerous Minds (1995)</td>\n",
       "      <td>1995</td>\n",
       "      <td>0</td>\n",
       "      <td>0</td>\n",
       "      <td>0</td>\n",
       "      <td>0</td>\n",
       "      <td>...</td>\n",
       "      <td>0</td>\n",
       "      <td>0</td>\n",
       "      <td>0</td>\n",
       "      <td>0</td>\n",
       "      <td>0</td>\n",
       "      <td>0</td>\n",
       "      <td>0</td>\n",
       "      <td>0</td>\n",
       "      <td>0</td>\n",
       "      <td>0</td>\n",
       "    </tr>\n",
       "    <tr>\n",
       "      <th>14</th>\n",
       "      <td>310</td>\n",
       "      <td>31</td>\n",
       "      <td>1.5</td>\n",
       "      <td>Dangerous Minds</td>\n",
       "      <td>Dangerous Minds (1995)</td>\n",
       "      <td>1995</td>\n",
       "      <td>0</td>\n",
       "      <td>0</td>\n",
       "      <td>0</td>\n",
       "      <td>0</td>\n",
       "      <td>...</td>\n",
       "      <td>0</td>\n",
       "      <td>0</td>\n",
       "      <td>0</td>\n",
       "      <td>0</td>\n",
       "      <td>0</td>\n",
       "      <td>0</td>\n",
       "      <td>0</td>\n",
       "      <td>0</td>\n",
       "      <td>0</td>\n",
       "      <td>0</td>\n",
       "    </tr>\n",
       "    <tr>\n",
       "      <th>15</th>\n",
       "      <td>325</td>\n",
       "      <td>31</td>\n",
       "      <td>4.5</td>\n",
       "      <td>Dangerous Minds</td>\n",
       "      <td>Dangerous Minds (1995)</td>\n",
       "      <td>1995</td>\n",
       "      <td>0</td>\n",
       "      <td>0</td>\n",
       "      <td>0</td>\n",
       "      <td>0</td>\n",
       "      <td>...</td>\n",
       "      <td>0</td>\n",
       "      <td>0</td>\n",
       "      <td>0</td>\n",
       "      <td>0</td>\n",
       "      <td>0</td>\n",
       "      <td>0</td>\n",
       "      <td>0</td>\n",
       "      <td>0</td>\n",
       "      <td>0</td>\n",
       "      <td>0</td>\n",
       "    </tr>\n",
       "    <tr>\n",
       "      <th>16</th>\n",
       "      <td>338</td>\n",
       "      <td>31</td>\n",
       "      <td>3.0</td>\n",
       "      <td>Dangerous Minds</td>\n",
       "      <td>Dangerous Minds (1995)</td>\n",
       "      <td>1995</td>\n",
       "      <td>0</td>\n",
       "      <td>0</td>\n",
       "      <td>0</td>\n",
       "      <td>0</td>\n",
       "      <td>...</td>\n",
       "      <td>0</td>\n",
       "      <td>0</td>\n",
       "      <td>0</td>\n",
       "      <td>0</td>\n",
       "      <td>0</td>\n",
       "      <td>0</td>\n",
       "      <td>0</td>\n",
       "      <td>0</td>\n",
       "      <td>0</td>\n",
       "      <td>0</td>\n",
       "    </tr>\n",
       "    <tr>\n",
       "      <th>17</th>\n",
       "      <td>341</td>\n",
       "      <td>31</td>\n",
       "      <td>4.5</td>\n",
       "      <td>Dangerous Minds</td>\n",
       "      <td>Dangerous Minds (1995)</td>\n",
       "      <td>1995</td>\n",
       "      <td>0</td>\n",
       "      <td>0</td>\n",
       "      <td>0</td>\n",
       "      <td>0</td>\n",
       "      <td>...</td>\n",
       "      <td>0</td>\n",
       "      <td>0</td>\n",
       "      <td>0</td>\n",
       "      <td>0</td>\n",
       "      <td>0</td>\n",
       "      <td>0</td>\n",
       "      <td>0</td>\n",
       "      <td>0</td>\n",
       "      <td>0</td>\n",
       "      <td>0</td>\n",
       "    </tr>\n",
       "    <tr>\n",
       "      <th>18</th>\n",
       "      <td>386</td>\n",
       "      <td>31</td>\n",
       "      <td>2.0</td>\n",
       "      <td>Dangerous Minds</td>\n",
       "      <td>Dangerous Minds (1995)</td>\n",
       "      <td>1995</td>\n",
       "      <td>0</td>\n",
       "      <td>0</td>\n",
       "      <td>0</td>\n",
       "      <td>0</td>\n",
       "      <td>...</td>\n",
       "      <td>0</td>\n",
       "      <td>0</td>\n",
       "      <td>0</td>\n",
       "      <td>0</td>\n",
       "      <td>0</td>\n",
       "      <td>0</td>\n",
       "      <td>0</td>\n",
       "      <td>0</td>\n",
       "      <td>0</td>\n",
       "      <td>0</td>\n",
       "    </tr>\n",
       "    <tr>\n",
       "      <th>19</th>\n",
       "      <td>394</td>\n",
       "      <td>31</td>\n",
       "      <td>2.0</td>\n",
       "      <td>Dangerous Minds</td>\n",
       "      <td>Dangerous Minds (1995)</td>\n",
       "      <td>1995</td>\n",
       "      <td>0</td>\n",
       "      <td>0</td>\n",
       "      <td>0</td>\n",
       "      <td>0</td>\n",
       "      <td>...</td>\n",
       "      <td>0</td>\n",
       "      <td>0</td>\n",
       "      <td>0</td>\n",
       "      <td>0</td>\n",
       "      <td>0</td>\n",
       "      <td>0</td>\n",
       "      <td>0</td>\n",
       "      <td>0</td>\n",
       "      <td>0</td>\n",
       "      <td>0</td>\n",
       "    </tr>\n",
       "    <tr>\n",
       "      <th>20</th>\n",
       "      <td>485</td>\n",
       "      <td>31</td>\n",
       "      <td>4.0</td>\n",
       "      <td>Dangerous Minds</td>\n",
       "      <td>Dangerous Minds (1995)</td>\n",
       "      <td>1995</td>\n",
       "      <td>0</td>\n",
       "      <td>0</td>\n",
       "      <td>0</td>\n",
       "      <td>0</td>\n",
       "      <td>...</td>\n",
       "      <td>0</td>\n",
       "      <td>0</td>\n",
       "      <td>0</td>\n",
       "      <td>0</td>\n",
       "      <td>0</td>\n",
       "      <td>0</td>\n",
       "      <td>0</td>\n",
       "      <td>0</td>\n",
       "      <td>0</td>\n",
       "      <td>0</td>\n",
       "    </tr>\n",
       "    <tr>\n",
       "      <th>21</th>\n",
       "      <td>487</td>\n",
       "      <td>31</td>\n",
       "      <td>5.0</td>\n",
       "      <td>Dangerous Minds</td>\n",
       "      <td>Dangerous Minds (1995)</td>\n",
       "      <td>1995</td>\n",
       "      <td>0</td>\n",
       "      <td>0</td>\n",
       "      <td>0</td>\n",
       "      <td>0</td>\n",
       "      <td>...</td>\n",
       "      <td>0</td>\n",
       "      <td>0</td>\n",
       "      <td>0</td>\n",
       "      <td>0</td>\n",
       "      <td>0</td>\n",
       "      <td>0</td>\n",
       "      <td>0</td>\n",
       "      <td>0</td>\n",
       "      <td>0</td>\n",
       "      <td>0</td>\n",
       "    </tr>\n",
       "    <tr>\n",
       "      <th>22</th>\n",
       "      <td>496</td>\n",
       "      <td>31</td>\n",
       "      <td>4.0</td>\n",
       "      <td>Dangerous Minds</td>\n",
       "      <td>Dangerous Minds (1995)</td>\n",
       "      <td>1995</td>\n",
       "      <td>0</td>\n",
       "      <td>0</td>\n",
       "      <td>0</td>\n",
       "      <td>0</td>\n",
       "      <td>...</td>\n",
       "      <td>0</td>\n",
       "      <td>0</td>\n",
       "      <td>0</td>\n",
       "      <td>0</td>\n",
       "      <td>0</td>\n",
       "      <td>0</td>\n",
       "      <td>0</td>\n",
       "      <td>0</td>\n",
       "      <td>0</td>\n",
       "      <td>0</td>\n",
       "    </tr>\n",
       "    <tr>\n",
       "      <th>23</th>\n",
       "      <td>511</td>\n",
       "      <td>31</td>\n",
       "      <td>4.0</td>\n",
       "      <td>Dangerous Minds</td>\n",
       "      <td>Dangerous Minds (1995)</td>\n",
       "      <td>1995</td>\n",
       "      <td>0</td>\n",
       "      <td>0</td>\n",
       "      <td>0</td>\n",
       "      <td>0</td>\n",
       "      <td>...</td>\n",
       "      <td>0</td>\n",
       "      <td>0</td>\n",
       "      <td>0</td>\n",
       "      <td>0</td>\n",
       "      <td>0</td>\n",
       "      <td>0</td>\n",
       "      <td>0</td>\n",
       "      <td>0</td>\n",
       "      <td>0</td>\n",
       "      <td>0</td>\n",
       "    </tr>\n",
       "    <tr>\n",
       "      <th>24</th>\n",
       "      <td>516</td>\n",
       "      <td>31</td>\n",
       "      <td>4.0</td>\n",
       "      <td>Dangerous Minds</td>\n",
       "      <td>Dangerous Minds (1995)</td>\n",
       "      <td>1995</td>\n",
       "      <td>0</td>\n",
       "      <td>0</td>\n",
       "      <td>0</td>\n",
       "      <td>0</td>\n",
       "      <td>...</td>\n",
       "      <td>0</td>\n",
       "      <td>0</td>\n",
       "      <td>0</td>\n",
       "      <td>0</td>\n",
       "      <td>0</td>\n",
       "      <td>0</td>\n",
       "      <td>0</td>\n",
       "      <td>0</td>\n",
       "      <td>0</td>\n",
       "      <td>0</td>\n",
       "    </tr>\n",
       "    <tr>\n",
       "      <th>25</th>\n",
       "      <td>525</td>\n",
       "      <td>31</td>\n",
       "      <td>4.0</td>\n",
       "      <td>Dangerous Minds</td>\n",
       "      <td>Dangerous Minds (1995)</td>\n",
       "      <td>1995</td>\n",
       "      <td>0</td>\n",
       "      <td>0</td>\n",
       "      <td>0</td>\n",
       "      <td>0</td>\n",
       "      <td>...</td>\n",
       "      <td>0</td>\n",
       "      <td>0</td>\n",
       "      <td>0</td>\n",
       "      <td>0</td>\n",
       "      <td>0</td>\n",
       "      <td>0</td>\n",
       "      <td>0</td>\n",
       "      <td>0</td>\n",
       "      <td>0</td>\n",
       "      <td>0</td>\n",
       "    </tr>\n",
       "    <tr>\n",
       "      <th>26</th>\n",
       "      <td>590</td>\n",
       "      <td>31</td>\n",
       "      <td>3.0</td>\n",
       "      <td>Dangerous Minds</td>\n",
       "      <td>Dangerous Minds (1995)</td>\n",
       "      <td>1995</td>\n",
       "      <td>0</td>\n",
       "      <td>0</td>\n",
       "      <td>0</td>\n",
       "      <td>0</td>\n",
       "      <td>...</td>\n",
       "      <td>0</td>\n",
       "      <td>0</td>\n",
       "      <td>0</td>\n",
       "      <td>0</td>\n",
       "      <td>0</td>\n",
       "      <td>0</td>\n",
       "      <td>0</td>\n",
       "      <td>0</td>\n",
       "      <td>0</td>\n",
       "      <td>0</td>\n",
       "    </tr>\n",
       "    <tr>\n",
       "      <th>27</th>\n",
       "      <td>601</td>\n",
       "      <td>31</td>\n",
       "      <td>3.0</td>\n",
       "      <td>Dangerous Minds</td>\n",
       "      <td>Dangerous Minds (1995)</td>\n",
       "      <td>1995</td>\n",
       "      <td>0</td>\n",
       "      <td>0</td>\n",
       "      <td>0</td>\n",
       "      <td>0</td>\n",
       "      <td>...</td>\n",
       "      <td>0</td>\n",
       "      <td>0</td>\n",
       "      <td>0</td>\n",
       "      <td>0</td>\n",
       "      <td>0</td>\n",
       "      <td>0</td>\n",
       "      <td>0</td>\n",
       "      <td>0</td>\n",
       "      <td>0</td>\n",
       "      <td>0</td>\n",
       "    </tr>\n",
       "    <tr>\n",
       "      <th>28</th>\n",
       "      <td>619</td>\n",
       "      <td>31</td>\n",
       "      <td>3.0</td>\n",
       "      <td>Dangerous Minds</td>\n",
       "      <td>Dangerous Minds (1995)</td>\n",
       "      <td>1995</td>\n",
       "      <td>0</td>\n",
       "      <td>0</td>\n",
       "      <td>0</td>\n",
       "      <td>0</td>\n",
       "      <td>...</td>\n",
       "      <td>0</td>\n",
       "      <td>0</td>\n",
       "      <td>0</td>\n",
       "      <td>0</td>\n",
       "      <td>0</td>\n",
       "      <td>0</td>\n",
       "      <td>0</td>\n",
       "      <td>0</td>\n",
       "      <td>0</td>\n",
       "      <td>0</td>\n",
       "    </tr>\n",
       "    <tr>\n",
       "      <th>29</th>\n",
       "      <td>639</td>\n",
       "      <td>31</td>\n",
       "      <td>3.0</td>\n",
       "      <td>Dangerous Minds</td>\n",
       "      <td>Dangerous Minds (1995)</td>\n",
       "      <td>1995</td>\n",
       "      <td>0</td>\n",
       "      <td>0</td>\n",
       "      <td>0</td>\n",
       "      <td>0</td>\n",
       "      <td>...</td>\n",
       "      <td>0</td>\n",
       "      <td>0</td>\n",
       "      <td>0</td>\n",
       "      <td>0</td>\n",
       "      <td>0</td>\n",
       "      <td>0</td>\n",
       "      <td>0</td>\n",
       "      <td>0</td>\n",
       "      <td>0</td>\n",
       "      <td>0</td>\n",
       "    </tr>\n",
       "    <tr>\n",
       "      <th>...</th>\n",
       "      <td>...</td>\n",
       "      <td>...</td>\n",
       "      <td>...</td>\n",
       "      <td>...</td>\n",
       "      <td>...</td>\n",
       "      <td>...</td>\n",
       "      <td>...</td>\n",
       "      <td>...</td>\n",
       "      <td>...</td>\n",
       "      <td>...</td>\n",
       "      <td>...</td>\n",
       "      <td>...</td>\n",
       "      <td>...</td>\n",
       "      <td>...</td>\n",
       "      <td>...</td>\n",
       "      <td>...</td>\n",
       "      <td>...</td>\n",
       "      <td>...</td>\n",
       "      <td>...</td>\n",
       "      <td>...</td>\n",
       "      <td>...</td>\n",
       "    </tr>\n",
       "    <tr>\n",
       "      <th>56738</th>\n",
       "      <td>655</td>\n",
       "      <td>116397</td>\n",
       "      <td>4.0</td>\n",
       "      <td>Stonehearst Asylum</td>\n",
       "      <td>Stonehearst Asylum (2014)</td>\n",
       "      <td>2014</td>\n",
       "      <td>0</td>\n",
       "      <td>0</td>\n",
       "      <td>0</td>\n",
       "      <td>0</td>\n",
       "      <td>...</td>\n",
       "      <td>0</td>\n",
       "      <td>0</td>\n",
       "      <td>0</td>\n",
       "      <td>0</td>\n",
       "      <td>0</td>\n",
       "      <td>0</td>\n",
       "      <td>0</td>\n",
       "      <td>1</td>\n",
       "      <td>0</td>\n",
       "      <td>0</td>\n",
       "    </tr>\n",
       "    <tr>\n",
       "      <th>56739</th>\n",
       "      <td>655</td>\n",
       "      <td>143859</td>\n",
       "      <td>3.0</td>\n",
       "      <td>Hail, Caesar!</td>\n",
       "      <td>Hail, Caesar! (2016)</td>\n",
       "      <td>2016</td>\n",
       "      <td>0</td>\n",
       "      <td>0</td>\n",
       "      <td>0</td>\n",
       "      <td>0</td>\n",
       "      <td>...</td>\n",
       "      <td>0</td>\n",
       "      <td>0</td>\n",
       "      <td>0</td>\n",
       "      <td>0</td>\n",
       "      <td>0</td>\n",
       "      <td>0</td>\n",
       "      <td>0</td>\n",
       "      <td>0</td>\n",
       "      <td>0</td>\n",
       "      <td>0</td>\n",
       "    </tr>\n",
       "    <tr>\n",
       "      <th>56740</th>\n",
       "      <td>655</td>\n",
       "      <td>158314</td>\n",
       "      <td>4.5</td>\n",
       "      <td>Daniel Tosh: Completely Serious</td>\n",
       "      <td>Daniel Tosh: Completely Serious (2007)</td>\n",
       "      <td>2007</td>\n",
       "      <td>0</td>\n",
       "      <td>0</td>\n",
       "      <td>0</td>\n",
       "      <td>0</td>\n",
       "      <td>...</td>\n",
       "      <td>0</td>\n",
       "      <td>0</td>\n",
       "      <td>0</td>\n",
       "      <td>0</td>\n",
       "      <td>0</td>\n",
       "      <td>0</td>\n",
       "      <td>0</td>\n",
       "      <td>0</td>\n",
       "      <td>0</td>\n",
       "      <td>0</td>\n",
       "    </tr>\n",
       "    <tr>\n",
       "      <th>56741</th>\n",
       "      <td>656</td>\n",
       "      <td>1692</td>\n",
       "      <td>5.0</td>\n",
       "      <td>Alien Escape</td>\n",
       "      <td>Alien Escape (1995)</td>\n",
       "      <td>1995</td>\n",
       "      <td>0</td>\n",
       "      <td>0</td>\n",
       "      <td>0</td>\n",
       "      <td>0</td>\n",
       "      <td>...</td>\n",
       "      <td>0</td>\n",
       "      <td>0</td>\n",
       "      <td>1</td>\n",
       "      <td>0</td>\n",
       "      <td>0</td>\n",
       "      <td>0</td>\n",
       "      <td>1</td>\n",
       "      <td>0</td>\n",
       "      <td>0</td>\n",
       "      <td>0</td>\n",
       "    </tr>\n",
       "    <tr>\n",
       "      <th>56742</th>\n",
       "      <td>656</td>\n",
       "      <td>3845</td>\n",
       "      <td>5.0</td>\n",
       "      <td>And God Created Woman</td>\n",
       "      <td>And God Created Woman (Et Dieu... créa la femm...</td>\n",
       "      <td>1956</td>\n",
       "      <td>0</td>\n",
       "      <td>0</td>\n",
       "      <td>0</td>\n",
       "      <td>0</td>\n",
       "      <td>...</td>\n",
       "      <td>0</td>\n",
       "      <td>0</td>\n",
       "      <td>0</td>\n",
       "      <td>0</td>\n",
       "      <td>0</td>\n",
       "      <td>0</td>\n",
       "      <td>0</td>\n",
       "      <td>0</td>\n",
       "      <td>0</td>\n",
       "      <td>0</td>\n",
       "    </tr>\n",
       "    <tr>\n",
       "      <th>56743</th>\n",
       "      <td>656</td>\n",
       "      <td>3909</td>\n",
       "      <td>5.0</td>\n",
       "      <td>Woman on Top</td>\n",
       "      <td>Woman on Top (2000)</td>\n",
       "      <td>2000</td>\n",
       "      <td>0</td>\n",
       "      <td>0</td>\n",
       "      <td>0</td>\n",
       "      <td>0</td>\n",
       "      <td>...</td>\n",
       "      <td>0</td>\n",
       "      <td>0</td>\n",
       "      <td>0</td>\n",
       "      <td>0</td>\n",
       "      <td>0</td>\n",
       "      <td>1</td>\n",
       "      <td>0</td>\n",
       "      <td>0</td>\n",
       "      <td>0</td>\n",
       "      <td>0</td>\n",
       "    </tr>\n",
       "    <tr>\n",
       "      <th>56744</th>\n",
       "      <td>656</td>\n",
       "      <td>4167</td>\n",
       "      <td>2.0</td>\n",
       "      <td>15 Minutes</td>\n",
       "      <td>15 Minutes (2001)</td>\n",
       "      <td>2001</td>\n",
       "      <td>0</td>\n",
       "      <td>0</td>\n",
       "      <td>0</td>\n",
       "      <td>0</td>\n",
       "      <td>...</td>\n",
       "      <td>0</td>\n",
       "      <td>0</td>\n",
       "      <td>0</td>\n",
       "      <td>0</td>\n",
       "      <td>0</td>\n",
       "      <td>0</td>\n",
       "      <td>0</td>\n",
       "      <td>1</td>\n",
       "      <td>0</td>\n",
       "      <td>0</td>\n",
       "    </tr>\n",
       "    <tr>\n",
       "      <th>56745</th>\n",
       "      <td>656</td>\n",
       "      <td>4184</td>\n",
       "      <td>5.0</td>\n",
       "      <td>Bishop's Wife, The</td>\n",
       "      <td>Bishop's Wife, The (1947)</td>\n",
       "      <td>1947</td>\n",
       "      <td>0</td>\n",
       "      <td>0</td>\n",
       "      <td>0</td>\n",
       "      <td>0</td>\n",
       "      <td>...</td>\n",
       "      <td>0</td>\n",
       "      <td>0</td>\n",
       "      <td>0</td>\n",
       "      <td>0</td>\n",
       "      <td>0</td>\n",
       "      <td>1</td>\n",
       "      <td>0</td>\n",
       "      <td>0</td>\n",
       "      <td>0</td>\n",
       "      <td>0</td>\n",
       "    </tr>\n",
       "    <tr>\n",
       "      <th>56746</th>\n",
       "      <td>656</td>\n",
       "      <td>4189</td>\n",
       "      <td>5.0</td>\n",
       "      <td>Greatest Story Ever Told, The</td>\n",
       "      <td>Greatest Story Ever Told, The (1965)</td>\n",
       "      <td>1965</td>\n",
       "      <td>0</td>\n",
       "      <td>0</td>\n",
       "      <td>0</td>\n",
       "      <td>0</td>\n",
       "      <td>...</td>\n",
       "      <td>0</td>\n",
       "      <td>0</td>\n",
       "      <td>0</td>\n",
       "      <td>0</td>\n",
       "      <td>0</td>\n",
       "      <td>0</td>\n",
       "      <td>0</td>\n",
       "      <td>0</td>\n",
       "      <td>0</td>\n",
       "      <td>0</td>\n",
       "    </tr>\n",
       "    <tr>\n",
       "      <th>56747</th>\n",
       "      <td>659</td>\n",
       "      <td>167</td>\n",
       "      <td>4.0</td>\n",
       "      <td>Feast of July</td>\n",
       "      <td>Feast of July (1995)</td>\n",
       "      <td>1995</td>\n",
       "      <td>0</td>\n",
       "      <td>0</td>\n",
       "      <td>0</td>\n",
       "      <td>0</td>\n",
       "      <td>...</td>\n",
       "      <td>0</td>\n",
       "      <td>0</td>\n",
       "      <td>0</td>\n",
       "      <td>0</td>\n",
       "      <td>0</td>\n",
       "      <td>0</td>\n",
       "      <td>0</td>\n",
       "      <td>0</td>\n",
       "      <td>0</td>\n",
       "      <td>0</td>\n",
       "    </tr>\n",
       "    <tr>\n",
       "      <th>56748</th>\n",
       "      <td>659</td>\n",
       "      <td>202</td>\n",
       "      <td>4.0</td>\n",
       "      <td>Total Eclipse</td>\n",
       "      <td>Total Eclipse (1995)</td>\n",
       "      <td>1995</td>\n",
       "      <td>0</td>\n",
       "      <td>0</td>\n",
       "      <td>0</td>\n",
       "      <td>0</td>\n",
       "      <td>...</td>\n",
       "      <td>0</td>\n",
       "      <td>0</td>\n",
       "      <td>0</td>\n",
       "      <td>0</td>\n",
       "      <td>0</td>\n",
       "      <td>1</td>\n",
       "      <td>0</td>\n",
       "      <td>0</td>\n",
       "      <td>0</td>\n",
       "      <td>0</td>\n",
       "    </tr>\n",
       "    <tr>\n",
       "      <th>56749</th>\n",
       "      <td>659</td>\n",
       "      <td>375</td>\n",
       "      <td>4.0</td>\n",
       "      <td>Safe Passage</td>\n",
       "      <td>Safe Passage (1994)</td>\n",
       "      <td>1994</td>\n",
       "      <td>0</td>\n",
       "      <td>0</td>\n",
       "      <td>0</td>\n",
       "      <td>0</td>\n",
       "      <td>...</td>\n",
       "      <td>0</td>\n",
       "      <td>0</td>\n",
       "      <td>0</td>\n",
       "      <td>0</td>\n",
       "      <td>0</td>\n",
       "      <td>0</td>\n",
       "      <td>0</td>\n",
       "      <td>0</td>\n",
       "      <td>0</td>\n",
       "      <td>0</td>\n",
       "    </tr>\n",
       "    <tr>\n",
       "      <th>56750</th>\n",
       "      <td>659</td>\n",
       "      <td>563</td>\n",
       "      <td>3.0</td>\n",
       "      <td>Germinal</td>\n",
       "      <td>Germinal (1993)</td>\n",
       "      <td>1993</td>\n",
       "      <td>0</td>\n",
       "      <td>0</td>\n",
       "      <td>0</td>\n",
       "      <td>0</td>\n",
       "      <td>...</td>\n",
       "      <td>0</td>\n",
       "      <td>0</td>\n",
       "      <td>0</td>\n",
       "      <td>0</td>\n",
       "      <td>0</td>\n",
       "      <td>1</td>\n",
       "      <td>0</td>\n",
       "      <td>0</td>\n",
       "      <td>0</td>\n",
       "      <td>0</td>\n",
       "    </tr>\n",
       "    <tr>\n",
       "      <th>56751</th>\n",
       "      <td>660</td>\n",
       "      <td>52319</td>\n",
       "      <td>4.0</td>\n",
       "      <td>Inglorious Bastards</td>\n",
       "      <td>Inglorious Bastards (Quel maledetto treno blin...</td>\n",
       "      <td>1978</td>\n",
       "      <td>1</td>\n",
       "      <td>1</td>\n",
       "      <td>0</td>\n",
       "      <td>0</td>\n",
       "      <td>...</td>\n",
       "      <td>0</td>\n",
       "      <td>0</td>\n",
       "      <td>0</td>\n",
       "      <td>0</td>\n",
       "      <td>0</td>\n",
       "      <td>0</td>\n",
       "      <td>0</td>\n",
       "      <td>0</td>\n",
       "      <td>1</td>\n",
       "      <td>0</td>\n",
       "    </tr>\n",
       "    <tr>\n",
       "      <th>56752</th>\n",
       "      <td>660</td>\n",
       "      <td>79357</td>\n",
       "      <td>4.0</td>\n",
       "      <td>Mr. Nobody</td>\n",
       "      <td>Mr. Nobody (2009)</td>\n",
       "      <td>2009</td>\n",
       "      <td>0</td>\n",
       "      <td>0</td>\n",
       "      <td>0</td>\n",
       "      <td>0</td>\n",
       "      <td>...</td>\n",
       "      <td>1</td>\n",
       "      <td>0</td>\n",
       "      <td>0</td>\n",
       "      <td>0</td>\n",
       "      <td>0</td>\n",
       "      <td>1</td>\n",
       "      <td>1</td>\n",
       "      <td>0</td>\n",
       "      <td>0</td>\n",
       "      <td>0</td>\n",
       "    </tr>\n",
       "    <tr>\n",
       "      <th>56753</th>\n",
       "      <td>660</td>\n",
       "      <td>87306</td>\n",
       "      <td>4.5</td>\n",
       "      <td>Super 8</td>\n",
       "      <td>Super 8 (2011)</td>\n",
       "      <td>2011</td>\n",
       "      <td>0</td>\n",
       "      <td>0</td>\n",
       "      <td>0</td>\n",
       "      <td>0</td>\n",
       "      <td>...</td>\n",
       "      <td>0</td>\n",
       "      <td>0</td>\n",
       "      <td>0</td>\n",
       "      <td>0</td>\n",
       "      <td>1</td>\n",
       "      <td>0</td>\n",
       "      <td>1</td>\n",
       "      <td>1</td>\n",
       "      <td>0</td>\n",
       "      <td>0</td>\n",
       "    </tr>\n",
       "    <tr>\n",
       "      <th>56754</th>\n",
       "      <td>660</td>\n",
       "      <td>113378</td>\n",
       "      <td>4.0</td>\n",
       "      <td>Giver, The</td>\n",
       "      <td>Giver, The (2014)</td>\n",
       "      <td>2014</td>\n",
       "      <td>0</td>\n",
       "      <td>0</td>\n",
       "      <td>0</td>\n",
       "      <td>0</td>\n",
       "      <td>...</td>\n",
       "      <td>0</td>\n",
       "      <td>0</td>\n",
       "      <td>0</td>\n",
       "      <td>0</td>\n",
       "      <td>0</td>\n",
       "      <td>0</td>\n",
       "      <td>1</td>\n",
       "      <td>0</td>\n",
       "      <td>0</td>\n",
       "      <td>0</td>\n",
       "    </tr>\n",
       "    <tr>\n",
       "      <th>56755</th>\n",
       "      <td>660</td>\n",
       "      <td>135518</td>\n",
       "      <td>4.0</td>\n",
       "      <td>Self/less</td>\n",
       "      <td>Self/less (2015)</td>\n",
       "      <td>2015</td>\n",
       "      <td>1</td>\n",
       "      <td>0</td>\n",
       "      <td>0</td>\n",
       "      <td>0</td>\n",
       "      <td>...</td>\n",
       "      <td>0</td>\n",
       "      <td>0</td>\n",
       "      <td>0</td>\n",
       "      <td>0</td>\n",
       "      <td>1</td>\n",
       "      <td>0</td>\n",
       "      <td>1</td>\n",
       "      <td>1</td>\n",
       "      <td>0</td>\n",
       "      <td>0</td>\n",
       "    </tr>\n",
       "    <tr>\n",
       "      <th>56756</th>\n",
       "      <td>663</td>\n",
       "      <td>127124</td>\n",
       "      <td>4.0</td>\n",
       "      <td>I'll See You in My Dreams</td>\n",
       "      <td>I'll See You in My Dreams (2015)</td>\n",
       "      <td>2015</td>\n",
       "      <td>0</td>\n",
       "      <td>0</td>\n",
       "      <td>0</td>\n",
       "      <td>0</td>\n",
       "      <td>...</td>\n",
       "      <td>0</td>\n",
       "      <td>0</td>\n",
       "      <td>0</td>\n",
       "      <td>0</td>\n",
       "      <td>0</td>\n",
       "      <td>0</td>\n",
       "      <td>0</td>\n",
       "      <td>0</td>\n",
       "      <td>0</td>\n",
       "      <td>0</td>\n",
       "    </tr>\n",
       "    <tr>\n",
       "      <th>56757</th>\n",
       "      <td>663</td>\n",
       "      <td>134246</td>\n",
       "      <td>3.0</td>\n",
       "      <td>Survivor</td>\n",
       "      <td>Survivor (2015)</td>\n",
       "      <td>2015</td>\n",
       "      <td>1</td>\n",
       "      <td>0</td>\n",
       "      <td>0</td>\n",
       "      <td>0</td>\n",
       "      <td>...</td>\n",
       "      <td>0</td>\n",
       "      <td>0</td>\n",
       "      <td>0</td>\n",
       "      <td>0</td>\n",
       "      <td>0</td>\n",
       "      <td>0</td>\n",
       "      <td>0</td>\n",
       "      <td>1</td>\n",
       "      <td>0</td>\n",
       "      <td>0</td>\n",
       "    </tr>\n",
       "    <tr>\n",
       "      <th>56758</th>\n",
       "      <td>663</td>\n",
       "      <td>134528</td>\n",
       "      <td>3.5</td>\n",
       "      <td>Aloha</td>\n",
       "      <td>Aloha (2015)</td>\n",
       "      <td>2015</td>\n",
       "      <td>0</td>\n",
       "      <td>0</td>\n",
       "      <td>0</td>\n",
       "      <td>0</td>\n",
       "      <td>...</td>\n",
       "      <td>0</td>\n",
       "      <td>0</td>\n",
       "      <td>0</td>\n",
       "      <td>0</td>\n",
       "      <td>0</td>\n",
       "      <td>1</td>\n",
       "      <td>0</td>\n",
       "      <td>0</td>\n",
       "      <td>0</td>\n",
       "      <td>0</td>\n",
       "    </tr>\n",
       "    <tr>\n",
       "      <th>56759</th>\n",
       "      <td>663</td>\n",
       "      <td>134783</td>\n",
       "      <td>3.0</td>\n",
       "      <td>Entourage</td>\n",
       "      <td>Entourage (2015)</td>\n",
       "      <td>2015</td>\n",
       "      <td>0</td>\n",
       "      <td>0</td>\n",
       "      <td>0</td>\n",
       "      <td>0</td>\n",
       "      <td>...</td>\n",
       "      <td>0</td>\n",
       "      <td>0</td>\n",
       "      <td>0</td>\n",
       "      <td>0</td>\n",
       "      <td>0</td>\n",
       "      <td>0</td>\n",
       "      <td>0</td>\n",
       "      <td>0</td>\n",
       "      <td>0</td>\n",
       "      <td>0</td>\n",
       "    </tr>\n",
       "    <tr>\n",
       "      <th>56760</th>\n",
       "      <td>663</td>\n",
       "      <td>135861</td>\n",
       "      <td>4.0</td>\n",
       "      <td>Ted 2</td>\n",
       "      <td>Ted 2 (2015)</td>\n",
       "      <td>2015</td>\n",
       "      <td>0</td>\n",
       "      <td>0</td>\n",
       "      <td>0</td>\n",
       "      <td>0</td>\n",
       "      <td>...</td>\n",
       "      <td>0</td>\n",
       "      <td>0</td>\n",
       "      <td>0</td>\n",
       "      <td>0</td>\n",
       "      <td>0</td>\n",
       "      <td>0</td>\n",
       "      <td>0</td>\n",
       "      <td>0</td>\n",
       "      <td>0</td>\n",
       "      <td>0</td>\n",
       "    </tr>\n",
       "    <tr>\n",
       "      <th>56761</th>\n",
       "      <td>663</td>\n",
       "      <td>137595</td>\n",
       "      <td>3.0</td>\n",
       "      <td>Magic Mike XXL</td>\n",
       "      <td>Magic Mike XXL (2015)</td>\n",
       "      <td>2015</td>\n",
       "      <td>0</td>\n",
       "      <td>0</td>\n",
       "      <td>0</td>\n",
       "      <td>0</td>\n",
       "      <td>...</td>\n",
       "      <td>0</td>\n",
       "      <td>0</td>\n",
       "      <td>0</td>\n",
       "      <td>0</td>\n",
       "      <td>0</td>\n",
       "      <td>0</td>\n",
       "      <td>0</td>\n",
       "      <td>0</td>\n",
       "      <td>0</td>\n",
       "      <td>0</td>\n",
       "    </tr>\n",
       "    <tr>\n",
       "      <th>56762</th>\n",
       "      <td>663</td>\n",
       "      <td>138204</td>\n",
       "      <td>3.5</td>\n",
       "      <td>7 Days in Hell</td>\n",
       "      <td>7 Days in Hell (2015)</td>\n",
       "      <td>2015</td>\n",
       "      <td>0</td>\n",
       "      <td>0</td>\n",
       "      <td>0</td>\n",
       "      <td>0</td>\n",
       "      <td>...</td>\n",
       "      <td>0</td>\n",
       "      <td>0</td>\n",
       "      <td>0</td>\n",
       "      <td>0</td>\n",
       "      <td>0</td>\n",
       "      <td>0</td>\n",
       "      <td>0</td>\n",
       "      <td>0</td>\n",
       "      <td>0</td>\n",
       "      <td>0</td>\n",
       "    </tr>\n",
       "    <tr>\n",
       "      <th>56763</th>\n",
       "      <td>663</td>\n",
       "      <td>139642</td>\n",
       "      <td>4.0</td>\n",
       "      <td>Southpaw</td>\n",
       "      <td>Southpaw (2015)</td>\n",
       "      <td>2015</td>\n",
       "      <td>1</td>\n",
       "      <td>0</td>\n",
       "      <td>0</td>\n",
       "      <td>0</td>\n",
       "      <td>...</td>\n",
       "      <td>0</td>\n",
       "      <td>0</td>\n",
       "      <td>0</td>\n",
       "      <td>0</td>\n",
       "      <td>0</td>\n",
       "      <td>0</td>\n",
       "      <td>0</td>\n",
       "      <td>0</td>\n",
       "      <td>0</td>\n",
       "      <td>0</td>\n",
       "    </tr>\n",
       "    <tr>\n",
       "      <th>56764</th>\n",
       "      <td>668</td>\n",
       "      <td>1490</td>\n",
       "      <td>1.0</td>\n",
       "      <td>B*A*P*S</td>\n",
       "      <td>B*A*P*S (1997)</td>\n",
       "      <td>1997</td>\n",
       "      <td>0</td>\n",
       "      <td>0</td>\n",
       "      <td>0</td>\n",
       "      <td>0</td>\n",
       "      <td>...</td>\n",
       "      <td>0</td>\n",
       "      <td>0</td>\n",
       "      <td>0</td>\n",
       "      <td>0</td>\n",
       "      <td>0</td>\n",
       "      <td>0</td>\n",
       "      <td>0</td>\n",
       "      <td>0</td>\n",
       "      <td>0</td>\n",
       "      <td>0</td>\n",
       "    </tr>\n",
       "    <tr>\n",
       "      <th>56765</th>\n",
       "      <td>668</td>\n",
       "      <td>4012</td>\n",
       "      <td>3.0</td>\n",
       "      <td>Punchline</td>\n",
       "      <td>Punchline (1988)</td>\n",
       "      <td>1988</td>\n",
       "      <td>0</td>\n",
       "      <td>0</td>\n",
       "      <td>0</td>\n",
       "      <td>0</td>\n",
       "      <td>...</td>\n",
       "      <td>0</td>\n",
       "      <td>0</td>\n",
       "      <td>0</td>\n",
       "      <td>0</td>\n",
       "      <td>0</td>\n",
       "      <td>0</td>\n",
       "      <td>0</td>\n",
       "      <td>0</td>\n",
       "      <td>0</td>\n",
       "      <td>0</td>\n",
       "    </tr>\n",
       "    <tr>\n",
       "      <th>56766</th>\n",
       "      <td>668</td>\n",
       "      <td>6425</td>\n",
       "      <td>1.0</td>\n",
       "      <td>6th Man, The</td>\n",
       "      <td>6th Man, The (Sixth Man, The) (1997)</td>\n",
       "      <td>1997</td>\n",
       "      <td>0</td>\n",
       "      <td>0</td>\n",
       "      <td>0</td>\n",
       "      <td>0</td>\n",
       "      <td>...</td>\n",
       "      <td>0</td>\n",
       "      <td>0</td>\n",
       "      <td>0</td>\n",
       "      <td>0</td>\n",
       "      <td>0</td>\n",
       "      <td>0</td>\n",
       "      <td>0</td>\n",
       "      <td>0</td>\n",
       "      <td>0</td>\n",
       "      <td>0</td>\n",
       "    </tr>\n",
       "    <tr>\n",
       "      <th>56767</th>\n",
       "      <td>671</td>\n",
       "      <td>6212</td>\n",
       "      <td>2.5</td>\n",
       "      <td>Bringing Down the House</td>\n",
       "      <td>Bringing Down the House (2003)</td>\n",
       "      <td>2003</td>\n",
       "      <td>0</td>\n",
       "      <td>0</td>\n",
       "      <td>0</td>\n",
       "      <td>0</td>\n",
       "      <td>...</td>\n",
       "      <td>0</td>\n",
       "      <td>0</td>\n",
       "      <td>0</td>\n",
       "      <td>0</td>\n",
       "      <td>0</td>\n",
       "      <td>0</td>\n",
       "      <td>0</td>\n",
       "      <td>0</td>\n",
       "      <td>0</td>\n",
       "      <td>0</td>\n",
       "    </tr>\n",
       "  </tbody>\n",
       "</table>\n",
       "<p>56768 rows × 24 columns</p>\n",
       "</div>"
      ],
      "text/plain": [
       "       userId  movieId  rating                            title  \\\n",
       "0           1       31     2.5                  Dangerous Minds   \n",
       "1           7       31     3.0                  Dangerous Minds   \n",
       "2          31       31     4.0                  Dangerous Minds   \n",
       "3          32       31     4.0                  Dangerous Minds   \n",
       "4          36       31     3.0                  Dangerous Minds   \n",
       "5          39       31     3.0                  Dangerous Minds   \n",
       "6          88       31     3.0                  Dangerous Minds   \n",
       "7          96       31     2.5                  Dangerous Minds   \n",
       "8         110       31     4.0                  Dangerous Minds   \n",
       "9         111       31     3.5                  Dangerous Minds   \n",
       "10        161       31     3.0                  Dangerous Minds   \n",
       "11        186       31     3.0                  Dangerous Minds   \n",
       "12        254       31     3.0                  Dangerous Minds   \n",
       "13        288       31     3.0                  Dangerous Minds   \n",
       "14        310       31     1.5                  Dangerous Minds   \n",
       "15        325       31     4.5                  Dangerous Minds   \n",
       "16        338       31     3.0                  Dangerous Minds   \n",
       "17        341       31     4.5                  Dangerous Minds   \n",
       "18        386       31     2.0                  Dangerous Minds   \n",
       "19        394       31     2.0                  Dangerous Minds   \n",
       "20        485       31     4.0                  Dangerous Minds   \n",
       "21        487       31     5.0                  Dangerous Minds   \n",
       "22        496       31     4.0                  Dangerous Minds   \n",
       "23        511       31     4.0                  Dangerous Minds   \n",
       "24        516       31     4.0                  Dangerous Minds   \n",
       "25        525       31     4.0                  Dangerous Minds   \n",
       "26        590       31     3.0                  Dangerous Minds   \n",
       "27        601       31     3.0                  Dangerous Minds   \n",
       "28        619       31     3.0                  Dangerous Minds   \n",
       "29        639       31     3.0                  Dangerous Minds   \n",
       "...       ...      ...     ...                              ...   \n",
       "56738     655   116397     4.0               Stonehearst Asylum   \n",
       "56739     655   143859     3.0                    Hail, Caesar!   \n",
       "56740     655   158314     4.5  Daniel Tosh: Completely Serious   \n",
       "56741     656     1692     5.0                     Alien Escape   \n",
       "56742     656     3845     5.0            And God Created Woman   \n",
       "56743     656     3909     5.0                     Woman on Top   \n",
       "56744     656     4167     2.0                       15 Minutes   \n",
       "56745     656     4184     5.0               Bishop's Wife, The   \n",
       "56746     656     4189     5.0    Greatest Story Ever Told, The   \n",
       "56747     659      167     4.0                    Feast of July   \n",
       "56748     659      202     4.0                    Total Eclipse   \n",
       "56749     659      375     4.0                     Safe Passage   \n",
       "56750     659      563     3.0                         Germinal   \n",
       "56751     660    52319     4.0              Inglorious Bastards   \n",
       "56752     660    79357     4.0                       Mr. Nobody   \n",
       "56753     660    87306     4.5                          Super 8   \n",
       "56754     660   113378     4.0                       Giver, The   \n",
       "56755     660   135518     4.0                        Self/less   \n",
       "56756     663   127124     4.0        I'll See You in My Dreams   \n",
       "56757     663   134246     3.0                         Survivor   \n",
       "56758     663   134528     3.5                            Aloha   \n",
       "56759     663   134783     3.0                        Entourage   \n",
       "56760     663   135861     4.0                            Ted 2   \n",
       "56761     663   137595     3.0                   Magic Mike XXL   \n",
       "56762     663   138204     3.5                   7 Days in Hell   \n",
       "56763     663   139642     4.0                         Southpaw   \n",
       "56764     668     1490     1.0                          B*A*P*S   \n",
       "56765     668     4012     3.0                        Punchline   \n",
       "56766     668     6425     1.0                     6th Man, The   \n",
       "56767     671     6212     2.5          Bringing Down the House   \n",
       "\n",
       "                                              ORIG_TITLE  YEAR  ACTION  \\\n",
       "0                                 Dangerous Minds (1995)  1995       0   \n",
       "1                                 Dangerous Minds (1995)  1995       0   \n",
       "2                                 Dangerous Minds (1995)  1995       0   \n",
       "3                                 Dangerous Minds (1995)  1995       0   \n",
       "4                                 Dangerous Minds (1995)  1995       0   \n",
       "5                                 Dangerous Minds (1995)  1995       0   \n",
       "6                                 Dangerous Minds (1995)  1995       0   \n",
       "7                                 Dangerous Minds (1995)  1995       0   \n",
       "8                                 Dangerous Minds (1995)  1995       0   \n",
       "9                                 Dangerous Minds (1995)  1995       0   \n",
       "10                                Dangerous Minds (1995)  1995       0   \n",
       "11                                Dangerous Minds (1995)  1995       0   \n",
       "12                                Dangerous Minds (1995)  1995       0   \n",
       "13                                Dangerous Minds (1995)  1995       0   \n",
       "14                                Dangerous Minds (1995)  1995       0   \n",
       "15                                Dangerous Minds (1995)  1995       0   \n",
       "16                                Dangerous Minds (1995)  1995       0   \n",
       "17                                Dangerous Minds (1995)  1995       0   \n",
       "18                                Dangerous Minds (1995)  1995       0   \n",
       "19                                Dangerous Minds (1995)  1995       0   \n",
       "20                                Dangerous Minds (1995)  1995       0   \n",
       "21                                Dangerous Minds (1995)  1995       0   \n",
       "22                                Dangerous Minds (1995)  1995       0   \n",
       "23                                Dangerous Minds (1995)  1995       0   \n",
       "24                                Dangerous Minds (1995)  1995       0   \n",
       "25                                Dangerous Minds (1995)  1995       0   \n",
       "26                                Dangerous Minds (1995)  1995       0   \n",
       "27                                Dangerous Minds (1995)  1995       0   \n",
       "28                                Dangerous Minds (1995)  1995       0   \n",
       "29                                Dangerous Minds (1995)  1995       0   \n",
       "...                                                  ...   ...     ...   \n",
       "56738                          Stonehearst Asylum (2014)  2014       0   \n",
       "56739                               Hail, Caesar! (2016)  2016       0   \n",
       "56740             Daniel Tosh: Completely Serious (2007)  2007       0   \n",
       "56741                                Alien Escape (1995)  1995       0   \n",
       "56742  And God Created Woman (Et Dieu... créa la femm...  1956       0   \n",
       "56743                                Woman on Top (2000)  2000       0   \n",
       "56744                                  15 Minutes (2001)  2001       0   \n",
       "56745                          Bishop's Wife, The (1947)  1947       0   \n",
       "56746               Greatest Story Ever Told, The (1965)  1965       0   \n",
       "56747                               Feast of July (1995)  1995       0   \n",
       "56748                               Total Eclipse (1995)  1995       0   \n",
       "56749                                Safe Passage (1994)  1994       0   \n",
       "56750                                    Germinal (1993)  1993       0   \n",
       "56751  Inglorious Bastards (Quel maledetto treno blin...  1978       1   \n",
       "56752                                  Mr. Nobody (2009)  2009       0   \n",
       "56753                                     Super 8 (2011)  2011       0   \n",
       "56754                                  Giver, The (2014)  2014       0   \n",
       "56755                                   Self/less (2015)  2015       1   \n",
       "56756                   I'll See You in My Dreams (2015)  2015       0   \n",
       "56757                                    Survivor (2015)  2015       1   \n",
       "56758                                       Aloha (2015)  2015       0   \n",
       "56759                                   Entourage (2015)  2015       0   \n",
       "56760                                       Ted 2 (2015)  2015       0   \n",
       "56761                              Magic Mike XXL (2015)  2015       0   \n",
       "56762                              7 Days in Hell (2015)  2015       0   \n",
       "56763                                    Southpaw (2015)  2015       1   \n",
       "56764                                     B*A*P*S (1997)  1997       0   \n",
       "56765                                   Punchline (1988)  1988       0   \n",
       "56766               6th Man, The (Sixth Man, The) (1997)  1997       0   \n",
       "56767                     Bringing Down the House (2003)  2003       0   \n",
       "\n",
       "       ADVENTURE  ANIMATION  CHILDREN   ...     FANTASY  FILM-NOIR  HORROR  \\\n",
       "0              0          0         0   ...           0          0       0   \n",
       "1              0          0         0   ...           0          0       0   \n",
       "2              0          0         0   ...           0          0       0   \n",
       "3              0          0         0   ...           0          0       0   \n",
       "4              0          0         0   ...           0          0       0   \n",
       "5              0          0         0   ...           0          0       0   \n",
       "6              0          0         0   ...           0          0       0   \n",
       "7              0          0         0   ...           0          0       0   \n",
       "8              0          0         0   ...           0          0       0   \n",
       "9              0          0         0   ...           0          0       0   \n",
       "10             0          0         0   ...           0          0       0   \n",
       "11             0          0         0   ...           0          0       0   \n",
       "12             0          0         0   ...           0          0       0   \n",
       "13             0          0         0   ...           0          0       0   \n",
       "14             0          0         0   ...           0          0       0   \n",
       "15             0          0         0   ...           0          0       0   \n",
       "16             0          0         0   ...           0          0       0   \n",
       "17             0          0         0   ...           0          0       0   \n",
       "18             0          0         0   ...           0          0       0   \n",
       "19             0          0         0   ...           0          0       0   \n",
       "20             0          0         0   ...           0          0       0   \n",
       "21             0          0         0   ...           0          0       0   \n",
       "22             0          0         0   ...           0          0       0   \n",
       "23             0          0         0   ...           0          0       0   \n",
       "24             0          0         0   ...           0          0       0   \n",
       "25             0          0         0   ...           0          0       0   \n",
       "26             0          0         0   ...           0          0       0   \n",
       "27             0          0         0   ...           0          0       0   \n",
       "28             0          0         0   ...           0          0       0   \n",
       "29             0          0         0   ...           0          0       0   \n",
       "...          ...        ...       ...   ...         ...        ...     ...   \n",
       "56738          0          0         0   ...           0          0       0   \n",
       "56739          0          0         0   ...           0          0       0   \n",
       "56740          0          0         0   ...           0          0       0   \n",
       "56741          0          0         0   ...           0          0       1   \n",
       "56742          0          0         0   ...           0          0       0   \n",
       "56743          0          0         0   ...           0          0       0   \n",
       "56744          0          0         0   ...           0          0       0   \n",
       "56745          0          0         0   ...           0          0       0   \n",
       "56746          0          0         0   ...           0          0       0   \n",
       "56747          0          0         0   ...           0          0       0   \n",
       "56748          0          0         0   ...           0          0       0   \n",
       "56749          0          0         0   ...           0          0       0   \n",
       "56750          0          0         0   ...           0          0       0   \n",
       "56751          1          0         0   ...           0          0       0   \n",
       "56752          0          0         0   ...           1          0       0   \n",
       "56753          0          0         0   ...           0          0       0   \n",
       "56754          0          0         0   ...           0          0       0   \n",
       "56755          0          0         0   ...           0          0       0   \n",
       "56756          0          0         0   ...           0          0       0   \n",
       "56757          0          0         0   ...           0          0       0   \n",
       "56758          0          0         0   ...           0          0       0   \n",
       "56759          0          0         0   ...           0          0       0   \n",
       "56760          0          0         0   ...           0          0       0   \n",
       "56761          0          0         0   ...           0          0       0   \n",
       "56762          0          0         0   ...           0          0       0   \n",
       "56763          0          0         0   ...           0          0       0   \n",
       "56764          0          0         0   ...           0          0       0   \n",
       "56765          0          0         0   ...           0          0       0   \n",
       "56766          0          0         0   ...           0          0       0   \n",
       "56767          0          0         0   ...           0          0       0   \n",
       "\n",
       "       MUSICAL  MYSTERY  ROMANCE  SCI-FI  THRILLER  WAR  WESTERN  \n",
       "0            0        0        0       0         0    0        0  \n",
       "1            0        0        0       0         0    0        0  \n",
       "2            0        0        0       0         0    0        0  \n",
       "3            0        0        0       0         0    0        0  \n",
       "4            0        0        0       0         0    0        0  \n",
       "5            0        0        0       0         0    0        0  \n",
       "6            0        0        0       0         0    0        0  \n",
       "7            0        0        0       0         0    0        0  \n",
       "8            0        0        0       0         0    0        0  \n",
       "9            0        0        0       0         0    0        0  \n",
       "10           0        0        0       0         0    0        0  \n",
       "11           0        0        0       0         0    0        0  \n",
       "12           0        0        0       0         0    0        0  \n",
       "13           0        0        0       0         0    0        0  \n",
       "14           0        0        0       0         0    0        0  \n",
       "15           0        0        0       0         0    0        0  \n",
       "16           0        0        0       0         0    0        0  \n",
       "17           0        0        0       0         0    0        0  \n",
       "18           0        0        0       0         0    0        0  \n",
       "19           0        0        0       0         0    0        0  \n",
       "20           0        0        0       0         0    0        0  \n",
       "21           0        0        0       0         0    0        0  \n",
       "22           0        0        0       0         0    0        0  \n",
       "23           0        0        0       0         0    0        0  \n",
       "24           0        0        0       0         0    0        0  \n",
       "25           0        0        0       0         0    0        0  \n",
       "26           0        0        0       0         0    0        0  \n",
       "27           0        0        0       0         0    0        0  \n",
       "28           0        0        0       0         0    0        0  \n",
       "29           0        0        0       0         0    0        0  \n",
       "...        ...      ...      ...     ...       ...  ...      ...  \n",
       "56738        0        0        0       0         1    0        0  \n",
       "56739        0        0        0       0         0    0        0  \n",
       "56740        0        0        0       0         0    0        0  \n",
       "56741        0        0        0       1         0    0        0  \n",
       "56742        0        0        0       0         0    0        0  \n",
       "56743        0        0        1       0         0    0        0  \n",
       "56744        0        0        0       0         1    0        0  \n",
       "56745        0        0        1       0         0    0        0  \n",
       "56746        0        0        0       0         0    0        0  \n",
       "56747        0        0        0       0         0    0        0  \n",
       "56748        0        0        1       0         0    0        0  \n",
       "56749        0        0        0       0         0    0        0  \n",
       "56750        0        0        1       0         0    0        0  \n",
       "56751        0        0        0       0         0    1        0  \n",
       "56752        0        0        1       1         0    0        0  \n",
       "56753        0        1        0       1         1    0        0  \n",
       "56754        0        0        0       1         0    0        0  \n",
       "56755        0        1        0       1         1    0        0  \n",
       "56756        0        0        0       0         0    0        0  \n",
       "56757        0        0        0       0         1    0        0  \n",
       "56758        0        0        1       0         0    0        0  \n",
       "56759        0        0        0       0         0    0        0  \n",
       "56760        0        0        0       0         0    0        0  \n",
       "56761        0        0        0       0         0    0        0  \n",
       "56762        0        0        0       0         0    0        0  \n",
       "56763        0        0        0       0         0    0        0  \n",
       "56764        0        0        0       0         0    0        0  \n",
       "56765        0        0        0       0         0    0        0  \n",
       "56766        0        0        0       0         0    0        0  \n",
       "56767        0        0        0       0         0    0        0  \n",
       "\n",
       "[56768 rows x 24 columns]"
      ]
     },
     "execution_count": 28,
     "metadata": {},
     "output_type": "execute_result"
    }
   ],
   "source": [
    "Rating_movies"
   ]
  },
  {
   "cell_type": "code",
   "execution_count": 29,
   "metadata": {
    "collapsed": false
   },
   "outputs": [
    {
     "name": "stdout",
     "output_type": "stream",
     "text": [
      "          GENRE    TOTAL\n",
      "0        ACTION  16437.0\n",
      "1     ADVENTURE  13893.0\n",
      "2     ANIMATION   4023.0\n",
      "3      CHILDREN   5432.0\n",
      "4        COMEDY  21504.0\n",
      "5         CRIME   9459.0\n",
      "6   DOCUMENTARY    634.0\n",
      "7         DRAMA  24911.0\n",
      "8       FANTASY   6482.0\n",
      "9     FILM-NOIR    555.0\n",
      "10       HORROR   3434.0\n",
      "11      MUSICAL   2719.0\n",
      "12      MYSTERY   4303.0\n",
      "13      ROMANCE  11204.0\n",
      "14       SCI-FI   9543.0\n",
      "15     THRILLER  14608.0\n",
      "16          WAR   3039.0\n",
      "17      WESTERN   1023.0\n"
     ]
    }
   ],
   "source": [
    "# Create a new data frame to hold the total of rated movies by genre, keep in mind that one movie \n",
    "# can have more than one genre related to it\n",
    "Totals_df=pd.DataFrame()\n",
    "Totals_df.set_value(0,'GENRE',\"ACTION\")\n",
    "Totals_df.set_value(0,'TOTAL',int((Rating_movies['ACTION'] == 1).sum()))\n",
    "Totals_df.set_value(1,'GENRE',\"ADVENTURE\")\n",
    "Totals_df.set_value(1,'TOTAL',int((Rating_movies['ADVENTURE'] == 1).sum()))\n",
    "Totals_df.set_value(2,'GENRE',\"ANIMATION\")\n",
    "Totals_df.set_value(2,'TOTAL',int((Rating_movies['ANIMATION'] == 1).sum()))\n",
    "Totals_df.set_value(3,'GENRE',\"CHILDREN\")\n",
    "Totals_df.set_value(3,'TOTAL',int((Rating_movies['CHILDREN'] == 1).sum()))\n",
    "Totals_df.set_value(4,'GENRE',\"COMEDY\")\n",
    "Totals_df.set_value(4,'TOTAL',int((Rating_movies['COMEDY'] == 1).sum()))\n",
    "Totals_df.set_value(5,'GENRE',\"CRIME\")\n",
    "Totals_df.set_value(5,'TOTAL',int((Rating_movies['CRIME'] == 1).sum()))\n",
    "Totals_df.set_value(6,'GENRE',\"DOCUMENTARY\")\n",
    "Totals_df.set_value(6,'TOTAL',int((Rating_movies['DOCUMENTARY'] == 1).sum()))\n",
    "Totals_df.set_value(7,'GENRE',\"DRAMA\")\n",
    "Totals_df.set_value(7,'TOTAL',int((Rating_movies['DRAMA'] == 1).sum()))\n",
    "Totals_df.set_value(8,'GENRE',\"FANTASY\")\n",
    "Totals_df.set_value(8,'TOTAL',int((Rating_movies['FANTASY'] == 1).sum()))\n",
    "Totals_df.set_value(9,'GENRE',\"FILM-NOIR\")\n",
    "Totals_df.set_value(9,'TOTAL',int((Rating_movies['FILM-NOIR'] == 1).sum()))\n",
    "Totals_df.set_value(10,'GENRE',\"HORROR\")\n",
    "Totals_df.set_value(10,'TOTAL',int((Rating_movies['HORROR'] == 1).sum()))\n",
    "Totals_df.set_value(11,'GENRE',\"MUSICAL\")\n",
    "Totals_df.set_value(11,'TOTAL',int((Rating_movies['MUSICAL'] == 1).sum()))\n",
    "Totals_df.set_value(12,'GENRE',\"MYSTERY\")\n",
    "Totals_df.set_value(12,'TOTAL',int((Rating_movies['MYSTERY'] == 1).sum()))\n",
    "Totals_df.set_value(13,'GENRE',\"ROMANCE\")\n",
    "Totals_df.set_value(13,'TOTAL',int((Rating_movies['ROMANCE'] == 1).sum()))\n",
    "Totals_df.set_value(14,'GENRE',\"SCI-FI\")\n",
    "Totals_df.set_value(14,'TOTAL',int((Rating_movies['SCI-FI'] == 1).sum()))\n",
    "Totals_df.set_value(15,'GENRE',\"THRILLER\")\n",
    "Totals_df.set_value(15,'TOTAL',int((Rating_movies['THRILLER'] == 1).sum()))\n",
    "Totals_df.set_value(16,'GENRE',\"WAR\")\n",
    "Totals_df.set_value(16,'TOTAL',int((Rating_movies['WAR'] == 1).sum()))\n",
    "Totals_df.set_value(17,'GENRE',\"WESTERN\")\n",
    "Totals_df.set_value(17,'TOTAL',int((Rating_movies['WESTERN'] == 1).sum()))\n",
    "print(Totals_df)"
   ]
  },
  {
   "cell_type": "code",
   "execution_count": 30,
   "metadata": {
    "collapsed": false
   },
   "outputs": [
    {
     "data": {
      "text/plain": [
       "<matplotlib.figure.Figure at 0x21fb0438>"
      ]
     },
     "metadata": {},
     "output_type": "display_data"
    },
    {
     "data": {
      "image/png": "[encoded data removed]",
      "text/plain": [
       "<matplotlib.figure.Figure at 0x21fb9cf8>"
      ]
     },
     "metadata": {},
     "output_type": "display_data"
    }
   ],
   "source": [
    "# Plot of the rated movie genre\n",
    "plt.figure(figsize=(25,25))\n",
    "Totals_df.sort_values('TOTAL').plot('GENRE', kind='bar', color='m', width=0.9, title=\"Movie genre associated to rated movies\");"
   ]
  },
  {
   "cell_type": "markdown",
   "metadata": {},
   "source": [
    "This plot displays the number of rated movies associated to a genre. Note, that one movie can have more that one genre associated to it. \n",
    "\n",
    "We found the top 5 genres associated with movie ratings were: Drama, Comedy, Action, Thriller and Adventure.\n",
    "The bottom 3 genres associated with movie ratings were: Film-noir, Documentary and Western. \n",
    "\n",
    "We were interested to see the tags submitted by the users to the most rated movie genres. So, we created some word clouds to visualize this information with the following code. Includes the use of a drop down selection widget, to select one of the top 5 genres to visualize the tags related to them."
   ]
  },
  {
   "cell_type": "code",
   "execution_count": 31,
   "metadata": {
    "collapsed": true
   },
   "outputs": [],
   "source": [
    "#Creating a dataframe that has all rated movies that a user submitted a tag for the rated movie.\n",
    "movies_words = pd.merge(Rating_movies, Tags_df, on=['userId', 'movieId'])"
   ]
  },
  {
   "cell_type": "code",
   "execution_count": 32,
   "metadata": {
    "collapsed": false
   },
   "outputs": [
    {
     "name": "stdout",
     "output_type": "stream",
     "text": [
      "Number of ACTION movies with higher ratings with tags: 113\n",
      "Number of ACTION movies with lower ratings less than 2 with tags: 27\n"
     ]
    }
   ],
   "source": [
    "#Creating the text that contains all the tags for ACTION movies with ratings higher than 3.5\n",
    "wactionH = movies_words.loc[(movies_words['ACTION'] == 1) & (movies_words['rating']> 3.5)]\n",
    "Htext = ' '.join(wactionH.tag)\n",
    "wactionL = movies_words.loc[(movies_words['ACTION'] == 1) & (movies_words['rating']< 2)]\n",
    "Ltext = ' '.join(wactionL.tag)\n",
    "print(\"Number of ACTION movies with higher ratings with tags: %d\" %len(wactionH))\n",
    "print(\"Number of ACTION movies with lower ratings less than 2 with tags: %d\" %len(wactionL))"
   ]
  },
  {
   "cell_type": "code",
   "execution_count": 33,
   "metadata": {
    "collapsed": false
   },
   "outputs": [
    {
     "data": {
      "image/png": "[encoded data removed]",
      "text/plain": [
       "<matplotlib.figure.Figure at 0x25a0fe80>"
      ]
     },
     "metadata": {},
     "output_type": "display_data"
    }
   ],
   "source": [
    "# Create the word clouds based on the tags related to the highest rated movies by genre. \n",
    "# Considering the 5 top movies rated -regardless of the rating value-\n",
    "# Dropdown widget was used to be able to select the movie genre to display the correspondent word-cloud plot\n",
    "from ipywidgets import widgets\n",
    "import ipywidgets\n",
    "from IPython.display import clear_output\n",
    "from scipy.misc import imread\n",
    "\n",
    "choose_task = widgets.Dropdown(\n",
    "    options=['Select', 'Action', 'Adventure', 'Comedy', 'Drama', 'Thriller'],\n",
    "    value='Select',\n",
    "    description=\"Movie Genre:\"\n",
    ")\n",
    "\n",
    "def on_change(change):\n",
    "    clear_output()\n",
    "    if change['type'] == 'change' and change['name'] == 'value':\n",
    "        print \"changed to %s\" % change['new']\n",
    "        if change['new'] == 'Adventure':            \n",
    "            wt = movies_words.loc[(movies_words['ADVENTURE'] == 1) & (movies_words['rating']> 3.5)]\n",
    "        else :\n",
    "            if change['new'] == 'Action':  \n",
    "                wt = movies_words.loc[(movies_words['ACTION'] == 1) & (movies_words['rating']> 3.5)]\n",
    "            else :\n",
    "                if change['new'] == 'Drama':  \n",
    "                    wt = movies_words.loc[(movies_words['DRAMA'] == 1) & (movies_words['rating']> 3.5)]\n",
    "                else :\n",
    "                    if change['new'] == 'Comedy':  \n",
    "                        wt = movies_words.loc[(movies_words['COMEDY'] == 1) & (movies_words['rating']> 3.5)]\n",
    "                    else :\n",
    "                        if change['new'] == 'Thriller':  \n",
    "                            wt = movies_words.loc[(movies_words['THRILLER'] == 1) & (movies_words['rating']> 3.5)]\n",
    "                        else :\n",
    "                            return\n",
    "        text = ' '.join(wt.tag)\n",
    "        wc = WordCloud(background_color=\"white\", max_words=200, max_font_size=20, random_state=42, mask=imread('cloud.png'))\n",
    "        # generate word cloud\n",
    "        wc.generate(text)\n",
    "\n",
    "        # show\n",
    "        plt.figure(figsize=(8,8))\n",
    "        plt.imshow(wc)\n",
    "        plt.axis(\"off\")\n",
    "    return\n",
    "\n",
    "print(\"Select Movie Genre to display the tags related to movies with highest ratings.\")\n",
    "choose_task.observe(on_change)\n",
    "choose_task\n"
   ]
  },
  {
   "cell_type": "markdown",
   "metadata": {},
   "source": [
    "Above, we show the word cloud for the Comedy genre.\n",
    "\n",
    "Now, we wanted to know the popularity of the movie based on the number of submitted ratings and rating value, so a data frame was created that contains the movie title with the number of total reviewers and the average rating value (mean) for this and some visualization is displayed bellow."
   ]
  },
  {
   "cell_type": "code",
   "execution_count": 34,
   "metadata": {
    "collapsed": false
   },
   "outputs": [],
   "source": [
    "# Creationg of dataframe to see movie popularity \n",
    "mg_df = Rating_movies.groupby(['title'])\n",
    "Mov_df = Rating_movies.groupby(['title']).size().reset_index(name='Total Reviewers')\n",
    "grid = pd.merge(Mov_df, mg_df.mean()['rating'].reset_index(), on=['title'])"
   ]
  },
  {
   "cell_type": "code",
   "execution_count": 35,
   "metadata": {
    "collapsed": false
   },
   "outputs": [
    {
     "data": {
      "text/html": [
       "<div>\n",
       "<table border=\"1\" class=\"dataframe\">\n",
       "  <thead>\n",
       "    <tr style=\"text-align: right;\">\n",
       "      <th></th>\n",
       "      <th>title</th>\n",
       "      <th>Total Reviewers</th>\n",
       "      <th>rating</th>\n",
       "    </tr>\n",
       "  </thead>\n",
       "  <tbody>\n",
       "    <tr>\n",
       "      <th>3</th>\n",
       "      <td>'Neath the Arizona Skies</td>\n",
       "      <td>1</td>\n",
       "      <td>0.5</td>\n",
       "    </tr>\n",
       "    <tr>\n",
       "      <th>4</th>\n",
       "      <td>'Round Midnight</td>\n",
       "      <td>1</td>\n",
       "      <td>0.5</td>\n",
       "    </tr>\n",
       "    <tr>\n",
       "      <th>19</th>\n",
       "      <td>100 Rifles</td>\n",
       "      <td>1</td>\n",
       "      <td>0.5</td>\n",
       "    </tr>\n",
       "    <tr>\n",
       "      <th>172</th>\n",
       "      <td>After Earth</td>\n",
       "      <td>1</td>\n",
       "      <td>0.5</td>\n",
       "    </tr>\n",
       "    <tr>\n",
       "      <th>224</th>\n",
       "      <td>All I Want for Christmas</td>\n",
       "      <td>1</td>\n",
       "      <td>0.5</td>\n",
       "    </tr>\n",
       "    <tr>\n",
       "      <th>257</th>\n",
       "      <td>Amelia</td>\n",
       "      <td>1</td>\n",
       "      <td>0.5</td>\n",
       "    </tr>\n",
       "    <tr>\n",
       "      <th>401</th>\n",
       "      <td>As it is in Heaven</td>\n",
       "      <td>1</td>\n",
       "      <td>0.5</td>\n",
       "    </tr>\n",
       "    <tr>\n",
       "      <th>455</th>\n",
       "      <td>Baby Geniuses</td>\n",
       "      <td>1</td>\n",
       "      <td>0.5</td>\n",
       "    </tr>\n",
       "    <tr>\n",
       "      <th>509</th>\n",
       "      <td>Bangkok Dangerous</td>\n",
       "      <td>1</td>\n",
       "      <td>0.5</td>\n",
       "    </tr>\n",
       "    <tr>\n",
       "      <th>521</th>\n",
       "      <td>Barney's Great Adventure</td>\n",
       "      <td>1</td>\n",
       "      <td>0.5</td>\n",
       "    </tr>\n",
       "  </tbody>\n",
       "</table>\n",
       "</div>"
      ],
      "text/plain": [
       "                        title  Total Reviewers  rating\n",
       "3    'Neath the Arizona Skies                1     0.5\n",
       "4             'Round Midnight                1     0.5\n",
       "19                 100 Rifles                1     0.5\n",
       "172               After Earth                1     0.5\n",
       "224  All I Want for Christmas                1     0.5\n",
       "257                    Amelia                1     0.5\n",
       "401        As it is in Heaven                1     0.5\n",
       "455             Baby Geniuses                1     0.5\n",
       "509         Bangkok Dangerous                1     0.5\n",
       "521  Barney's Great Adventure                1     0.5"
      ]
     },
     "execution_count": 35,
     "metadata": {},
     "output_type": "execute_result"
    }
   ],
   "source": [
    "# 10 Least popular movies\n",
    "grid.sort_values(['Total Reviewers','rating'], ascending=True).head(10)"
   ]
  },
  {
   "cell_type": "code",
   "execution_count": 36,
   "metadata": {
    "collapsed": false
   },
   "outputs": [
    {
     "data": {
      "text/html": [
       "<div>\n",
       "<table border=\"1\" class=\"dataframe\">\n",
       "  <thead>\n",
       "    <tr style=\"text-align: right;\">\n",
       "      <th></th>\n",
       "      <th>title</th>\n",
       "      <th>Total Reviewers</th>\n",
       "      <th>rating</th>\n",
       "    </tr>\n",
       "  </thead>\n",
       "  <tbody>\n",
       "    <tr>\n",
       "      <th>1945</th>\n",
       "      <td>Forrest Gump</td>\n",
       "      <td>285</td>\n",
       "      <td>4.101754</td>\n",
       "    </tr>\n",
       "    <tr>\n",
       "      <th>4203</th>\n",
       "      <td>Pulp Fiction</td>\n",
       "      <td>271</td>\n",
       "      <td>4.214022</td>\n",
       "    </tr>\n",
       "    <tr>\n",
       "      <th>4656</th>\n",
       "      <td>Shawshank Redemption, The</td>\n",
       "      <td>263</td>\n",
       "      <td>4.517110</td>\n",
       "    </tr>\n",
       "    <tr>\n",
       "      <th>4715</th>\n",
       "      <td>Silence of the Lambs, The</td>\n",
       "      <td>253</td>\n",
       "      <td>4.134387</td>\n",
       "    </tr>\n",
       "    <tr>\n",
       "      <th>4924</th>\n",
       "      <td>Star Wars: Episode IV - A New Hope</td>\n",
       "      <td>239</td>\n",
       "      <td>4.209205</td>\n",
       "    </tr>\n",
       "    <tr>\n",
       "      <th>2840</th>\n",
       "      <td>Jurassic Park</td>\n",
       "      <td>223</td>\n",
       "      <td>3.708520</td>\n",
       "    </tr>\n",
       "    <tr>\n",
       "      <th>3360</th>\n",
       "      <td>Matrix, The</td>\n",
       "      <td>213</td>\n",
       "      <td>4.169014</td>\n",
       "    </tr>\n",
       "    <tr>\n",
       "      <th>4539</th>\n",
       "      <td>Schindler's List</td>\n",
       "      <td>202</td>\n",
       "      <td>4.287129</td>\n",
       "    </tr>\n",
       "    <tr>\n",
       "      <th>5398</th>\n",
       "      <td>Toy Story</td>\n",
       "      <td>200</td>\n",
       "      <td>3.915000</td>\n",
       "    </tr>\n",
       "    <tr>\n",
       "      <th>5161</th>\n",
       "      <td>Terminator 2: Judgment Day</td>\n",
       "      <td>193</td>\n",
       "      <td>4.038860</td>\n",
       "    </tr>\n",
       "  </tbody>\n",
       "</table>\n",
       "</div>"
      ],
      "text/plain": [
       "                                   title  Total Reviewers    rating\n",
       "1945                        Forrest Gump              285  4.101754\n",
       "4203                        Pulp Fiction              271  4.214022\n",
       "4656           Shawshank Redemption, The              263  4.517110\n",
       "4715           Silence of the Lambs, The              253  4.134387\n",
       "4924  Star Wars: Episode IV - A New Hope              239  4.209205\n",
       "2840                       Jurassic Park              223  3.708520\n",
       "3360                         Matrix, The              213  4.169014\n",
       "4539                    Schindler's List              202  4.287129\n",
       "5398                           Toy Story              200  3.915000\n",
       "5161          Terminator 2: Judgment Day              193  4.038860"
      ]
     },
     "execution_count": 36,
     "metadata": {},
     "output_type": "execute_result"
    }
   ],
   "source": [
    "# 10 Most popular movies\n",
    "grid.sort_values(['Total Reviewers','rating'], ascending=False).head(10)"
   ]
  },
  {
   "cell_type": "code",
   "execution_count": 37,
   "metadata": {
    "collapsed": false
   },
   "outputs": [
    {
     "data": {
      "image/png": "[encoded data removed]",
      "text/plain": [
       "<matplotlib.figure.Figure at 0x21fb0f98>"
      ]
     },
     "metadata": {},
     "output_type": "display_data"
    }
   ],
   "source": [
    "grid.plot.scatter(x='Total Reviewers', y='rating', color='DarkGreen', title=\"Star Ratings by Mean\");"
   ]
  },
  {
   "cell_type": "markdown",
   "metadata": {},
   "source": [
    "This plot shows the total reviews and the average rating value for each movie in the data set. Using this scatterplot, we can easily identify the distribution of 10 most popular movies, the most reviewed movies, and the least popular movies."
   ]
  },
  {
   "cell_type": "code",
   "execution_count": 38,
   "metadata": {
    "collapsed": false
   },
   "outputs": [
    {
     "name": "stdout",
     "output_type": "stream",
     "text": [
      "       Total Reviewers       rating\n",
      "count      5943.000000  5943.000000\n",
      "mean          9.552078     3.529027\n",
      "std          21.041302     0.916930\n",
      "min           1.000000     0.500000\n",
      "25%           1.000000     3.000000\n",
      "50%           2.000000     3.675000\n",
      "75%           8.000000     4.000000\n",
      "max         285.000000     5.000000\n"
     ]
    },
    {
     "data": {
      "image/png": "[encoded data removed]",
      "text/plain": [
       "<matplotlib.figure.Figure at 0x251d3278>"
      ]
     },
     "metadata": {},
     "output_type": "display_data"
    }
   ],
   "source": [
    "print (grid.describe())\n",
    "grid.plot(x='Total Reviewers', y='rating', kind='hexbin', xscale='log',\n",
    "                  cmap='YlGnBu', gridsize=12, mincnt=1, \n",
    "                  title=\"Star Ratings by Mean\")\n",
    "\n",
    "plt.show()"
   ]
  },
  {
   "cell_type": "markdown",
   "metadata": {},
   "source": [
    "In this plot, when we display the mean against the number of reviews for the entire movie ratings data set, a pattern begins to clearly emerge. It shows that the average rating of a movie is actually slightly higher than 2.5. \n",
    "\n",
    "There is a strong cluster of movies with approximately 550 reviewers, whose simple mean rating surrounds 3.8, not 3.5. \n",
    "\n",
    "This contrasts with the right side of the figure, where you can clearly see that the most number of ratings (75%) is between 3.5 and 4.0 (when there are few reviewers in comparison with the left side).\n",
    "\n",
    "The figure visually calls our attention to a problem. When there are less than 5 reviewers, there are dramatic tails that ensure equally high and low reviews. \n",
    "\n",
    "So another plot was generated with movies with more than 5 reviews to visualize the differences."
   ]
  },
  {
   "cell_type": "code",
   "execution_count": 39,
   "metadata": {
    "collapsed": false
   },
   "outputs": [
    {
     "name": "stdout",
     "output_type": "stream",
     "text": [
      "       Total Reviewers       rating\n",
      "count      1914.000000  1914.000000\n",
      "mean         25.665099     3.632184\n",
      "std          31.445905     0.492187\n",
      "min           6.000000     1.375000\n",
      "25%           8.000000     3.345159\n",
      "50%          14.000000     3.688820\n",
      "75%          29.000000     4.000000\n",
      "max         285.000000     4.857143\n"
     ]
    },
    {
     "data": {
      "image/png": "[encoded data removed]",
      "text/plain": [
       "<matplotlib.figure.Figure at 0x229c0240>"
      ]
     },
     "metadata": {},
     "output_type": "display_data"
    }
   ],
   "source": [
    "print (grid.loc[grid['Total Reviewers'] > 5].describe())\n",
    "\n",
    "grid.loc[grid['Total Reviewers'] > 5].plot(x='Total Reviewers', y='rating', kind='hexbin', xscale='log',\n",
    "                  cmap='YlGnBu', gridsize=12, mincnt=1, \n",
    "                  title=\"Star Ratings by Mean\")\n",
    "\n",
    "plt.show()"
   ]
  },
  {
   "cell_type": "markdown",
   "metadata": {},
   "source": [
    "In the latest plot the average rating is 3.6 the means are better distributed. So we can state that the mean rating is good indicator when we have more than 5 reviews per movie.\n",
    "So, is always good to have more reviews for better results per movies. User feedback/rating is verys useful for future predictions and recommendations. \n",
    "\n",
    "So, we decided to remove all the movies that has less than 6 reviews, the following code takes care of that."
   ]
  },
  {
   "cell_type": "code",
   "execution_count": 40,
   "metadata": {
    "collapsed": false,
    "scrolled": true
   },
   "outputs": [
    {
     "data": {
      "text/html": [
       "<div>\n",
       "<table border=\"1\" class=\"dataframe\">\n",
       "  <thead>\n",
       "    <tr style=\"text-align: right;\">\n",
       "      <th></th>\n",
       "      <th>movieId</th>\n",
       "      <th>counts</th>\n",
       "    </tr>\n",
       "  </thead>\n",
       "  <tbody>\n",
       "    <tr>\n",
       "      <th>count</th>\n",
       "      <td>6101.000000</td>\n",
       "      <td>6101.000000</td>\n",
       "    </tr>\n",
       "    <tr>\n",
       "      <th>mean</th>\n",
       "      <td>24764.752827</td>\n",
       "      <td>9.304704</td>\n",
       "    </tr>\n",
       "    <tr>\n",
       "      <th>std</th>\n",
       "      <td>36787.379138</td>\n",
       "      <td>20.736064</td>\n",
       "    </tr>\n",
       "    <tr>\n",
       "      <th>min</th>\n",
       "      <td>1.000000</td>\n",
       "      <td>1.000000</td>\n",
       "    </tr>\n",
       "    <tr>\n",
       "      <th>25%</th>\n",
       "      <td>2137.000000</td>\n",
       "      <td>1.000000</td>\n",
       "    </tr>\n",
       "    <tr>\n",
       "      <th>50%</th>\n",
       "      <td>4623.000000</td>\n",
       "      <td>2.000000</td>\n",
       "    </tr>\n",
       "    <tr>\n",
       "      <th>75%</th>\n",
       "      <td>42163.000000</td>\n",
       "      <td>8.000000</td>\n",
       "    </tr>\n",
       "    <tr>\n",
       "      <th>max</th>\n",
       "      <td>162672.000000</td>\n",
       "      <td>285.000000</td>\n",
       "    </tr>\n",
       "  </tbody>\n",
       "</table>\n",
       "</div>"
      ],
      "text/plain": [
       "             movieId       counts\n",
       "count    6101.000000  6101.000000\n",
       "mean    24764.752827     9.304704\n",
       "std     36787.379138    20.736064\n",
       "min         1.000000     1.000000\n",
       "25%      2137.000000     1.000000\n",
       "50%      4623.000000     2.000000\n",
       "75%     42163.000000     8.000000\n",
       "max    162672.000000   285.000000"
      ]
     },
     "execution_count": 40,
     "metadata": {},
     "output_type": "execute_result"
    }
   ],
   "source": [
    "# Checking how many ratings a movie has, in this case was min =1 and max = 341\n",
    "Moviesg_df = Rating_movies.groupby(['movieId']).size().reset_index(name='counts')\n",
    "Moviesg_df.describe()"
   ]
  },
  {
   "cell_type": "code",
   "execution_count": 41,
   "metadata": {
    "collapsed": true
   },
   "outputs": [],
   "source": [
    "# Create an array that has all the movieId's with less than 6 reviews\n",
    "arr2 = Moviesg_df['movieId'].loc[Moviesg_df['counts'] < 6]"
   ]
  },
  {
   "cell_type": "code",
   "execution_count": 42,
   "metadata": {
    "collapsed": false
   },
   "outputs": [],
   "source": [
    "# Create new Ratings data set without movies with less than 6 reviews\n",
    "Rated_movies = Rating_movies[(Rating_movies['movieId'].isin(arr2)==False)]\n"
   ]
  },
  {
   "cell_type": "markdown",
   "metadata": {},
   "source": [
    "In the following data set, these outliers have been removed, and it shall be used for the recommendation models."
   ]
  },
  {
   "cell_type": "code",
   "execution_count": 43,
   "metadata": {
    "collapsed": false
   },
   "outputs": [
    {
     "data": {
      "text/html": [
       "<div>\n",
       "<table border=\"1\" class=\"dataframe\">\n",
       "  <thead>\n",
       "    <tr style=\"text-align: right;\">\n",
       "      <th></th>\n",
       "      <th>userId</th>\n",
       "      <th>movieId</th>\n",
       "      <th>rating</th>\n",
       "      <th>title</th>\n",
       "      <th>ORIG_TITLE</th>\n",
       "      <th>YEAR</th>\n",
       "      <th>ACTION</th>\n",
       "      <th>ADVENTURE</th>\n",
       "      <th>ANIMATION</th>\n",
       "      <th>CHILDREN</th>\n",
       "      <th>...</th>\n",
       "      <th>FANTASY</th>\n",
       "      <th>FILM-NOIR</th>\n",
       "      <th>HORROR</th>\n",
       "      <th>MUSICAL</th>\n",
       "      <th>MYSTERY</th>\n",
       "      <th>ROMANCE</th>\n",
       "      <th>SCI-FI</th>\n",
       "      <th>THRILLER</th>\n",
       "      <th>WAR</th>\n",
       "      <th>WESTERN</th>\n",
       "    </tr>\n",
       "  </thead>\n",
       "  <tbody>\n",
       "    <tr>\n",
       "      <th>0</th>\n",
       "      <td>1</td>\n",
       "      <td>31</td>\n",
       "      <td>2.5</td>\n",
       "      <td>Dangerous Minds</td>\n",
       "      <td>Dangerous Minds (1995)</td>\n",
       "      <td>1995</td>\n",
       "      <td>0</td>\n",
       "      <td>0</td>\n",
       "      <td>0</td>\n",
       "      <td>0</td>\n",
       "      <td>...</td>\n",
       "      <td>0</td>\n",
       "      <td>0</td>\n",
       "      <td>0</td>\n",
       "      <td>0</td>\n",
       "      <td>0</td>\n",
       "      <td>0</td>\n",
       "      <td>0</td>\n",
       "      <td>0</td>\n",
       "      <td>0</td>\n",
       "      <td>0</td>\n",
       "    </tr>\n",
       "    <tr>\n",
       "      <th>1</th>\n",
       "      <td>7</td>\n",
       "      <td>31</td>\n",
       "      <td>3.0</td>\n",
       "      <td>Dangerous Minds</td>\n",
       "      <td>Dangerous Minds (1995)</td>\n",
       "      <td>1995</td>\n",
       "      <td>0</td>\n",
       "      <td>0</td>\n",
       "      <td>0</td>\n",
       "      <td>0</td>\n",
       "      <td>...</td>\n",
       "      <td>0</td>\n",
       "      <td>0</td>\n",
       "      <td>0</td>\n",
       "      <td>0</td>\n",
       "      <td>0</td>\n",
       "      <td>0</td>\n",
       "      <td>0</td>\n",
       "      <td>0</td>\n",
       "      <td>0</td>\n",
       "      <td>0</td>\n",
       "    </tr>\n",
       "    <tr>\n",
       "      <th>2</th>\n",
       "      <td>31</td>\n",
       "      <td>31</td>\n",
       "      <td>4.0</td>\n",
       "      <td>Dangerous Minds</td>\n",
       "      <td>Dangerous Minds (1995)</td>\n",
       "      <td>1995</td>\n",
       "      <td>0</td>\n",
       "      <td>0</td>\n",
       "      <td>0</td>\n",
       "      <td>0</td>\n",
       "      <td>...</td>\n",
       "      <td>0</td>\n",
       "      <td>0</td>\n",
       "      <td>0</td>\n",
       "      <td>0</td>\n",
       "      <td>0</td>\n",
       "      <td>0</td>\n",
       "      <td>0</td>\n",
       "      <td>0</td>\n",
       "      <td>0</td>\n",
       "      <td>0</td>\n",
       "    </tr>\n",
       "    <tr>\n",
       "      <th>3</th>\n",
       "      <td>32</td>\n",
       "      <td>31</td>\n",
       "      <td>4.0</td>\n",
       "      <td>Dangerous Minds</td>\n",
       "      <td>Dangerous Minds (1995)</td>\n",
       "      <td>1995</td>\n",
       "      <td>0</td>\n",
       "      <td>0</td>\n",
       "      <td>0</td>\n",
       "      <td>0</td>\n",
       "      <td>...</td>\n",
       "      <td>0</td>\n",
       "      <td>0</td>\n",
       "      <td>0</td>\n",
       "      <td>0</td>\n",
       "      <td>0</td>\n",
       "      <td>0</td>\n",
       "      <td>0</td>\n",
       "      <td>0</td>\n",
       "      <td>0</td>\n",
       "      <td>0</td>\n",
       "    </tr>\n",
       "    <tr>\n",
       "      <th>4</th>\n",
       "      <td>36</td>\n",
       "      <td>31</td>\n",
       "      <td>3.0</td>\n",
       "      <td>Dangerous Minds</td>\n",
       "      <td>Dangerous Minds (1995)</td>\n",
       "      <td>1995</td>\n",
       "      <td>0</td>\n",
       "      <td>0</td>\n",
       "      <td>0</td>\n",
       "      <td>0</td>\n",
       "      <td>...</td>\n",
       "      <td>0</td>\n",
       "      <td>0</td>\n",
       "      <td>0</td>\n",
       "      <td>0</td>\n",
       "      <td>0</td>\n",
       "      <td>0</td>\n",
       "      <td>0</td>\n",
       "      <td>0</td>\n",
       "      <td>0</td>\n",
       "      <td>0</td>\n",
       "    </tr>\n",
       "    <tr>\n",
       "      <th>5</th>\n",
       "      <td>39</td>\n",
       "      <td>31</td>\n",
       "      <td>3.0</td>\n",
       "      <td>Dangerous Minds</td>\n",
       "      <td>Dangerous Minds (1995)</td>\n",
       "      <td>1995</td>\n",
       "      <td>0</td>\n",
       "      <td>0</td>\n",
       "      <td>0</td>\n",
       "      <td>0</td>\n",
       "      <td>...</td>\n",
       "      <td>0</td>\n",
       "      <td>0</td>\n",
       "      <td>0</td>\n",
       "      <td>0</td>\n",
       "      <td>0</td>\n",
       "      <td>0</td>\n",
       "      <td>0</td>\n",
       "      <td>0</td>\n",
       "      <td>0</td>\n",
       "      <td>0</td>\n",
       "    </tr>\n",
       "    <tr>\n",
       "      <th>6</th>\n",
       "      <td>88</td>\n",
       "      <td>31</td>\n",
       "      <td>3.0</td>\n",
       "      <td>Dangerous Minds</td>\n",
       "      <td>Dangerous Minds (1995)</td>\n",
       "      <td>1995</td>\n",
       "      <td>0</td>\n",
       "      <td>0</td>\n",
       "      <td>0</td>\n",
       "      <td>0</td>\n",
       "      <td>...</td>\n",
       "      <td>0</td>\n",
       "      <td>0</td>\n",
       "      <td>0</td>\n",
       "      <td>0</td>\n",
       "      <td>0</td>\n",
       "      <td>0</td>\n",
       "      <td>0</td>\n",
       "      <td>0</td>\n",
       "      <td>0</td>\n",
       "      <td>0</td>\n",
       "    </tr>\n",
       "    <tr>\n",
       "      <th>7</th>\n",
       "      <td>96</td>\n",
       "      <td>31</td>\n",
       "      <td>2.5</td>\n",
       "      <td>Dangerous Minds</td>\n",
       "      <td>Dangerous Minds (1995)</td>\n",
       "      <td>1995</td>\n",
       "      <td>0</td>\n",
       "      <td>0</td>\n",
       "      <td>0</td>\n",
       "      <td>0</td>\n",
       "      <td>...</td>\n",
       "      <td>0</td>\n",
       "      <td>0</td>\n",
       "      <td>0</td>\n",
       "      <td>0</td>\n",
       "      <td>0</td>\n",
       "      <td>0</td>\n",
       "      <td>0</td>\n",
       "      <td>0</td>\n",
       "      <td>0</td>\n",
       "      <td>0</td>\n",
       "    </tr>\n",
       "    <tr>\n",
       "      <th>8</th>\n",
       "      <td>110</td>\n",
       "      <td>31</td>\n",
       "      <td>4.0</td>\n",
       "      <td>Dangerous Minds</td>\n",
       "      <td>Dangerous Minds (1995)</td>\n",
       "      <td>1995</td>\n",
       "      <td>0</td>\n",
       "      <td>0</td>\n",
       "      <td>0</td>\n",
       "      <td>0</td>\n",
       "      <td>...</td>\n",
       "      <td>0</td>\n",
       "      <td>0</td>\n",
       "      <td>0</td>\n",
       "      <td>0</td>\n",
       "      <td>0</td>\n",
       "      <td>0</td>\n",
       "      <td>0</td>\n",
       "      <td>0</td>\n",
       "      <td>0</td>\n",
       "      <td>0</td>\n",
       "    </tr>\n",
       "    <tr>\n",
       "      <th>9</th>\n",
       "      <td>111</td>\n",
       "      <td>31</td>\n",
       "      <td>3.5</td>\n",
       "      <td>Dangerous Minds</td>\n",
       "      <td>Dangerous Minds (1995)</td>\n",
       "      <td>1995</td>\n",
       "      <td>0</td>\n",
       "      <td>0</td>\n",
       "      <td>0</td>\n",
       "      <td>0</td>\n",
       "      <td>...</td>\n",
       "      <td>0</td>\n",
       "      <td>0</td>\n",
       "      <td>0</td>\n",
       "      <td>0</td>\n",
       "      <td>0</td>\n",
       "      <td>0</td>\n",
       "      <td>0</td>\n",
       "      <td>0</td>\n",
       "      <td>0</td>\n",
       "      <td>0</td>\n",
       "    </tr>\n",
       "    <tr>\n",
       "      <th>10</th>\n",
       "      <td>161</td>\n",
       "      <td>31</td>\n",
       "      <td>3.0</td>\n",
       "      <td>Dangerous Minds</td>\n",
       "      <td>Dangerous Minds (1995)</td>\n",
       "      <td>1995</td>\n",
       "      <td>0</td>\n",
       "      <td>0</td>\n",
       "      <td>0</td>\n",
       "      <td>0</td>\n",
       "      <td>...</td>\n",
       "      <td>0</td>\n",
       "      <td>0</td>\n",
       "      <td>0</td>\n",
       "      <td>0</td>\n",
       "      <td>0</td>\n",
       "      <td>0</td>\n",
       "      <td>0</td>\n",
       "      <td>0</td>\n",
       "      <td>0</td>\n",
       "      <td>0</td>\n",
       "    </tr>\n",
       "    <tr>\n",
       "      <th>11</th>\n",
       "      <td>186</td>\n",
       "      <td>31</td>\n",
       "      <td>3.0</td>\n",
       "      <td>Dangerous Minds</td>\n",
       "      <td>Dangerous Minds (1995)</td>\n",
       "      <td>1995</td>\n",
       "      <td>0</td>\n",
       "      <td>0</td>\n",
       "      <td>0</td>\n",
       "      <td>0</td>\n",
       "      <td>...</td>\n",
       "      <td>0</td>\n",
       "      <td>0</td>\n",
       "      <td>0</td>\n",
       "      <td>0</td>\n",
       "      <td>0</td>\n",
       "      <td>0</td>\n",
       "      <td>0</td>\n",
       "      <td>0</td>\n",
       "      <td>0</td>\n",
       "      <td>0</td>\n",
       "    </tr>\n",
       "    <tr>\n",
       "      <th>12</th>\n",
       "      <td>254</td>\n",
       "      <td>31</td>\n",
       "      <td>3.0</td>\n",
       "      <td>Dangerous Minds</td>\n",
       "      <td>Dangerous Minds (1995)</td>\n",
       "      <td>1995</td>\n",
       "      <td>0</td>\n",
       "      <td>0</td>\n",
       "      <td>0</td>\n",
       "      <td>0</td>\n",
       "      <td>...</td>\n",
       "      <td>0</td>\n",
       "      <td>0</td>\n",
       "      <td>0</td>\n",
       "      <td>0</td>\n",
       "      <td>0</td>\n",
       "      <td>0</td>\n",
       "      <td>0</td>\n",
       "      <td>0</td>\n",
       "      <td>0</td>\n",
       "      <td>0</td>\n",
       "    </tr>\n",
       "    <tr>\n",
       "      <th>13</th>\n",
       "      <td>288</td>\n",
       "      <td>31</td>\n",
       "      <td>3.0</td>\n",
       "      <td>Dangerous Minds</td>\n",
       "      <td>Dangerous Minds (1995)</td>\n",
       "      <td>1995</td>\n",
       "      <td>0</td>\n",
       "      <td>0</td>\n",
       "      <td>0</td>\n",
       "      <td>0</td>\n",
       "      <td>...</td>\n",
       "      <td>0</td>\n",
       "      <td>0</td>\n",
       "      <td>0</td>\n",
       "      <td>0</td>\n",
       "      <td>0</td>\n",
       "      <td>0</td>\n",
       "      <td>0</td>\n",
       "      <td>0</td>\n",
       "      <td>0</td>\n",
       "      <td>0</td>\n",
       "    </tr>\n",
       "    <tr>\n",
       "      <th>14</th>\n",
       "      <td>310</td>\n",
       "      <td>31</td>\n",
       "      <td>1.5</td>\n",
       "      <td>Dangerous Minds</td>\n",
       "      <td>Dangerous Minds (1995)</td>\n",
       "      <td>1995</td>\n",
       "      <td>0</td>\n",
       "      <td>0</td>\n",
       "      <td>0</td>\n",
       "      <td>0</td>\n",
       "      <td>...</td>\n",
       "      <td>0</td>\n",
       "      <td>0</td>\n",
       "      <td>0</td>\n",
       "      <td>0</td>\n",
       "      <td>0</td>\n",
       "      <td>0</td>\n",
       "      <td>0</td>\n",
       "      <td>0</td>\n",
       "      <td>0</td>\n",
       "      <td>0</td>\n",
       "    </tr>\n",
       "    <tr>\n",
       "      <th>15</th>\n",
       "      <td>325</td>\n",
       "      <td>31</td>\n",
       "      <td>4.5</td>\n",
       "      <td>Dangerous Minds</td>\n",
       "      <td>Dangerous Minds (1995)</td>\n",
       "      <td>1995</td>\n",
       "      <td>0</td>\n",
       "      <td>0</td>\n",
       "      <td>0</td>\n",
       "      <td>0</td>\n",
       "      <td>...</td>\n",
       "      <td>0</td>\n",
       "      <td>0</td>\n",
       "      <td>0</td>\n",
       "      <td>0</td>\n",
       "      <td>0</td>\n",
       "      <td>0</td>\n",
       "      <td>0</td>\n",
       "      <td>0</td>\n",
       "      <td>0</td>\n",
       "      <td>0</td>\n",
       "    </tr>\n",
       "    <tr>\n",
       "      <th>16</th>\n",
       "      <td>338</td>\n",
       "      <td>31</td>\n",
       "      <td>3.0</td>\n",
       "      <td>Dangerous Minds</td>\n",
       "      <td>Dangerous Minds (1995)</td>\n",
       "      <td>1995</td>\n",
       "      <td>0</td>\n",
       "      <td>0</td>\n",
       "      <td>0</td>\n",
       "      <td>0</td>\n",
       "      <td>...</td>\n",
       "      <td>0</td>\n",
       "      <td>0</td>\n",
       "      <td>0</td>\n",
       "      <td>0</td>\n",
       "      <td>0</td>\n",
       "      <td>0</td>\n",
       "      <td>0</td>\n",
       "      <td>0</td>\n",
       "      <td>0</td>\n",
       "      <td>0</td>\n",
       "    </tr>\n",
       "    <tr>\n",
       "      <th>17</th>\n",
       "      <td>341</td>\n",
       "      <td>31</td>\n",
       "      <td>4.5</td>\n",
       "      <td>Dangerous Minds</td>\n",
       "      <td>Dangerous Minds (1995)</td>\n",
       "      <td>1995</td>\n",
       "      <td>0</td>\n",
       "      <td>0</td>\n",
       "      <td>0</td>\n",
       "      <td>0</td>\n",
       "      <td>...</td>\n",
       "      <td>0</td>\n",
       "      <td>0</td>\n",
       "      <td>0</td>\n",
       "      <td>0</td>\n",
       "      <td>0</td>\n",
       "      <td>0</td>\n",
       "      <td>0</td>\n",
       "      <td>0</td>\n",
       "      <td>0</td>\n",
       "      <td>0</td>\n",
       "    </tr>\n",
       "    <tr>\n",
       "      <th>18</th>\n",
       "      <td>386</td>\n",
       "      <td>31</td>\n",
       "      <td>2.0</td>\n",
       "      <td>Dangerous Minds</td>\n",
       "      <td>Dangerous Minds (1995)</td>\n",
       "      <td>1995</td>\n",
       "      <td>0</td>\n",
       "      <td>0</td>\n",
       "      <td>0</td>\n",
       "      <td>0</td>\n",
       "      <td>...</td>\n",
       "      <td>0</td>\n",
       "      <td>0</td>\n",
       "      <td>0</td>\n",
       "      <td>0</td>\n",
       "      <td>0</td>\n",
       "      <td>0</td>\n",
       "      <td>0</td>\n",
       "      <td>0</td>\n",
       "      <td>0</td>\n",
       "      <td>0</td>\n",
       "    </tr>\n",
       "    <tr>\n",
       "      <th>19</th>\n",
       "      <td>394</td>\n",
       "      <td>31</td>\n",
       "      <td>2.0</td>\n",
       "      <td>Dangerous Minds</td>\n",
       "      <td>Dangerous Minds (1995)</td>\n",
       "      <td>1995</td>\n",
       "      <td>0</td>\n",
       "      <td>0</td>\n",
       "      <td>0</td>\n",
       "      <td>0</td>\n",
       "      <td>...</td>\n",
       "      <td>0</td>\n",
       "      <td>0</td>\n",
       "      <td>0</td>\n",
       "      <td>0</td>\n",
       "      <td>0</td>\n",
       "      <td>0</td>\n",
       "      <td>0</td>\n",
       "      <td>0</td>\n",
       "      <td>0</td>\n",
       "      <td>0</td>\n",
       "    </tr>\n",
       "    <tr>\n",
       "      <th>20</th>\n",
       "      <td>485</td>\n",
       "      <td>31</td>\n",
       "      <td>4.0</td>\n",
       "      <td>Dangerous Minds</td>\n",
       "      <td>Dangerous Minds (1995)</td>\n",
       "      <td>1995</td>\n",
       "      <td>0</td>\n",
       "      <td>0</td>\n",
       "      <td>0</td>\n",
       "      <td>0</td>\n",
       "      <td>...</td>\n",
       "      <td>0</td>\n",
       "      <td>0</td>\n",
       "      <td>0</td>\n",
       "      <td>0</td>\n",
       "      <td>0</td>\n",
       "      <td>0</td>\n",
       "      <td>0</td>\n",
       "      <td>0</td>\n",
       "      <td>0</td>\n",
       "      <td>0</td>\n",
       "    </tr>\n",
       "    <tr>\n",
       "      <th>21</th>\n",
       "      <td>487</td>\n",
       "      <td>31</td>\n",
       "      <td>5.0</td>\n",
       "      <td>Dangerous Minds</td>\n",
       "      <td>Dangerous Minds (1995)</td>\n",
       "      <td>1995</td>\n",
       "      <td>0</td>\n",
       "      <td>0</td>\n",
       "      <td>0</td>\n",
       "      <td>0</td>\n",
       "      <td>...</td>\n",
       "      <td>0</td>\n",
       "      <td>0</td>\n",
       "      <td>0</td>\n",
       "      <td>0</td>\n",
       "      <td>0</td>\n",
       "      <td>0</td>\n",
       "      <td>0</td>\n",
       "      <td>0</td>\n",
       "      <td>0</td>\n",
       "      <td>0</td>\n",
       "    </tr>\n",
       "    <tr>\n",
       "      <th>22</th>\n",
       "      <td>496</td>\n",
       "      <td>31</td>\n",
       "      <td>4.0</td>\n",
       "      <td>Dangerous Minds</td>\n",
       "      <td>Dangerous Minds (1995)</td>\n",
       "      <td>1995</td>\n",
       "      <td>0</td>\n",
       "      <td>0</td>\n",
       "      <td>0</td>\n",
       "      <td>0</td>\n",
       "      <td>...</td>\n",
       "      <td>0</td>\n",
       "      <td>0</td>\n",
       "      <td>0</td>\n",
       "      <td>0</td>\n",
       "      <td>0</td>\n",
       "      <td>0</td>\n",
       "      <td>0</td>\n",
       "      <td>0</td>\n",
       "      <td>0</td>\n",
       "      <td>0</td>\n",
       "    </tr>\n",
       "    <tr>\n",
       "      <th>23</th>\n",
       "      <td>511</td>\n",
       "      <td>31</td>\n",
       "      <td>4.0</td>\n",
       "      <td>Dangerous Minds</td>\n",
       "      <td>Dangerous Minds (1995)</td>\n",
       "      <td>1995</td>\n",
       "      <td>0</td>\n",
       "      <td>0</td>\n",
       "      <td>0</td>\n",
       "      <td>0</td>\n",
       "      <td>...</td>\n",
       "      <td>0</td>\n",
       "      <td>0</td>\n",
       "      <td>0</td>\n",
       "      <td>0</td>\n",
       "      <td>0</td>\n",
       "      <td>0</td>\n",
       "      <td>0</td>\n",
       "      <td>0</td>\n",
       "      <td>0</td>\n",
       "      <td>0</td>\n",
       "    </tr>\n",
       "    <tr>\n",
       "      <th>24</th>\n",
       "      <td>516</td>\n",
       "      <td>31</td>\n",
       "      <td>4.0</td>\n",
       "      <td>Dangerous Minds</td>\n",
       "      <td>Dangerous Minds (1995)</td>\n",
       "      <td>1995</td>\n",
       "      <td>0</td>\n",
       "      <td>0</td>\n",
       "      <td>0</td>\n",
       "      <td>0</td>\n",
       "      <td>...</td>\n",
       "      <td>0</td>\n",
       "      <td>0</td>\n",
       "      <td>0</td>\n",
       "      <td>0</td>\n",
       "      <td>0</td>\n",
       "      <td>0</td>\n",
       "      <td>0</td>\n",
       "      <td>0</td>\n",
       "      <td>0</td>\n",
       "      <td>0</td>\n",
       "    </tr>\n",
       "    <tr>\n",
       "      <th>25</th>\n",
       "      <td>525</td>\n",
       "      <td>31</td>\n",
       "      <td>4.0</td>\n",
       "      <td>Dangerous Minds</td>\n",
       "      <td>Dangerous Minds (1995)</td>\n",
       "      <td>1995</td>\n",
       "      <td>0</td>\n",
       "      <td>0</td>\n",
       "      <td>0</td>\n",
       "      <td>0</td>\n",
       "      <td>...</td>\n",
       "      <td>0</td>\n",
       "      <td>0</td>\n",
       "      <td>0</td>\n",
       "      <td>0</td>\n",
       "      <td>0</td>\n",
       "      <td>0</td>\n",
       "      <td>0</td>\n",
       "      <td>0</td>\n",
       "      <td>0</td>\n",
       "      <td>0</td>\n",
       "    </tr>\n",
       "    <tr>\n",
       "      <th>26</th>\n",
       "      <td>590</td>\n",
       "      <td>31</td>\n",
       "      <td>3.0</td>\n",
       "      <td>Dangerous Minds</td>\n",
       "      <td>Dangerous Minds (1995)</td>\n",
       "      <td>1995</td>\n",
       "      <td>0</td>\n",
       "      <td>0</td>\n",
       "      <td>0</td>\n",
       "      <td>0</td>\n",
       "      <td>...</td>\n",
       "      <td>0</td>\n",
       "      <td>0</td>\n",
       "      <td>0</td>\n",
       "      <td>0</td>\n",
       "      <td>0</td>\n",
       "      <td>0</td>\n",
       "      <td>0</td>\n",
       "      <td>0</td>\n",
       "      <td>0</td>\n",
       "      <td>0</td>\n",
       "    </tr>\n",
       "    <tr>\n",
       "      <th>27</th>\n",
       "      <td>601</td>\n",
       "      <td>31</td>\n",
       "      <td>3.0</td>\n",
       "      <td>Dangerous Minds</td>\n",
       "      <td>Dangerous Minds (1995)</td>\n",
       "      <td>1995</td>\n",
       "      <td>0</td>\n",
       "      <td>0</td>\n",
       "      <td>0</td>\n",
       "      <td>0</td>\n",
       "      <td>...</td>\n",
       "      <td>0</td>\n",
       "      <td>0</td>\n",
       "      <td>0</td>\n",
       "      <td>0</td>\n",
       "      <td>0</td>\n",
       "      <td>0</td>\n",
       "      <td>0</td>\n",
       "      <td>0</td>\n",
       "      <td>0</td>\n",
       "      <td>0</td>\n",
       "    </tr>\n",
       "    <tr>\n",
       "      <th>28</th>\n",
       "      <td>619</td>\n",
       "      <td>31</td>\n",
       "      <td>3.0</td>\n",
       "      <td>Dangerous Minds</td>\n",
       "      <td>Dangerous Minds (1995)</td>\n",
       "      <td>1995</td>\n",
       "      <td>0</td>\n",
       "      <td>0</td>\n",
       "      <td>0</td>\n",
       "      <td>0</td>\n",
       "      <td>...</td>\n",
       "      <td>0</td>\n",
       "      <td>0</td>\n",
       "      <td>0</td>\n",
       "      <td>0</td>\n",
       "      <td>0</td>\n",
       "      <td>0</td>\n",
       "      <td>0</td>\n",
       "      <td>0</td>\n",
       "      <td>0</td>\n",
       "      <td>0</td>\n",
       "    </tr>\n",
       "    <tr>\n",
       "      <th>29</th>\n",
       "      <td>639</td>\n",
       "      <td>31</td>\n",
       "      <td>3.0</td>\n",
       "      <td>Dangerous Minds</td>\n",
       "      <td>Dangerous Minds (1995)</td>\n",
       "      <td>1995</td>\n",
       "      <td>0</td>\n",
       "      <td>0</td>\n",
       "      <td>0</td>\n",
       "      <td>0</td>\n",
       "      <td>...</td>\n",
       "      <td>0</td>\n",
       "      <td>0</td>\n",
       "      <td>0</td>\n",
       "      <td>0</td>\n",
       "      <td>0</td>\n",
       "      <td>0</td>\n",
       "      <td>0</td>\n",
       "      <td>0</td>\n",
       "      <td>0</td>\n",
       "      <td>0</td>\n",
       "    </tr>\n",
       "    <tr>\n",
       "      <th>...</th>\n",
       "      <td>...</td>\n",
       "      <td>...</td>\n",
       "      <td>...</td>\n",
       "      <td>...</td>\n",
       "      <td>...</td>\n",
       "      <td>...</td>\n",
       "      <td>...</td>\n",
       "      <td>...</td>\n",
       "      <td>...</td>\n",
       "      <td>...</td>\n",
       "      <td>...</td>\n",
       "      <td>...</td>\n",
       "      <td>...</td>\n",
       "      <td>...</td>\n",
       "      <td>...</td>\n",
       "      <td>...</td>\n",
       "      <td>...</td>\n",
       "      <td>...</td>\n",
       "      <td>...</td>\n",
       "      <td>...</td>\n",
       "      <td>...</td>\n",
       "    </tr>\n",
       "    <tr>\n",
       "      <th>54847</th>\n",
       "      <td>420</td>\n",
       "      <td>907</td>\n",
       "      <td>3.0</td>\n",
       "      <td>Gay Divorcee, The</td>\n",
       "      <td>Gay Divorcee, The (1934)</td>\n",
       "      <td>1934</td>\n",
       "      <td>0</td>\n",
       "      <td>0</td>\n",
       "      <td>0</td>\n",
       "      <td>0</td>\n",
       "      <td>...</td>\n",
       "      <td>0</td>\n",
       "      <td>0</td>\n",
       "      <td>0</td>\n",
       "      <td>1</td>\n",
       "      <td>0</td>\n",
       "      <td>1</td>\n",
       "      <td>0</td>\n",
       "      <td>0</td>\n",
       "      <td>0</td>\n",
       "      <td>0</td>\n",
       "    </tr>\n",
       "    <tr>\n",
       "      <th>54848</th>\n",
       "      <td>537</td>\n",
       "      <td>907</td>\n",
       "      <td>5.0</td>\n",
       "      <td>Gay Divorcee, The</td>\n",
       "      <td>Gay Divorcee, The (1934)</td>\n",
       "      <td>1934</td>\n",
       "      <td>0</td>\n",
       "      <td>0</td>\n",
       "      <td>0</td>\n",
       "      <td>0</td>\n",
       "      <td>...</td>\n",
       "      <td>0</td>\n",
       "      <td>0</td>\n",
       "      <td>0</td>\n",
       "      <td>1</td>\n",
       "      <td>0</td>\n",
       "      <td>1</td>\n",
       "      <td>0</td>\n",
       "      <td>0</td>\n",
       "      <td>0</td>\n",
       "      <td>0</td>\n",
       "    </tr>\n",
       "    <tr>\n",
       "      <th>54849</th>\n",
       "      <td>585</td>\n",
       "      <td>907</td>\n",
       "      <td>5.0</td>\n",
       "      <td>Gay Divorcee, The</td>\n",
       "      <td>Gay Divorcee, The (1934)</td>\n",
       "      <td>1934</td>\n",
       "      <td>0</td>\n",
       "      <td>0</td>\n",
       "      <td>0</td>\n",
       "      <td>0</td>\n",
       "      <td>...</td>\n",
       "      <td>0</td>\n",
       "      <td>0</td>\n",
       "      <td>0</td>\n",
       "      <td>1</td>\n",
       "      <td>0</td>\n",
       "      <td>1</td>\n",
       "      <td>0</td>\n",
       "      <td>0</td>\n",
       "      <td>0</td>\n",
       "      <td>0</td>\n",
       "    </tr>\n",
       "    <tr>\n",
       "      <th>54850</th>\n",
       "      <td>597</td>\n",
       "      <td>907</td>\n",
       "      <td>5.0</td>\n",
       "      <td>Gay Divorcee, The</td>\n",
       "      <td>Gay Divorcee, The (1934)</td>\n",
       "      <td>1934</td>\n",
       "      <td>0</td>\n",
       "      <td>0</td>\n",
       "      <td>0</td>\n",
       "      <td>0</td>\n",
       "      <td>...</td>\n",
       "      <td>0</td>\n",
       "      <td>0</td>\n",
       "      <td>0</td>\n",
       "      <td>1</td>\n",
       "      <td>0</td>\n",
       "      <td>1</td>\n",
       "      <td>0</td>\n",
       "      <td>0</td>\n",
       "      <td>0</td>\n",
       "      <td>0</td>\n",
       "    </tr>\n",
       "    <tr>\n",
       "      <th>54851</th>\n",
       "      <td>372</td>\n",
       "      <td>1066</td>\n",
       "      <td>4.0</td>\n",
       "      <td>Shall We Dance</td>\n",
       "      <td>Shall We Dance (1937)</td>\n",
       "      <td>1937</td>\n",
       "      <td>0</td>\n",
       "      <td>0</td>\n",
       "      <td>0</td>\n",
       "      <td>0</td>\n",
       "      <td>...</td>\n",
       "      <td>0</td>\n",
       "      <td>0</td>\n",
       "      <td>0</td>\n",
       "      <td>1</td>\n",
       "      <td>0</td>\n",
       "      <td>1</td>\n",
       "      <td>0</td>\n",
       "      <td>0</td>\n",
       "      <td>0</td>\n",
       "      <td>0</td>\n",
       "    </tr>\n",
       "    <tr>\n",
       "      <th>54852</th>\n",
       "      <td>387</td>\n",
       "      <td>1066</td>\n",
       "      <td>5.0</td>\n",
       "      <td>Shall We Dance</td>\n",
       "      <td>Shall We Dance (1937)</td>\n",
       "      <td>1937</td>\n",
       "      <td>0</td>\n",
       "      <td>0</td>\n",
       "      <td>0</td>\n",
       "      <td>0</td>\n",
       "      <td>...</td>\n",
       "      <td>0</td>\n",
       "      <td>0</td>\n",
       "      <td>0</td>\n",
       "      <td>1</td>\n",
       "      <td>0</td>\n",
       "      <td>1</td>\n",
       "      <td>0</td>\n",
       "      <td>0</td>\n",
       "      <td>0</td>\n",
       "      <td>0</td>\n",
       "    </tr>\n",
       "    <tr>\n",
       "      <th>54853</th>\n",
       "      <td>408</td>\n",
       "      <td>1066</td>\n",
       "      <td>5.0</td>\n",
       "      <td>Shall We Dance</td>\n",
       "      <td>Shall We Dance (1937)</td>\n",
       "      <td>1937</td>\n",
       "      <td>0</td>\n",
       "      <td>0</td>\n",
       "      <td>0</td>\n",
       "      <td>0</td>\n",
       "      <td>...</td>\n",
       "      <td>0</td>\n",
       "      <td>0</td>\n",
       "      <td>0</td>\n",
       "      <td>1</td>\n",
       "      <td>0</td>\n",
       "      <td>1</td>\n",
       "      <td>0</td>\n",
       "      <td>0</td>\n",
       "      <td>0</td>\n",
       "      <td>0</td>\n",
       "    </tr>\n",
       "    <tr>\n",
       "      <th>54854</th>\n",
       "      <td>493</td>\n",
       "      <td>1066</td>\n",
       "      <td>3.0</td>\n",
       "      <td>Shall We Dance</td>\n",
       "      <td>Shall We Dance (1937)</td>\n",
       "      <td>1937</td>\n",
       "      <td>0</td>\n",
       "      <td>0</td>\n",
       "      <td>0</td>\n",
       "      <td>0</td>\n",
       "      <td>...</td>\n",
       "      <td>0</td>\n",
       "      <td>0</td>\n",
       "      <td>0</td>\n",
       "      <td>1</td>\n",
       "      <td>0</td>\n",
       "      <td>1</td>\n",
       "      <td>0</td>\n",
       "      <td>0</td>\n",
       "      <td>0</td>\n",
       "      <td>0</td>\n",
       "    </tr>\n",
       "    <tr>\n",
       "      <th>54855</th>\n",
       "      <td>537</td>\n",
       "      <td>1066</td>\n",
       "      <td>5.0</td>\n",
       "      <td>Shall We Dance</td>\n",
       "      <td>Shall We Dance (1937)</td>\n",
       "      <td>1937</td>\n",
       "      <td>0</td>\n",
       "      <td>0</td>\n",
       "      <td>0</td>\n",
       "      <td>0</td>\n",
       "      <td>...</td>\n",
       "      <td>0</td>\n",
       "      <td>0</td>\n",
       "      <td>0</td>\n",
       "      <td>1</td>\n",
       "      <td>0</td>\n",
       "      <td>1</td>\n",
       "      <td>0</td>\n",
       "      <td>0</td>\n",
       "      <td>0</td>\n",
       "      <td>0</td>\n",
       "    </tr>\n",
       "    <tr>\n",
       "      <th>54856</th>\n",
       "      <td>539</td>\n",
       "      <td>1066</td>\n",
       "      <td>4.0</td>\n",
       "      <td>Shall We Dance</td>\n",
       "      <td>Shall We Dance (1937)</td>\n",
       "      <td>1937</td>\n",
       "      <td>0</td>\n",
       "      <td>0</td>\n",
       "      <td>0</td>\n",
       "      <td>0</td>\n",
       "      <td>...</td>\n",
       "      <td>0</td>\n",
       "      <td>0</td>\n",
       "      <td>0</td>\n",
       "      <td>1</td>\n",
       "      <td>0</td>\n",
       "      <td>1</td>\n",
       "      <td>0</td>\n",
       "      <td>0</td>\n",
       "      <td>0</td>\n",
       "      <td>0</td>\n",
       "    </tr>\n",
       "    <tr>\n",
       "      <th>54857</th>\n",
       "      <td>585</td>\n",
       "      <td>1066</td>\n",
       "      <td>5.0</td>\n",
       "      <td>Shall We Dance</td>\n",
       "      <td>Shall We Dance (1937)</td>\n",
       "      <td>1937</td>\n",
       "      <td>0</td>\n",
       "      <td>0</td>\n",
       "      <td>0</td>\n",
       "      <td>0</td>\n",
       "      <td>...</td>\n",
       "      <td>0</td>\n",
       "      <td>0</td>\n",
       "      <td>0</td>\n",
       "      <td>1</td>\n",
       "      <td>0</td>\n",
       "      <td>1</td>\n",
       "      <td>0</td>\n",
       "      <td>0</td>\n",
       "      <td>0</td>\n",
       "      <td>0</td>\n",
       "    </tr>\n",
       "    <tr>\n",
       "      <th>54858</th>\n",
       "      <td>597</td>\n",
       "      <td>1066</td>\n",
       "      <td>4.0</td>\n",
       "      <td>Shall We Dance</td>\n",
       "      <td>Shall We Dance (1937)</td>\n",
       "      <td>1937</td>\n",
       "      <td>0</td>\n",
       "      <td>0</td>\n",
       "      <td>0</td>\n",
       "      <td>0</td>\n",
       "      <td>...</td>\n",
       "      <td>0</td>\n",
       "      <td>0</td>\n",
       "      <td>0</td>\n",
       "      <td>1</td>\n",
       "      <td>0</td>\n",
       "      <td>1</td>\n",
       "      <td>0</td>\n",
       "      <td>0</td>\n",
       "      <td>0</td>\n",
       "      <td>0</td>\n",
       "    </tr>\n",
       "    <tr>\n",
       "      <th>54990</th>\n",
       "      <td>382</td>\n",
       "      <td>59501</td>\n",
       "      <td>4.0</td>\n",
       "      <td>Chronicles of Narnia: Prince Caspian, The</td>\n",
       "      <td>Chronicles of Narnia: Prince Caspian, The (2008)</td>\n",
       "      <td>2008</td>\n",
       "      <td>0</td>\n",
       "      <td>1</td>\n",
       "      <td>0</td>\n",
       "      <td>1</td>\n",
       "      <td>...</td>\n",
       "      <td>1</td>\n",
       "      <td>0</td>\n",
       "      <td>0</td>\n",
       "      <td>0</td>\n",
       "      <td>0</td>\n",
       "      <td>0</td>\n",
       "      <td>0</td>\n",
       "      <td>0</td>\n",
       "      <td>0</td>\n",
       "      <td>0</td>\n",
       "    </tr>\n",
       "    <tr>\n",
       "      <th>54991</th>\n",
       "      <td>402</td>\n",
       "      <td>59501</td>\n",
       "      <td>3.5</td>\n",
       "      <td>Chronicles of Narnia: Prince Caspian, The</td>\n",
       "      <td>Chronicles of Narnia: Prince Caspian, The (2008)</td>\n",
       "      <td>2008</td>\n",
       "      <td>0</td>\n",
       "      <td>1</td>\n",
       "      <td>0</td>\n",
       "      <td>1</td>\n",
       "      <td>...</td>\n",
       "      <td>1</td>\n",
       "      <td>0</td>\n",
       "      <td>0</td>\n",
       "      <td>0</td>\n",
       "      <td>0</td>\n",
       "      <td>0</td>\n",
       "      <td>0</td>\n",
       "      <td>0</td>\n",
       "      <td>0</td>\n",
       "      <td>0</td>\n",
       "    </tr>\n",
       "    <tr>\n",
       "      <th>54992</th>\n",
       "      <td>500</td>\n",
       "      <td>59501</td>\n",
       "      <td>3.0</td>\n",
       "      <td>Chronicles of Narnia: Prince Caspian, The</td>\n",
       "      <td>Chronicles of Narnia: Prince Caspian, The (2008)</td>\n",
       "      <td>2008</td>\n",
       "      <td>0</td>\n",
       "      <td>1</td>\n",
       "      <td>0</td>\n",
       "      <td>1</td>\n",
       "      <td>...</td>\n",
       "      <td>1</td>\n",
       "      <td>0</td>\n",
       "      <td>0</td>\n",
       "      <td>0</td>\n",
       "      <td>0</td>\n",
       "      <td>0</td>\n",
       "      <td>0</td>\n",
       "      <td>0</td>\n",
       "      <td>0</td>\n",
       "      <td>0</td>\n",
       "    </tr>\n",
       "    <tr>\n",
       "      <th>54993</th>\n",
       "      <td>542</td>\n",
       "      <td>59501</td>\n",
       "      <td>3.0</td>\n",
       "      <td>Chronicles of Narnia: Prince Caspian, The</td>\n",
       "      <td>Chronicles of Narnia: Prince Caspian, The (2008)</td>\n",
       "      <td>2008</td>\n",
       "      <td>0</td>\n",
       "      <td>1</td>\n",
       "      <td>0</td>\n",
       "      <td>1</td>\n",
       "      <td>...</td>\n",
       "      <td>1</td>\n",
       "      <td>0</td>\n",
       "      <td>0</td>\n",
       "      <td>0</td>\n",
       "      <td>0</td>\n",
       "      <td>0</td>\n",
       "      <td>0</td>\n",
       "      <td>0</td>\n",
       "      <td>0</td>\n",
       "      <td>0</td>\n",
       "    </tr>\n",
       "    <tr>\n",
       "      <th>54994</th>\n",
       "      <td>570</td>\n",
       "      <td>59501</td>\n",
       "      <td>3.5</td>\n",
       "      <td>Chronicles of Narnia: Prince Caspian, The</td>\n",
       "      <td>Chronicles of Narnia: Prince Caspian, The (2008)</td>\n",
       "      <td>2008</td>\n",
       "      <td>0</td>\n",
       "      <td>1</td>\n",
       "      <td>0</td>\n",
       "      <td>1</td>\n",
       "      <td>...</td>\n",
       "      <td>1</td>\n",
       "      <td>0</td>\n",
       "      <td>0</td>\n",
       "      <td>0</td>\n",
       "      <td>0</td>\n",
       "      <td>0</td>\n",
       "      <td>0</td>\n",
       "      <td>0</td>\n",
       "      <td>0</td>\n",
       "      <td>0</td>\n",
       "    </tr>\n",
       "    <tr>\n",
       "      <th>54995</th>\n",
       "      <td>572</td>\n",
       "      <td>59501</td>\n",
       "      <td>3.5</td>\n",
       "      <td>Chronicles of Narnia: Prince Caspian, The</td>\n",
       "      <td>Chronicles of Narnia: Prince Caspian, The (2008)</td>\n",
       "      <td>2008</td>\n",
       "      <td>0</td>\n",
       "      <td>1</td>\n",
       "      <td>0</td>\n",
       "      <td>1</td>\n",
       "      <td>...</td>\n",
       "      <td>1</td>\n",
       "      <td>0</td>\n",
       "      <td>0</td>\n",
       "      <td>0</td>\n",
       "      <td>0</td>\n",
       "      <td>0</td>\n",
       "      <td>0</td>\n",
       "      <td>0</td>\n",
       "      <td>0</td>\n",
       "      <td>0</td>\n",
       "    </tr>\n",
       "    <tr>\n",
       "      <th>55107</th>\n",
       "      <td>390</td>\n",
       "      <td>15</td>\n",
       "      <td>3.0</td>\n",
       "      <td>Cutthroat Island</td>\n",
       "      <td>Cutthroat Island (1995)</td>\n",
       "      <td>1995</td>\n",
       "      <td>1</td>\n",
       "      <td>1</td>\n",
       "      <td>0</td>\n",
       "      <td>0</td>\n",
       "      <td>...</td>\n",
       "      <td>0</td>\n",
       "      <td>0</td>\n",
       "      <td>0</td>\n",
       "      <td>0</td>\n",
       "      <td>0</td>\n",
       "      <td>1</td>\n",
       "      <td>0</td>\n",
       "      <td>0</td>\n",
       "      <td>0</td>\n",
       "      <td>0</td>\n",
       "    </tr>\n",
       "    <tr>\n",
       "      <th>55108</th>\n",
       "      <td>396</td>\n",
       "      <td>15</td>\n",
       "      <td>4.0</td>\n",
       "      <td>Cutthroat Island</td>\n",
       "      <td>Cutthroat Island (1995)</td>\n",
       "      <td>1995</td>\n",
       "      <td>1</td>\n",
       "      <td>1</td>\n",
       "      <td>0</td>\n",
       "      <td>0</td>\n",
       "      <td>...</td>\n",
       "      <td>0</td>\n",
       "      <td>0</td>\n",
       "      <td>0</td>\n",
       "      <td>0</td>\n",
       "      <td>0</td>\n",
       "      <td>1</td>\n",
       "      <td>0</td>\n",
       "      <td>0</td>\n",
       "      <td>0</td>\n",
       "      <td>0</td>\n",
       "    </tr>\n",
       "    <tr>\n",
       "      <th>55109</th>\n",
       "      <td>409</td>\n",
       "      <td>15</td>\n",
       "      <td>1.0</td>\n",
       "      <td>Cutthroat Island</td>\n",
       "      <td>Cutthroat Island (1995)</td>\n",
       "      <td>1995</td>\n",
       "      <td>1</td>\n",
       "      <td>1</td>\n",
       "      <td>0</td>\n",
       "      <td>0</td>\n",
       "      <td>...</td>\n",
       "      <td>0</td>\n",
       "      <td>0</td>\n",
       "      <td>0</td>\n",
       "      <td>0</td>\n",
       "      <td>0</td>\n",
       "      <td>1</td>\n",
       "      <td>0</td>\n",
       "      <td>0</td>\n",
       "      <td>0</td>\n",
       "      <td>0</td>\n",
       "    </tr>\n",
       "    <tr>\n",
       "      <th>55110</th>\n",
       "      <td>496</td>\n",
       "      <td>15</td>\n",
       "      <td>3.0</td>\n",
       "      <td>Cutthroat Island</td>\n",
       "      <td>Cutthroat Island (1995)</td>\n",
       "      <td>1995</td>\n",
       "      <td>1</td>\n",
       "      <td>1</td>\n",
       "      <td>0</td>\n",
       "      <td>0</td>\n",
       "      <td>...</td>\n",
       "      <td>0</td>\n",
       "      <td>0</td>\n",
       "      <td>0</td>\n",
       "      <td>0</td>\n",
       "      <td>0</td>\n",
       "      <td>1</td>\n",
       "      <td>0</td>\n",
       "      <td>0</td>\n",
       "      <td>0</td>\n",
       "      <td>0</td>\n",
       "    </tr>\n",
       "    <tr>\n",
       "      <th>55111</th>\n",
       "      <td>598</td>\n",
       "      <td>15</td>\n",
       "      <td>2.0</td>\n",
       "      <td>Cutthroat Island</td>\n",
       "      <td>Cutthroat Island (1995)</td>\n",
       "      <td>1995</td>\n",
       "      <td>1</td>\n",
       "      <td>1</td>\n",
       "      <td>0</td>\n",
       "      <td>0</td>\n",
       "      <td>...</td>\n",
       "      <td>0</td>\n",
       "      <td>0</td>\n",
       "      <td>0</td>\n",
       "      <td>0</td>\n",
       "      <td>0</td>\n",
       "      <td>1</td>\n",
       "      <td>0</td>\n",
       "      <td>0</td>\n",
       "      <td>0</td>\n",
       "      <td>0</td>\n",
       "    </tr>\n",
       "    <tr>\n",
       "      <th>55112</th>\n",
       "      <td>650</td>\n",
       "      <td>15</td>\n",
       "      <td>2.0</td>\n",
       "      <td>Cutthroat Island</td>\n",
       "      <td>Cutthroat Island (1995)</td>\n",
       "      <td>1995</td>\n",
       "      <td>1</td>\n",
       "      <td>1</td>\n",
       "      <td>0</td>\n",
       "      <td>0</td>\n",
       "      <td>...</td>\n",
       "      <td>0</td>\n",
       "      <td>0</td>\n",
       "      <td>0</td>\n",
       "      <td>0</td>\n",
       "      <td>0</td>\n",
       "      <td>1</td>\n",
       "      <td>0</td>\n",
       "      <td>0</td>\n",
       "      <td>0</td>\n",
       "      <td>0</td>\n",
       "    </tr>\n",
       "    <tr>\n",
       "      <th>55684</th>\n",
       "      <td>434</td>\n",
       "      <td>1414</td>\n",
       "      <td>3.0</td>\n",
       "      <td>Mother</td>\n",
       "      <td>Mother (1996)</td>\n",
       "      <td>1996</td>\n",
       "      <td>0</td>\n",
       "      <td>0</td>\n",
       "      <td>0</td>\n",
       "      <td>0</td>\n",
       "      <td>...</td>\n",
       "      <td>0</td>\n",
       "      <td>0</td>\n",
       "      <td>0</td>\n",
       "      <td>0</td>\n",
       "      <td>0</td>\n",
       "      <td>0</td>\n",
       "      <td>0</td>\n",
       "      <td>0</td>\n",
       "      <td>0</td>\n",
       "      <td>0</td>\n",
       "    </tr>\n",
       "    <tr>\n",
       "      <th>55685</th>\n",
       "      <td>537</td>\n",
       "      <td>1414</td>\n",
       "      <td>4.0</td>\n",
       "      <td>Mother</td>\n",
       "      <td>Mother (1996)</td>\n",
       "      <td>1996</td>\n",
       "      <td>0</td>\n",
       "      <td>0</td>\n",
       "      <td>0</td>\n",
       "      <td>0</td>\n",
       "      <td>...</td>\n",
       "      <td>0</td>\n",
       "      <td>0</td>\n",
       "      <td>0</td>\n",
       "      <td>0</td>\n",
       "      <td>0</td>\n",
       "      <td>0</td>\n",
       "      <td>0</td>\n",
       "      <td>0</td>\n",
       "      <td>0</td>\n",
       "      <td>0</td>\n",
       "    </tr>\n",
       "    <tr>\n",
       "      <th>55686</th>\n",
       "      <td>559</td>\n",
       "      <td>1414</td>\n",
       "      <td>4.0</td>\n",
       "      <td>Mother</td>\n",
       "      <td>Mother (1996)</td>\n",
       "      <td>1996</td>\n",
       "      <td>0</td>\n",
       "      <td>0</td>\n",
       "      <td>0</td>\n",
       "      <td>0</td>\n",
       "      <td>...</td>\n",
       "      <td>0</td>\n",
       "      <td>0</td>\n",
       "      <td>0</td>\n",
       "      <td>0</td>\n",
       "      <td>0</td>\n",
       "      <td>0</td>\n",
       "      <td>0</td>\n",
       "      <td>0</td>\n",
       "      <td>0</td>\n",
       "      <td>0</td>\n",
       "    </tr>\n",
       "    <tr>\n",
       "      <th>55687</th>\n",
       "      <td>631</td>\n",
       "      <td>1414</td>\n",
       "      <td>2.0</td>\n",
       "      <td>Mother</td>\n",
       "      <td>Mother (1996)</td>\n",
       "      <td>1996</td>\n",
       "      <td>0</td>\n",
       "      <td>0</td>\n",
       "      <td>0</td>\n",
       "      <td>0</td>\n",
       "      <td>...</td>\n",
       "      <td>0</td>\n",
       "      <td>0</td>\n",
       "      <td>0</td>\n",
       "      <td>0</td>\n",
       "      <td>0</td>\n",
       "      <td>0</td>\n",
       "      <td>0</td>\n",
       "      <td>0</td>\n",
       "      <td>0</td>\n",
       "      <td>0</td>\n",
       "    </tr>\n",
       "    <tr>\n",
       "      <th>55688</th>\n",
       "      <td>642</td>\n",
       "      <td>1414</td>\n",
       "      <td>4.0</td>\n",
       "      <td>Mother</td>\n",
       "      <td>Mother (1996)</td>\n",
       "      <td>1996</td>\n",
       "      <td>0</td>\n",
       "      <td>0</td>\n",
       "      <td>0</td>\n",
       "      <td>0</td>\n",
       "      <td>...</td>\n",
       "      <td>0</td>\n",
       "      <td>0</td>\n",
       "      <td>0</td>\n",
       "      <td>0</td>\n",
       "      <td>0</td>\n",
       "      <td>0</td>\n",
       "      <td>0</td>\n",
       "      <td>0</td>\n",
       "      <td>0</td>\n",
       "      <td>0</td>\n",
       "    </tr>\n",
       "    <tr>\n",
       "      <th>55689</th>\n",
       "      <td>646</td>\n",
       "      <td>1414</td>\n",
       "      <td>5.0</td>\n",
       "      <td>Mother</td>\n",
       "      <td>Mother (1996)</td>\n",
       "      <td>1996</td>\n",
       "      <td>0</td>\n",
       "      <td>0</td>\n",
       "      <td>0</td>\n",
       "      <td>0</td>\n",
       "      <td>...</td>\n",
       "      <td>0</td>\n",
       "      <td>0</td>\n",
       "      <td>0</td>\n",
       "      <td>0</td>\n",
       "      <td>0</td>\n",
       "      <td>0</td>\n",
       "      <td>0</td>\n",
       "      <td>0</td>\n",
       "      <td>0</td>\n",
       "      <td>0</td>\n",
       "    </tr>\n",
       "  </tbody>\n",
       "</table>\n",
       "<p>48902 rows × 24 columns</p>\n",
       "</div>"
      ],
      "text/plain": [
       "       userId  movieId  rating                                      title  \\\n",
       "0           1       31     2.5                            Dangerous Minds   \n",
       "1           7       31     3.0                            Dangerous Minds   \n",
       "2          31       31     4.0                            Dangerous Minds   \n",
       "3          32       31     4.0                            Dangerous Minds   \n",
       "4          36       31     3.0                            Dangerous Minds   \n",
       "5          39       31     3.0                            Dangerous Minds   \n",
       "6          88       31     3.0                            Dangerous Minds   \n",
       "7          96       31     2.5                            Dangerous Minds   \n",
       "8         110       31     4.0                            Dangerous Minds   \n",
       "9         111       31     3.5                            Dangerous Minds   \n",
       "10        161       31     3.0                            Dangerous Minds   \n",
       "11        186       31     3.0                            Dangerous Minds   \n",
       "12        254       31     3.0                            Dangerous Minds   \n",
       "13        288       31     3.0                            Dangerous Minds   \n",
       "14        310       31     1.5                            Dangerous Minds   \n",
       "15        325       31     4.5                            Dangerous Minds   \n",
       "16        338       31     3.0                            Dangerous Minds   \n",
       "17        341       31     4.5                            Dangerous Minds   \n",
       "18        386       31     2.0                            Dangerous Minds   \n",
       "19        394       31     2.0                            Dangerous Minds   \n",
       "20        485       31     4.0                            Dangerous Minds   \n",
       "21        487       31     5.0                            Dangerous Minds   \n",
       "22        496       31     4.0                            Dangerous Minds   \n",
       "23        511       31     4.0                            Dangerous Minds   \n",
       "24        516       31     4.0                            Dangerous Minds   \n",
       "25        525       31     4.0                            Dangerous Minds   \n",
       "26        590       31     3.0                            Dangerous Minds   \n",
       "27        601       31     3.0                            Dangerous Minds   \n",
       "28        619       31     3.0                            Dangerous Minds   \n",
       "29        639       31     3.0                            Dangerous Minds   \n",
       "...       ...      ...     ...                                        ...   \n",
       "54847     420      907     3.0                          Gay Divorcee, The   \n",
       "54848     537      907     5.0                          Gay Divorcee, The   \n",
       "54849     585      907     5.0                          Gay Divorcee, The   \n",
       "54850     597      907     5.0                          Gay Divorcee, The   \n",
       "54851     372     1066     4.0                             Shall We Dance   \n",
       "54852     387     1066     5.0                             Shall We Dance   \n",
       "54853     408     1066     5.0                             Shall We Dance   \n",
       "54854     493     1066     3.0                             Shall We Dance   \n",
       "54855     537     1066     5.0                             Shall We Dance   \n",
       "54856     539     1066     4.0                             Shall We Dance   \n",
       "54857     585     1066     5.0                             Shall We Dance   \n",
       "54858     597     1066     4.0                             Shall We Dance   \n",
       "54990     382    59501     4.0  Chronicles of Narnia: Prince Caspian, The   \n",
       "54991     402    59501     3.5  Chronicles of Narnia: Prince Caspian, The   \n",
       "54992     500    59501     3.0  Chronicles of Narnia: Prince Caspian, The   \n",
       "54993     542    59501     3.0  Chronicles of Narnia: Prince Caspian, The   \n",
       "54994     570    59501     3.5  Chronicles of Narnia: Prince Caspian, The   \n",
       "54995     572    59501     3.5  Chronicles of Narnia: Prince Caspian, The   \n",
       "55107     390       15     3.0                           Cutthroat Island   \n",
       "55108     396       15     4.0                           Cutthroat Island   \n",
       "55109     409       15     1.0                           Cutthroat Island   \n",
       "55110     496       15     3.0                           Cutthroat Island   \n",
       "55111     598       15     2.0                           Cutthroat Island   \n",
       "55112     650       15     2.0                           Cutthroat Island   \n",
       "55684     434     1414     3.0                                     Mother   \n",
       "55685     537     1414     4.0                                     Mother   \n",
       "55686     559     1414     4.0                                     Mother   \n",
       "55687     631     1414     2.0                                     Mother   \n",
       "55688     642     1414     4.0                                     Mother   \n",
       "55689     646     1414     5.0                                     Mother   \n",
       "\n",
       "                                             ORIG_TITLE  YEAR  ACTION  \\\n",
       "0                                Dangerous Minds (1995)  1995       0   \n",
       "1                                Dangerous Minds (1995)  1995       0   \n",
       "2                                Dangerous Minds (1995)  1995       0   \n",
       "3                                Dangerous Minds (1995)  1995       0   \n",
       "4                                Dangerous Minds (1995)  1995       0   \n",
       "5                                Dangerous Minds (1995)  1995       0   \n",
       "6                                Dangerous Minds (1995)  1995       0   \n",
       "7                                Dangerous Minds (1995)  1995       0   \n",
       "8                                Dangerous Minds (1995)  1995       0   \n",
       "9                                Dangerous Minds (1995)  1995       0   \n",
       "10                               Dangerous Minds (1995)  1995       0   \n",
       "11                               Dangerous Minds (1995)  1995       0   \n",
       "12                               Dangerous Minds (1995)  1995       0   \n",
       "13                               Dangerous Minds (1995)  1995       0   \n",
       "14                               Dangerous Minds (1995)  1995       0   \n",
       "15                               Dangerous Minds (1995)  1995       0   \n",
       "16                               Dangerous Minds (1995)  1995       0   \n",
       "17                               Dangerous Minds (1995)  1995       0   \n",
       "18                               Dangerous Minds (1995)  1995       0   \n",
       "19                               Dangerous Minds (1995)  1995       0   \n",
       "20                               Dangerous Minds (1995)  1995       0   \n",
       "21                               Dangerous Minds (1995)  1995       0   \n",
       "22                               Dangerous Minds (1995)  1995       0   \n",
       "23                               Dangerous Minds (1995)  1995       0   \n",
       "24                               Dangerous Minds (1995)  1995       0   \n",
       "25                               Dangerous Minds (1995)  1995       0   \n",
       "26                               Dangerous Minds (1995)  1995       0   \n",
       "27                               Dangerous Minds (1995)  1995       0   \n",
       "28                               Dangerous Minds (1995)  1995       0   \n",
       "29                               Dangerous Minds (1995)  1995       0   \n",
       "...                                                 ...   ...     ...   \n",
       "54847                          Gay Divorcee, The (1934)  1934       0   \n",
       "54848                          Gay Divorcee, The (1934)  1934       0   \n",
       "54849                          Gay Divorcee, The (1934)  1934       0   \n",
       "54850                          Gay Divorcee, The (1934)  1934       0   \n",
       "54851                             Shall We Dance (1937)  1937       0   \n",
       "54852                             Shall We Dance (1937)  1937       0   \n",
       "54853                             Shall We Dance (1937)  1937       0   \n",
       "54854                             Shall We Dance (1937)  1937       0   \n",
       "54855                             Shall We Dance (1937)  1937       0   \n",
       "54856                             Shall We Dance (1937)  1937       0   \n",
       "54857                             Shall We Dance (1937)  1937       0   \n",
       "54858                             Shall We Dance (1937)  1937       0   \n",
       "54990  Chronicles of Narnia: Prince Caspian, The (2008)  2008       0   \n",
       "54991  Chronicles of Narnia: Prince Caspian, The (2008)  2008       0   \n",
       "54992  Chronicles of Narnia: Prince Caspian, The (2008)  2008       0   \n",
       "54993  Chronicles of Narnia: Prince Caspian, The (2008)  2008       0   \n",
       "54994  Chronicles of Narnia: Prince Caspian, The (2008)  2008       0   \n",
       "54995  Chronicles of Narnia: Prince Caspian, The (2008)  2008       0   \n",
       "55107                           Cutthroat Island (1995)  1995       1   \n",
       "55108                           Cutthroat Island (1995)  1995       1   \n",
       "55109                           Cutthroat Island (1995)  1995       1   \n",
       "55110                           Cutthroat Island (1995)  1995       1   \n",
       "55111                           Cutthroat Island (1995)  1995       1   \n",
       "55112                           Cutthroat Island (1995)  1995       1   \n",
       "55684                                     Mother (1996)  1996       0   \n",
       "55685                                     Mother (1996)  1996       0   \n",
       "55686                                     Mother (1996)  1996       0   \n",
       "55687                                     Mother (1996)  1996       0   \n",
       "55688                                     Mother (1996)  1996       0   \n",
       "55689                                     Mother (1996)  1996       0   \n",
       "\n",
       "       ADVENTURE  ANIMATION  CHILDREN   ...     FANTASY  FILM-NOIR  HORROR  \\\n",
       "0              0          0         0   ...           0          0       0   \n",
       "1              0          0         0   ...           0          0       0   \n",
       "2              0          0         0   ...           0          0       0   \n",
       "3              0          0         0   ...           0          0       0   \n",
       "4              0          0         0   ...           0          0       0   \n",
       "5              0          0         0   ...           0          0       0   \n",
       "6              0          0         0   ...           0          0       0   \n",
       "7              0          0         0   ...           0          0       0   \n",
       "8              0          0         0   ...           0          0       0   \n",
       "9              0          0         0   ...           0          0       0   \n",
       "10             0          0         0   ...           0          0       0   \n",
       "11             0          0         0   ...           0          0       0   \n",
       "12             0          0         0   ...           0          0       0   \n",
       "13             0          0         0   ...           0          0       0   \n",
       "14             0          0         0   ...           0          0       0   \n",
       "15             0          0         0   ...           0          0       0   \n",
       "16             0          0         0   ...           0          0       0   \n",
       "17             0          0         0   ...           0          0       0   \n",
       "18             0          0         0   ...           0          0       0   \n",
       "19             0          0         0   ...           0          0       0   \n",
       "20             0          0         0   ...           0          0       0   \n",
       "21             0          0         0   ...           0          0       0   \n",
       "22             0          0         0   ...           0          0       0   \n",
       "23             0          0         0   ...           0          0       0   \n",
       "24             0          0         0   ...           0          0       0   \n",
       "25             0          0         0   ...           0          0       0   \n",
       "26             0          0         0   ...           0          0       0   \n",
       "27             0          0         0   ...           0          0       0   \n",
       "28             0          0         0   ...           0          0       0   \n",
       "29             0          0         0   ...           0          0       0   \n",
       "...          ...        ...       ...   ...         ...        ...     ...   \n",
       "54847          0          0         0   ...           0          0       0   \n",
       "54848          0          0         0   ...           0          0       0   \n",
       "54849          0          0         0   ...           0          0       0   \n",
       "54850          0          0         0   ...           0          0       0   \n",
       "54851          0          0         0   ...           0          0       0   \n",
       "54852          0          0         0   ...           0          0       0   \n",
       "54853          0          0         0   ...           0          0       0   \n",
       "54854          0          0         0   ...           0          0       0   \n",
       "54855          0          0         0   ...           0          0       0   \n",
       "54856          0          0         0   ...           0          0       0   \n",
       "54857          0          0         0   ...           0          0       0   \n",
       "54858          0          0         0   ...           0          0       0   \n",
       "54990          1          0         1   ...           1          0       0   \n",
       "54991          1          0         1   ...           1          0       0   \n",
       "54992          1          0         1   ...           1          0       0   \n",
       "54993          1          0         1   ...           1          0       0   \n",
       "54994          1          0         1   ...           1          0       0   \n",
       "54995          1          0         1   ...           1          0       0   \n",
       "55107          1          0         0   ...           0          0       0   \n",
       "55108          1          0         0   ...           0          0       0   \n",
       "55109          1          0         0   ...           0          0       0   \n",
       "55110          1          0         0   ...           0          0       0   \n",
       "55111          1          0         0   ...           0          0       0   \n",
       "55112          1          0         0   ...           0          0       0   \n",
       "55684          0          0         0   ...           0          0       0   \n",
       "55685          0          0         0   ...           0          0       0   \n",
       "55686          0          0         0   ...           0          0       0   \n",
       "55687          0          0         0   ...           0          0       0   \n",
       "55688          0          0         0   ...           0          0       0   \n",
       "55689          0          0         0   ...           0          0       0   \n",
       "\n",
       "       MUSICAL  MYSTERY  ROMANCE  SCI-FI  THRILLER  WAR  WESTERN  \n",
       "0            0        0        0       0         0    0        0  \n",
       "1            0        0        0       0         0    0        0  \n",
       "2            0        0        0       0         0    0        0  \n",
       "3            0        0        0       0         0    0        0  \n",
       "4            0        0        0       0         0    0        0  \n",
       "5            0        0        0       0         0    0        0  \n",
       "6            0        0        0       0         0    0        0  \n",
       "7            0        0        0       0         0    0        0  \n",
       "8            0        0        0       0         0    0        0  \n",
       "9            0        0        0       0         0    0        0  \n",
       "10           0        0        0       0         0    0        0  \n",
       "11           0        0        0       0         0    0        0  \n",
       "12           0        0        0       0         0    0        0  \n",
       "13           0        0        0       0         0    0        0  \n",
       "14           0        0        0       0         0    0        0  \n",
       "15           0        0        0       0         0    0        0  \n",
       "16           0        0        0       0         0    0        0  \n",
       "17           0        0        0       0         0    0        0  \n",
       "18           0        0        0       0         0    0        0  \n",
       "19           0        0        0       0         0    0        0  \n",
       "20           0        0        0       0         0    0        0  \n",
       "21           0        0        0       0         0    0        0  \n",
       "22           0        0        0       0         0    0        0  \n",
       "23           0        0        0       0         0    0        0  \n",
       "24           0        0        0       0         0    0        0  \n",
       "25           0        0        0       0         0    0        0  \n",
       "26           0        0        0       0         0    0        0  \n",
       "27           0        0        0       0         0    0        0  \n",
       "28           0        0        0       0         0    0        0  \n",
       "29           0        0        0       0         0    0        0  \n",
       "...        ...      ...      ...     ...       ...  ...      ...  \n",
       "54847        1        0        1       0         0    0        0  \n",
       "54848        1        0        1       0         0    0        0  \n",
       "54849        1        0        1       0         0    0        0  \n",
       "54850        1        0        1       0         0    0        0  \n",
       "54851        1        0        1       0         0    0        0  \n",
       "54852        1        0        1       0         0    0        0  \n",
       "54853        1        0        1       0         0    0        0  \n",
       "54854        1        0        1       0         0    0        0  \n",
       "54855        1        0        1       0         0    0        0  \n",
       "54856        1        0        1       0         0    0        0  \n",
       "54857        1        0        1       0         0    0        0  \n",
       "54858        1        0        1       0         0    0        0  \n",
       "54990        0        0        0       0         0    0        0  \n",
       "54991        0        0        0       0         0    0        0  \n",
       "54992        0        0        0       0         0    0        0  \n",
       "54993        0        0        0       0         0    0        0  \n",
       "54994        0        0        0       0         0    0        0  \n",
       "54995        0        0        0       0         0    0        0  \n",
       "55107        0        0        1       0         0    0        0  \n",
       "55108        0        0        1       0         0    0        0  \n",
       "55109        0        0        1       0         0    0        0  \n",
       "55110        0        0        1       0         0    0        0  \n",
       "55111        0        0        1       0         0    0        0  \n",
       "55112        0        0        1       0         0    0        0  \n",
       "55684        0        0        0       0         0    0        0  \n",
       "55685        0        0        0       0         0    0        0  \n",
       "55686        0        0        0       0         0    0        0  \n",
       "55687        0        0        0       0         0    0        0  \n",
       "55688        0        0        0       0         0    0        0  \n",
       "55689        0        0        0       0         0    0        0  \n",
       "\n",
       "[48902 rows x 24 columns]"
      ]
     },
     "execution_count": 43,
     "metadata": {},
     "output_type": "execute_result"
    }
   ],
   "source": [
    "# Data set ready to be used in the models\n",
    "Rated_movies"
   ]
  },
  {
   "cell_type": "code",
   "execution_count": 112,
   "metadata": {
    "collapsed": false
   },
   "outputs": [
    {
     "name": "stdout",
     "output_type": "stream",
     "text": [
      "Number of users = 611 | Number of movies = 1926\n"
     ]
    }
   ],
   "source": [
    "print 'Number of users = ' + str(Rated_movies.userId.unique().shape[0]) + ' | Number of movies = ' + \\\n",
    "    str(Rated_movies.movieId.unique().shape[0])"
   ]
  },
  {
   "cell_type": "markdown",
   "metadata": {},
   "source": [
    "<a id=\"MandE\"></a>\n",
    "<a href=\"#top\">Back to Top</a>\n",
    "## Modeling and Evaluation "
   ]
  },
  {
   "cell_type": "markdown",
   "metadata": {},
   "source": [
    "**In this section, we begin the process of creating recommendation models and evaluate them critically.**\n",
    "\n",
    "In the following cells, we begin the first steps of the modeling process after looking at the structure. Graphlab was used for the recommender system creation, including S_Frames, that are scalable data frames that are lazily evaluated. Please refer to the comments in each cell for more description."
   ]
  },
  {
   "cell_type": "code",
   "execution_count": 45,
   "metadata": {
    "collapsed": false
   },
   "outputs": [
    {
     "data": {
      "text/html": [
       "<div>\n",
       "<table border=\"1\" class=\"dataframe\">\n",
       "  <thead>\n",
       "    <tr style=\"text-align: right;\">\n",
       "      <th></th>\n",
       "      <th>userId</th>\n",
       "      <th>movieId</th>\n",
       "      <th>rating</th>\n",
       "      <th>title</th>\n",
       "      <th>ORIG_TITLE</th>\n",
       "      <th>YEAR</th>\n",
       "      <th>ACTION</th>\n",
       "      <th>ADVENTURE</th>\n",
       "      <th>ANIMATION</th>\n",
       "      <th>CHILDREN</th>\n",
       "      <th>...</th>\n",
       "      <th>FANTASY</th>\n",
       "      <th>FILM-NOIR</th>\n",
       "      <th>HORROR</th>\n",
       "      <th>MUSICAL</th>\n",
       "      <th>MYSTERY</th>\n",
       "      <th>ROMANCE</th>\n",
       "      <th>SCI-FI</th>\n",
       "      <th>THRILLER</th>\n",
       "      <th>WAR</th>\n",
       "      <th>WESTERN</th>\n",
       "    </tr>\n",
       "  </thead>\n",
       "  <tbody>\n",
       "    <tr>\n",
       "      <th>0</th>\n",
       "      <td>1</td>\n",
       "      <td>31</td>\n",
       "      <td>2.5</td>\n",
       "      <td>Dangerous Minds</td>\n",
       "      <td>Dangerous Minds (1995)</td>\n",
       "      <td>1995</td>\n",
       "      <td>0</td>\n",
       "      <td>0</td>\n",
       "      <td>0</td>\n",
       "      <td>0</td>\n",
       "      <td>...</td>\n",
       "      <td>0</td>\n",
       "      <td>0</td>\n",
       "      <td>0</td>\n",
       "      <td>0</td>\n",
       "      <td>0</td>\n",
       "      <td>0</td>\n",
       "      <td>0</td>\n",
       "      <td>0</td>\n",
       "      <td>0</td>\n",
       "      <td>0</td>\n",
       "    </tr>\n",
       "    <tr>\n",
       "      <th>1</th>\n",
       "      <td>7</td>\n",
       "      <td>31</td>\n",
       "      <td>3.0</td>\n",
       "      <td>Dangerous Minds</td>\n",
       "      <td>Dangerous Minds (1995)</td>\n",
       "      <td>1995</td>\n",
       "      <td>0</td>\n",
       "      <td>0</td>\n",
       "      <td>0</td>\n",
       "      <td>0</td>\n",
       "      <td>...</td>\n",
       "      <td>0</td>\n",
       "      <td>0</td>\n",
       "      <td>0</td>\n",
       "      <td>0</td>\n",
       "      <td>0</td>\n",
       "      <td>0</td>\n",
       "      <td>0</td>\n",
       "      <td>0</td>\n",
       "      <td>0</td>\n",
       "      <td>0</td>\n",
       "    </tr>\n",
       "    <tr>\n",
       "      <th>2</th>\n",
       "      <td>31</td>\n",
       "      <td>31</td>\n",
       "      <td>4.0</td>\n",
       "      <td>Dangerous Minds</td>\n",
       "      <td>Dangerous Minds (1995)</td>\n",
       "      <td>1995</td>\n",
       "      <td>0</td>\n",
       "      <td>0</td>\n",
       "      <td>0</td>\n",
       "      <td>0</td>\n",
       "      <td>...</td>\n",
       "      <td>0</td>\n",
       "      <td>0</td>\n",
       "      <td>0</td>\n",
       "      <td>0</td>\n",
       "      <td>0</td>\n",
       "      <td>0</td>\n",
       "      <td>0</td>\n",
       "      <td>0</td>\n",
       "      <td>0</td>\n",
       "      <td>0</td>\n",
       "    </tr>\n",
       "    <tr>\n",
       "      <th>3</th>\n",
       "      <td>32</td>\n",
       "      <td>31</td>\n",
       "      <td>4.0</td>\n",
       "      <td>Dangerous Minds</td>\n",
       "      <td>Dangerous Minds (1995)</td>\n",
       "      <td>1995</td>\n",
       "      <td>0</td>\n",
       "      <td>0</td>\n",
       "      <td>0</td>\n",
       "      <td>0</td>\n",
       "      <td>...</td>\n",
       "      <td>0</td>\n",
       "      <td>0</td>\n",
       "      <td>0</td>\n",
       "      <td>0</td>\n",
       "      <td>0</td>\n",
       "      <td>0</td>\n",
       "      <td>0</td>\n",
       "      <td>0</td>\n",
       "      <td>0</td>\n",
       "      <td>0</td>\n",
       "    </tr>\n",
       "    <tr>\n",
       "      <th>4</th>\n",
       "      <td>36</td>\n",
       "      <td>31</td>\n",
       "      <td>3.0</td>\n",
       "      <td>Dangerous Minds</td>\n",
       "      <td>Dangerous Minds (1995)</td>\n",
       "      <td>1995</td>\n",
       "      <td>0</td>\n",
       "      <td>0</td>\n",
       "      <td>0</td>\n",
       "      <td>0</td>\n",
       "      <td>...</td>\n",
       "      <td>0</td>\n",
       "      <td>0</td>\n",
       "      <td>0</td>\n",
       "      <td>0</td>\n",
       "      <td>0</td>\n",
       "      <td>0</td>\n",
       "      <td>0</td>\n",
       "      <td>0</td>\n",
       "      <td>0</td>\n",
       "      <td>0</td>\n",
       "    </tr>\n",
       "  </tbody>\n",
       "</table>\n",
       "<p>5 rows × 24 columns</p>\n",
       "</div>"
      ],
      "text/plain": [
       "   userId  movieId  rating            title              ORIG_TITLE  YEAR  \\\n",
       "0       1       31     2.5  Dangerous Minds  Dangerous Minds (1995)  1995   \n",
       "1       7       31     3.0  Dangerous Minds  Dangerous Minds (1995)  1995   \n",
       "2      31       31     4.0  Dangerous Minds  Dangerous Minds (1995)  1995   \n",
       "3      32       31     4.0  Dangerous Minds  Dangerous Minds (1995)  1995   \n",
       "4      36       31     3.0  Dangerous Minds  Dangerous Minds (1995)  1995   \n",
       "\n",
       "   ACTION  ADVENTURE  ANIMATION  CHILDREN   ...     FANTASY  FILM-NOIR  \\\n",
       "0       0          0          0         0   ...           0          0   \n",
       "1       0          0          0         0   ...           0          0   \n",
       "2       0          0          0         0   ...           0          0   \n",
       "3       0          0          0         0   ...           0          0   \n",
       "4       0          0          0         0   ...           0          0   \n",
       "\n",
       "   HORROR  MUSICAL  MYSTERY  ROMANCE  SCI-FI  THRILLER  WAR  WESTERN  \n",
       "0       0        0        0        0       0         0    0        0  \n",
       "1       0        0        0        0       0         0    0        0  \n",
       "2       0        0        0        0       0         0    0        0  \n",
       "3       0        0        0        0       0         0    0        0  \n",
       "4       0        0        0        0       0         0    0        0  \n",
       "\n",
       "[5 rows x 24 columns]"
      ]
     },
     "execution_count": 45,
     "metadata": {},
     "output_type": "execute_result"
    }
   ],
   "source": [
    "# Data set that was already processed after the Initial Analysis described above\n",
    "Rated_movies.head(5)"
   ]
  },
  {
   "cell_type": "code",
   "execution_count": 46,
   "metadata": {
    "collapsed": false
   },
   "outputs": [
    {
     "name": "stdout",
     "output_type": "stream",
     "text": [
      "This non-commercial license of GraphLab Create for academic use is assigned to adlopez@mail.smu.edu and will expire on April 06, 2019.\n"
     ]
    },
    {
     "name": "stderr",
     "output_type": "stream",
     "text": [
      "[INFO] graphlab.cython.cy_server: GraphLab Create v2.1 started. Logging: C:\\Users\\ALMA_L~1\\AppData\\Local\\Temp\\graphlab_server_1523824227.log.0\n"
     ]
    }
   ],
   "source": [
    "# We used graphlab Turi tools for the models\n",
    "Rating_movies_sf = gl.SFrame(Rated_movies)"
   ]
  },
  {
   "cell_type": "code",
   "execution_count": 47,
   "metadata": {
    "collapsed": false
   },
   "outputs": [],
   "source": [
    "#create the train and test splits, with a seed to reproduce results.\n",
    "#We chose 80% of the records for training and 20% for testing.\n",
    "train, test = gl.recommender.util.random_split_by_user(Rating_movies_sf, user_id=\"userId\", item_id=\"title\", \n",
    "                                                       item_test_proportion=0.2, random_seed=2018)"
   ]
  },
  {
   "cell_type": "code",
   "execution_count": 48,
   "metadata": {
    "collapsed": false
   },
   "outputs": [
    {
     "data": {
      "text/html": [
       "<div style=\"max-height:1000px;max-width:1500px;overflow:auto;\"><table frame=\"box\" rules=\"cols\">\n",
       "    <tr>\n",
       "        <th style=\"padding-left: 1em; padding-right: 1em; text-align: center\">userId</th>\n",
       "        <th style=\"padding-left: 1em; padding-right: 1em; text-align: center\">movieId</th>\n",
       "        <th style=\"padding-left: 1em; padding-right: 1em; text-align: center\">rating</th>\n",
       "        <th style=\"padding-left: 1em; padding-right: 1em; text-align: center\">title</th>\n",
       "        <th style=\"padding-left: 1em; padding-right: 1em; text-align: center\">ORIG_TITLE</th>\n",
       "        <th style=\"padding-left: 1em; padding-right: 1em; text-align: center\">YEAR</th>\n",
       "        <th style=\"padding-left: 1em; padding-right: 1em; text-align: center\">ACTION</th>\n",
       "        <th style=\"padding-left: 1em; padding-right: 1em; text-align: center\">ADVENTURE</th>\n",
       "        <th style=\"padding-left: 1em; padding-right: 1em; text-align: center\">ANIMATION</th>\n",
       "        <th style=\"padding-left: 1em; padding-right: 1em; text-align: center\">CHILDREN</th>\n",
       "    </tr>\n",
       "    <tr>\n",
       "        <td style=\"padding-left: 1em; padding-right: 1em; text-align: center; vertical-align: top\">36</td>\n",
       "        <td style=\"padding-left: 1em; padding-right: 1em; text-align: center; vertical-align: top\">31</td>\n",
       "        <td style=\"padding-left: 1em; padding-right: 1em; text-align: center; vertical-align: top\">3.0</td>\n",
       "        <td style=\"padding-left: 1em; padding-right: 1em; text-align: center; vertical-align: top\">Dangerous Minds</td>\n",
       "        <td style=\"padding-left: 1em; padding-right: 1em; text-align: center; vertical-align: top\">Dangerous Minds (1995)</td>\n",
       "        <td style=\"padding-left: 1em; padding-right: 1em; text-align: center; vertical-align: top\">1995</td>\n",
       "        <td style=\"padding-left: 1em; padding-right: 1em; text-align: center; vertical-align: top\">0</td>\n",
       "        <td style=\"padding-left: 1em; padding-right: 1em; text-align: center; vertical-align: top\">0</td>\n",
       "        <td style=\"padding-left: 1em; padding-right: 1em; text-align: center; vertical-align: top\">0</td>\n",
       "        <td style=\"padding-left: 1em; padding-right: 1em; text-align: center; vertical-align: top\">0</td>\n",
       "    </tr>\n",
       "    <tr>\n",
       "        <td style=\"padding-left: 1em; padding-right: 1em; text-align: center; vertical-align: top\">88</td>\n",
       "        <td style=\"padding-left: 1em; padding-right: 1em; text-align: center; vertical-align: top\">31</td>\n",
       "        <td style=\"padding-left: 1em; padding-right: 1em; text-align: center; vertical-align: top\">3.0</td>\n",
       "        <td style=\"padding-left: 1em; padding-right: 1em; text-align: center; vertical-align: top\">Dangerous Minds</td>\n",
       "        <td style=\"padding-left: 1em; padding-right: 1em; text-align: center; vertical-align: top\">Dangerous Minds (1995)</td>\n",
       "        <td style=\"padding-left: 1em; padding-right: 1em; text-align: center; vertical-align: top\">1995</td>\n",
       "        <td style=\"padding-left: 1em; padding-right: 1em; text-align: center; vertical-align: top\">0</td>\n",
       "        <td style=\"padding-left: 1em; padding-right: 1em; text-align: center; vertical-align: top\">0</td>\n",
       "        <td style=\"padding-left: 1em; padding-right: 1em; text-align: center; vertical-align: top\">0</td>\n",
       "        <td style=\"padding-left: 1em; padding-right: 1em; text-align: center; vertical-align: top\">0</td>\n",
       "    </tr>\n",
       "    <tr>\n",
       "        <td style=\"padding-left: 1em; padding-right: 1em; text-align: center; vertical-align: top\">111</td>\n",
       "        <td style=\"padding-left: 1em; padding-right: 1em; text-align: center; vertical-align: top\">31</td>\n",
       "        <td style=\"padding-left: 1em; padding-right: 1em; text-align: center; vertical-align: top\">3.5</td>\n",
       "        <td style=\"padding-left: 1em; padding-right: 1em; text-align: center; vertical-align: top\">Dangerous Minds</td>\n",
       "        <td style=\"padding-left: 1em; padding-right: 1em; text-align: center; vertical-align: top\">Dangerous Minds (1995)</td>\n",
       "        <td style=\"padding-left: 1em; padding-right: 1em; text-align: center; vertical-align: top\">1995</td>\n",
       "        <td style=\"padding-left: 1em; padding-right: 1em; text-align: center; vertical-align: top\">0</td>\n",
       "        <td style=\"padding-left: 1em; padding-right: 1em; text-align: center; vertical-align: top\">0</td>\n",
       "        <td style=\"padding-left: 1em; padding-right: 1em; text-align: center; vertical-align: top\">0</td>\n",
       "        <td style=\"padding-left: 1em; padding-right: 1em; text-align: center; vertical-align: top\">0</td>\n",
       "    </tr>\n",
       "    <tr>\n",
       "        <td style=\"padding-left: 1em; padding-right: 1em; text-align: center; vertical-align: top\">186</td>\n",
       "        <td style=\"padding-left: 1em; padding-right: 1em; text-align: center; vertical-align: top\">31</td>\n",
       "        <td style=\"padding-left: 1em; padding-right: 1em; text-align: center; vertical-align: top\">3.0</td>\n",
       "        <td style=\"padding-left: 1em; padding-right: 1em; text-align: center; vertical-align: top\">Dangerous Minds</td>\n",
       "        <td style=\"padding-left: 1em; padding-right: 1em; text-align: center; vertical-align: top\">Dangerous Minds (1995)</td>\n",
       "        <td style=\"padding-left: 1em; padding-right: 1em; text-align: center; vertical-align: top\">1995</td>\n",
       "        <td style=\"padding-left: 1em; padding-right: 1em; text-align: center; vertical-align: top\">0</td>\n",
       "        <td style=\"padding-left: 1em; padding-right: 1em; text-align: center; vertical-align: top\">0</td>\n",
       "        <td style=\"padding-left: 1em; padding-right: 1em; text-align: center; vertical-align: top\">0</td>\n",
       "        <td style=\"padding-left: 1em; padding-right: 1em; text-align: center; vertical-align: top\">0</td>\n",
       "    </tr>\n",
       "    <tr>\n",
       "        <td style=\"padding-left: 1em; padding-right: 1em; text-align: center; vertical-align: top\">288</td>\n",
       "        <td style=\"padding-left: 1em; padding-right: 1em; text-align: center; vertical-align: top\">31</td>\n",
       "        <td style=\"padding-left: 1em; padding-right: 1em; text-align: center; vertical-align: top\">3.0</td>\n",
       "        <td style=\"padding-left: 1em; padding-right: 1em; text-align: center; vertical-align: top\">Dangerous Minds</td>\n",
       "        <td style=\"padding-left: 1em; padding-right: 1em; text-align: center; vertical-align: top\">Dangerous Minds (1995)</td>\n",
       "        <td style=\"padding-left: 1em; padding-right: 1em; text-align: center; vertical-align: top\">1995</td>\n",
       "        <td style=\"padding-left: 1em; padding-right: 1em; text-align: center; vertical-align: top\">0</td>\n",
       "        <td style=\"padding-left: 1em; padding-right: 1em; text-align: center; vertical-align: top\">0</td>\n",
       "        <td style=\"padding-left: 1em; padding-right: 1em; text-align: center; vertical-align: top\">0</td>\n",
       "        <td style=\"padding-left: 1em; padding-right: 1em; text-align: center; vertical-align: top\">0</td>\n",
       "    </tr>\n",
       "</table>\n",
       "<table frame=\"box\" rules=\"cols\">\n",
       "    <tr>\n",
       "        <th style=\"padding-left: 1em; padding-right: 1em; text-align: center\">COMEDY</th>\n",
       "        <th style=\"padding-left: 1em; padding-right: 1em; text-align: center\">CRIME</th>\n",
       "        <th style=\"padding-left: 1em; padding-right: 1em; text-align: center\">DOCUMENTARY</th>\n",
       "        <th style=\"padding-left: 1em; padding-right: 1em; text-align: center\">DRAMA</th>\n",
       "        <th style=\"padding-left: 1em; padding-right: 1em; text-align: center\">FANTASY</th>\n",
       "        <th style=\"padding-left: 1em; padding-right: 1em; text-align: center\">FILM-NOIR</th>\n",
       "        <th style=\"padding-left: 1em; padding-right: 1em; text-align: center\">HORROR</th>\n",
       "        <th style=\"padding-left: 1em; padding-right: 1em; text-align: center\">MUSICAL</th>\n",
       "        <th style=\"padding-left: 1em; padding-right: 1em; text-align: center\">MYSTERY</th>\n",
       "        <th style=\"padding-left: 1em; padding-right: 1em; text-align: center\">ROMANCE</th>\n",
       "        <th style=\"padding-left: 1em; padding-right: 1em; text-align: center\">SCI-FI</th>\n",
       "        <th style=\"padding-left: 1em; padding-right: 1em; text-align: center\">THRILLER</th>\n",
       "    </tr>\n",
       "    <tr>\n",
       "        <td style=\"padding-left: 1em; padding-right: 1em; text-align: center; vertical-align: top\">0</td>\n",
       "        <td style=\"padding-left: 1em; padding-right: 1em; text-align: center; vertical-align: top\">0</td>\n",
       "        <td style=\"padding-left: 1em; padding-right: 1em; text-align: center; vertical-align: top\">0</td>\n",
       "        <td style=\"padding-left: 1em; padding-right: 1em; text-align: center; vertical-align: top\">1</td>\n",
       "        <td style=\"padding-left: 1em; padding-right: 1em; text-align: center; vertical-align: top\">0</td>\n",
       "        <td style=\"padding-left: 1em; padding-right: 1em; text-align: center; vertical-align: top\">0</td>\n",
       "        <td style=\"padding-left: 1em; padding-right: 1em; text-align: center; vertical-align: top\">0</td>\n",
       "        <td style=\"padding-left: 1em; padding-right: 1em; text-align: center; vertical-align: top\">0</td>\n",
       "        <td style=\"padding-left: 1em; padding-right: 1em; text-align: center; vertical-align: top\">0</td>\n",
       "        <td style=\"padding-left: 1em; padding-right: 1em; text-align: center; vertical-align: top\">0</td>\n",
       "        <td style=\"padding-left: 1em; padding-right: 1em; text-align: center; vertical-align: top\">0</td>\n",
       "        <td style=\"padding-left: 1em; padding-right: 1em; text-align: center; vertical-align: top\">0</td>\n",
       "    </tr>\n",
       "    <tr>\n",
       "        <td style=\"padding-left: 1em; padding-right: 1em; text-align: center; vertical-align: top\">0</td>\n",
       "        <td style=\"padding-left: 1em; padding-right: 1em; text-align: center; vertical-align: top\">0</td>\n",
       "        <td style=\"padding-left: 1em; padding-right: 1em; text-align: center; vertical-align: top\">0</td>\n",
       "        <td style=\"padding-left: 1em; padding-right: 1em; text-align: center; vertical-align: top\">1</td>\n",
       "        <td style=\"padding-left: 1em; padding-right: 1em; text-align: center; vertical-align: top\">0</td>\n",
       "        <td style=\"padding-left: 1em; padding-right: 1em; text-align: center; vertical-align: top\">0</td>\n",
       "        <td style=\"padding-left: 1em; padding-right: 1em; text-align: center; vertical-align: top\">0</td>\n",
       "        <td style=\"padding-left: 1em; padding-right: 1em; text-align: center; vertical-align: top\">0</td>\n",
       "        <td style=\"padding-left: 1em; padding-right: 1em; text-align: center; vertical-align: top\">0</td>\n",
       "        <td style=\"padding-left: 1em; padding-right: 1em; text-align: center; vertical-align: top\">0</td>\n",
       "        <td style=\"padding-left: 1em; padding-right: 1em; text-align: center; vertical-align: top\">0</td>\n",
       "        <td style=\"padding-left: 1em; padding-right: 1em; text-align: center; vertical-align: top\">0</td>\n",
       "    </tr>\n",
       "    <tr>\n",
       "        <td style=\"padding-left: 1em; padding-right: 1em; text-align: center; vertical-align: top\">0</td>\n",
       "        <td style=\"padding-left: 1em; padding-right: 1em; text-align: center; vertical-align: top\">0</td>\n",
       "        <td style=\"padding-left: 1em; padding-right: 1em; text-align: center; vertical-align: top\">0</td>\n",
       "        <td style=\"padding-left: 1em; padding-right: 1em; text-align: center; vertical-align: top\">1</td>\n",
       "        <td style=\"padding-left: 1em; padding-right: 1em; text-align: center; vertical-align: top\">0</td>\n",
       "        <td style=\"padding-left: 1em; padding-right: 1em; text-align: center; vertical-align: top\">0</td>\n",
       "        <td style=\"padding-left: 1em; padding-right: 1em; text-align: center; vertical-align: top\">0</td>\n",
       "        <td style=\"padding-left: 1em; padding-right: 1em; text-align: center; vertical-align: top\">0</td>\n",
       "        <td style=\"padding-left: 1em; padding-right: 1em; text-align: center; vertical-align: top\">0</td>\n",
       "        <td style=\"padding-left: 1em; padding-right: 1em; text-align: center; vertical-align: top\">0</td>\n",
       "        <td style=\"padding-left: 1em; padding-right: 1em; text-align: center; vertical-align: top\">0</td>\n",
       "        <td style=\"padding-left: 1em; padding-right: 1em; text-align: center; vertical-align: top\">0</td>\n",
       "    </tr>\n",
       "    <tr>\n",
       "        <td style=\"padding-left: 1em; padding-right: 1em; text-align: center; vertical-align: top\">0</td>\n",
       "        <td style=\"padding-left: 1em; padding-right: 1em; text-align: center; vertical-align: top\">0</td>\n",
       "        <td style=\"padding-left: 1em; padding-right: 1em; text-align: center; vertical-align: top\">0</td>\n",
       "        <td style=\"padding-left: 1em; padding-right: 1em; text-align: center; vertical-align: top\">1</td>\n",
       "        <td style=\"padding-left: 1em; padding-right: 1em; text-align: center; vertical-align: top\">0</td>\n",
       "        <td style=\"padding-left: 1em; padding-right: 1em; text-align: center; vertical-align: top\">0</td>\n",
       "        <td style=\"padding-left: 1em; padding-right: 1em; text-align: center; vertical-align: top\">0</td>\n",
       "        <td style=\"padding-left: 1em; padding-right: 1em; text-align: center; vertical-align: top\">0</td>\n",
       "        <td style=\"padding-left: 1em; padding-right: 1em; text-align: center; vertical-align: top\">0</td>\n",
       "        <td style=\"padding-left: 1em; padding-right: 1em; text-align: center; vertical-align: top\">0</td>\n",
       "        <td style=\"padding-left: 1em; padding-right: 1em; text-align: center; vertical-align: top\">0</td>\n",
       "        <td style=\"padding-left: 1em; padding-right: 1em; text-align: center; vertical-align: top\">0</td>\n",
       "    </tr>\n",
       "    <tr>\n",
       "        <td style=\"padding-left: 1em; padding-right: 1em; text-align: center; vertical-align: top\">0</td>\n",
       "        <td style=\"padding-left: 1em; padding-right: 1em; text-align: center; vertical-align: top\">0</td>\n",
       "        <td style=\"padding-left: 1em; padding-right: 1em; text-align: center; vertical-align: top\">0</td>\n",
       "        <td style=\"padding-left: 1em; padding-right: 1em; text-align: center; vertical-align: top\">1</td>\n",
       "        <td style=\"padding-left: 1em; padding-right: 1em; text-align: center; vertical-align: top\">0</td>\n",
       "        <td style=\"padding-left: 1em; padding-right: 1em; text-align: center; vertical-align: top\">0</td>\n",
       "        <td style=\"padding-left: 1em; padding-right: 1em; text-align: center; vertical-align: top\">0</td>\n",
       "        <td style=\"padding-left: 1em; padding-right: 1em; text-align: center; vertical-align: top\">0</td>\n",
       "        <td style=\"padding-left: 1em; padding-right: 1em; text-align: center; vertical-align: top\">0</td>\n",
       "        <td style=\"padding-left: 1em; padding-right: 1em; text-align: center; vertical-align: top\">0</td>\n",
       "        <td style=\"padding-left: 1em; padding-right: 1em; text-align: center; vertical-align: top\">0</td>\n",
       "        <td style=\"padding-left: 1em; padding-right: 1em; text-align: center; vertical-align: top\">0</td>\n",
       "    </tr>\n",
       "</table>\n",
       "<table frame=\"box\" rules=\"cols\">\n",
       "    <tr>\n",
       "        <th style=\"padding-left: 1em; padding-right: 1em; text-align: center\">WAR</th>\n",
       "        <th style=\"padding-left: 1em; padding-right: 1em; text-align: center\">WESTERN</th>\n",
       "    </tr>\n",
       "    <tr>\n",
       "        <td style=\"padding-left: 1em; padding-right: 1em; text-align: center; vertical-align: top\">0</td>\n",
       "        <td style=\"padding-left: 1em; padding-right: 1em; text-align: center; vertical-align: top\">0</td>\n",
       "    </tr>\n",
       "    <tr>\n",
       "        <td style=\"padding-left: 1em; padding-right: 1em; text-align: center; vertical-align: top\">0</td>\n",
       "        <td style=\"padding-left: 1em; padding-right: 1em; text-align: center; vertical-align: top\">0</td>\n",
       "    </tr>\n",
       "    <tr>\n",
       "        <td style=\"padding-left: 1em; padding-right: 1em; text-align: center; vertical-align: top\">0</td>\n",
       "        <td style=\"padding-left: 1em; padding-right: 1em; text-align: center; vertical-align: top\">0</td>\n",
       "    </tr>\n",
       "    <tr>\n",
       "        <td style=\"padding-left: 1em; padding-right: 1em; text-align: center; vertical-align: top\">0</td>\n",
       "        <td style=\"padding-left: 1em; padding-right: 1em; text-align: center; vertical-align: top\">0</td>\n",
       "    </tr>\n",
       "    <tr>\n",
       "        <td style=\"padding-left: 1em; padding-right: 1em; text-align: center; vertical-align: top\">0</td>\n",
       "        <td style=\"padding-left: 1em; padding-right: 1em; text-align: center; vertical-align: top\">0</td>\n",
       "    </tr>\n",
       "</table>\n",
       "[5 rows x 24 columns]<br/>\n",
       "</div>"
      ],
      "text/plain": [
       "Columns:\n",
       "\tuserId\tint\n",
       "\tmovieId\tint\n",
       "\trating\tfloat\n",
       "\ttitle\tstr\n",
       "\tORIG_TITLE\tstr\n",
       "\tYEAR\tstr\n",
       "\tACTION\tint\n",
       "\tADVENTURE\tint\n",
       "\tANIMATION\tint\n",
       "\tCHILDREN\tint\n",
       "\tCOMEDY\tint\n",
       "\tCRIME\tint\n",
       "\tDOCUMENTARY\tint\n",
       "\tDRAMA\tint\n",
       "\tFANTASY\tint\n",
       "\tFILM-NOIR\tint\n",
       "\tHORROR\tint\n",
       "\tMUSICAL\tint\n",
       "\tMYSTERY\tint\n",
       "\tROMANCE\tint\n",
       "\tSCI-FI\tint\n",
       "\tTHRILLER\tint\n",
       "\tWAR\tint\n",
       "\tWESTERN\tint\n",
       "\n",
       "Rows: 5\n",
       "\n",
       "Data:\n",
       "+--------+---------+--------+-----------------+------------------------+------+\n",
       "| userId | movieId | rating |      title      |       ORIG_TITLE       | YEAR |\n",
       "+--------+---------+--------+-----------------+------------------------+------+\n",
       "|   36   |    31   |  3.0   | Dangerous Minds | Dangerous Minds (1995) | 1995 |\n",
       "|   88   |    31   |  3.0   | Dangerous Minds | Dangerous Minds (1995) | 1995 |\n",
       "|  111   |    31   |  3.5   | Dangerous Minds | Dangerous Minds (1995) | 1995 |\n",
       "|  186   |    31   |  3.0   | Dangerous Minds | Dangerous Minds (1995) | 1995 |\n",
       "|  288   |    31   |  3.0   | Dangerous Minds | Dangerous Minds (1995) | 1995 |\n",
       "+--------+---------+--------+-----------------+------------------------+------+\n",
       "+--------+-----------+-----------+----------+--------+-------+-------------+-------+\n",
       "| ACTION | ADVENTURE | ANIMATION | CHILDREN | COMEDY | CRIME | DOCUMENTARY | DRAMA |\n",
       "+--------+-----------+-----------+----------+--------+-------+-------------+-------+\n",
       "|   0    |     0     |     0     |    0     |   0    |   0   |      0      |   1   |\n",
       "|   0    |     0     |     0     |    0     |   0    |   0   |      0      |   1   |\n",
       "|   0    |     0     |     0     |    0     |   0    |   0   |      0      |   1   |\n",
       "|   0    |     0     |     0     |    0     |   0    |   0   |      0      |   1   |\n",
       "|   0    |     0     |     0     |    0     |   0    |   0   |      0      |   1   |\n",
       "+--------+-----------+-----------+----------+--------+-------+-------------+-------+\n",
       "+---------+-----------+--------+---------+---------+---------+-----+\n",
       "| FANTASY | FILM-NOIR | HORROR | MUSICAL | MYSTERY | ROMANCE | ... |\n",
       "+---------+-----------+--------+---------+---------+---------+-----+\n",
       "|    0    |     0     |   0    |    0    |    0    |    0    | ... |\n",
       "|    0    |     0     |   0    |    0    |    0    |    0    | ... |\n",
       "|    0    |     0     |   0    |    0    |    0    |    0    | ... |\n",
       "|    0    |     0     |   0    |    0    |    0    |    0    | ... |\n",
       "|    0    |     0     |   0    |    0    |    0    |    0    | ... |\n",
       "+---------+-----------+--------+---------+---------+---------+-----+\n",
       "[5 rows x 24 columns]"
      ]
     },
     "execution_count": 48,
     "metadata": {},
     "output_type": "execute_result"
    }
   ],
   "source": [
    "#For intution, here is a portion of the test split.\n",
    "test.head(5)"
   ]
  },
  {
   "cell_type": "code",
   "execution_count": 49,
   "metadata": {
    "collapsed": false
   },
   "outputs": [
    {
     "data": {
      "text/html": [
       "<div style=\"max-height:1000px;max-width:1500px;overflow:auto;\"><table frame=\"box\" rules=\"cols\">\n",
       "    <tr>\n",
       "        <th style=\"padding-left: 1em; padding-right: 1em; text-align: center\">title</th>\n",
       "        <th style=\"padding-left: 1em; padding-right: 1em; text-align: center\">YEAR</th>\n",
       "        <th style=\"padding-left: 1em; padding-right: 1em; text-align: center\">ACTION</th>\n",
       "        <th style=\"padding-left: 1em; padding-right: 1em; text-align: center\">ADVENTURE</th>\n",
       "        <th style=\"padding-left: 1em; padding-right: 1em; text-align: center\">COMEDY</th>\n",
       "        <th style=\"padding-left: 1em; padding-right: 1em; text-align: center\">CRIME</th>\n",
       "        <th style=\"padding-left: 1em; padding-right: 1em; text-align: center\">DOCUMENTARY</th>\n",
       "        <th style=\"padding-left: 1em; padding-right: 1em; text-align: center\">DRAMA</th>\n",
       "        <th style=\"padding-left: 1em; padding-right: 1em; text-align: center\">FANTASY</th>\n",
       "        <th style=\"padding-left: 1em; padding-right: 1em; text-align: center\">FILM-NOIR</th>\n",
       "        <th style=\"padding-left: 1em; padding-right: 1em; text-align: center\">HORROR</th>\n",
       "        <th style=\"padding-left: 1em; padding-right: 1em; text-align: center\">MUSICAL</th>\n",
       "    </tr>\n",
       "    <tr>\n",
       "        <td style=\"padding-left: 1em; padding-right: 1em; text-align: center; vertical-align: top\">Dangerous Minds</td>\n",
       "        <td style=\"padding-left: 1em; padding-right: 1em; text-align: center; vertical-align: top\">1995</td>\n",
       "        <td style=\"padding-left: 1em; padding-right: 1em; text-align: center; vertical-align: top\">0</td>\n",
       "        <td style=\"padding-left: 1em; padding-right: 1em; text-align: center; vertical-align: top\">0</td>\n",
       "        <td style=\"padding-left: 1em; padding-right: 1em; text-align: center; vertical-align: top\">0</td>\n",
       "        <td style=\"padding-left: 1em; padding-right: 1em; text-align: center; vertical-align: top\">0</td>\n",
       "        <td style=\"padding-left: 1em; padding-right: 1em; text-align: center; vertical-align: top\">0</td>\n",
       "        <td style=\"padding-left: 1em; padding-right: 1em; text-align: center; vertical-align: top\">1</td>\n",
       "        <td style=\"padding-left: 1em; padding-right: 1em; text-align: center; vertical-align: top\">0</td>\n",
       "        <td style=\"padding-left: 1em; padding-right: 1em; text-align: center; vertical-align: top\">0</td>\n",
       "        <td style=\"padding-left: 1em; padding-right: 1em; text-align: center; vertical-align: top\">0</td>\n",
       "        <td style=\"padding-left: 1em; padding-right: 1em; text-align: center; vertical-align: top\">0</td>\n",
       "    </tr>\n",
       "    <tr>\n",
       "        <td style=\"padding-left: 1em; padding-right: 1em; text-align: center; vertical-align: top\">Dangerous Minds</td>\n",
       "        <td style=\"padding-left: 1em; padding-right: 1em; text-align: center; vertical-align: top\">1995</td>\n",
       "        <td style=\"padding-left: 1em; padding-right: 1em; text-align: center; vertical-align: top\">0</td>\n",
       "        <td style=\"padding-left: 1em; padding-right: 1em; text-align: center; vertical-align: top\">0</td>\n",
       "        <td style=\"padding-left: 1em; padding-right: 1em; text-align: center; vertical-align: top\">0</td>\n",
       "        <td style=\"padding-left: 1em; padding-right: 1em; text-align: center; vertical-align: top\">0</td>\n",
       "        <td style=\"padding-left: 1em; padding-right: 1em; text-align: center; vertical-align: top\">0</td>\n",
       "        <td style=\"padding-left: 1em; padding-right: 1em; text-align: center; vertical-align: top\">1</td>\n",
       "        <td style=\"padding-left: 1em; padding-right: 1em; text-align: center; vertical-align: top\">0</td>\n",
       "        <td style=\"padding-left: 1em; padding-right: 1em; text-align: center; vertical-align: top\">0</td>\n",
       "        <td style=\"padding-left: 1em; padding-right: 1em; text-align: center; vertical-align: top\">0</td>\n",
       "        <td style=\"padding-left: 1em; padding-right: 1em; text-align: center; vertical-align: top\">0</td>\n",
       "    </tr>\n",
       "    <tr>\n",
       "        <td style=\"padding-left: 1em; padding-right: 1em; text-align: center; vertical-align: top\">Dangerous Minds</td>\n",
       "        <td style=\"padding-left: 1em; padding-right: 1em; text-align: center; vertical-align: top\">1995</td>\n",
       "        <td style=\"padding-left: 1em; padding-right: 1em; text-align: center; vertical-align: top\">0</td>\n",
       "        <td style=\"padding-left: 1em; padding-right: 1em; text-align: center; vertical-align: top\">0</td>\n",
       "        <td style=\"padding-left: 1em; padding-right: 1em; text-align: center; vertical-align: top\">0</td>\n",
       "        <td style=\"padding-left: 1em; padding-right: 1em; text-align: center; vertical-align: top\">0</td>\n",
       "        <td style=\"padding-left: 1em; padding-right: 1em; text-align: center; vertical-align: top\">0</td>\n",
       "        <td style=\"padding-left: 1em; padding-right: 1em; text-align: center; vertical-align: top\">1</td>\n",
       "        <td style=\"padding-left: 1em; padding-right: 1em; text-align: center; vertical-align: top\">0</td>\n",
       "        <td style=\"padding-left: 1em; padding-right: 1em; text-align: center; vertical-align: top\">0</td>\n",
       "        <td style=\"padding-left: 1em; padding-right: 1em; text-align: center; vertical-align: top\">0</td>\n",
       "        <td style=\"padding-left: 1em; padding-right: 1em; text-align: center; vertical-align: top\">0</td>\n",
       "    </tr>\n",
       "    <tr>\n",
       "        <td style=\"padding-left: 1em; padding-right: 1em; text-align: center; vertical-align: top\">Dangerous Minds</td>\n",
       "        <td style=\"padding-left: 1em; padding-right: 1em; text-align: center; vertical-align: top\">1995</td>\n",
       "        <td style=\"padding-left: 1em; padding-right: 1em; text-align: center; vertical-align: top\">0</td>\n",
       "        <td style=\"padding-left: 1em; padding-right: 1em; text-align: center; vertical-align: top\">0</td>\n",
       "        <td style=\"padding-left: 1em; padding-right: 1em; text-align: center; vertical-align: top\">0</td>\n",
       "        <td style=\"padding-left: 1em; padding-right: 1em; text-align: center; vertical-align: top\">0</td>\n",
       "        <td style=\"padding-left: 1em; padding-right: 1em; text-align: center; vertical-align: top\">0</td>\n",
       "        <td style=\"padding-left: 1em; padding-right: 1em; text-align: center; vertical-align: top\">1</td>\n",
       "        <td style=\"padding-left: 1em; padding-right: 1em; text-align: center; vertical-align: top\">0</td>\n",
       "        <td style=\"padding-left: 1em; padding-right: 1em; text-align: center; vertical-align: top\">0</td>\n",
       "        <td style=\"padding-left: 1em; padding-right: 1em; text-align: center; vertical-align: top\">0</td>\n",
       "        <td style=\"padding-left: 1em; padding-right: 1em; text-align: center; vertical-align: top\">0</td>\n",
       "    </tr>\n",
       "    <tr>\n",
       "        <td style=\"padding-left: 1em; padding-right: 1em; text-align: center; vertical-align: top\">Dangerous Minds</td>\n",
       "        <td style=\"padding-left: 1em; padding-right: 1em; text-align: center; vertical-align: top\">1995</td>\n",
       "        <td style=\"padding-left: 1em; padding-right: 1em; text-align: center; vertical-align: top\">0</td>\n",
       "        <td style=\"padding-left: 1em; padding-right: 1em; text-align: center; vertical-align: top\">0</td>\n",
       "        <td style=\"padding-left: 1em; padding-right: 1em; text-align: center; vertical-align: top\">0</td>\n",
       "        <td style=\"padding-left: 1em; padding-right: 1em; text-align: center; vertical-align: top\">0</td>\n",
       "        <td style=\"padding-left: 1em; padding-right: 1em; text-align: center; vertical-align: top\">0</td>\n",
       "        <td style=\"padding-left: 1em; padding-right: 1em; text-align: center; vertical-align: top\">1</td>\n",
       "        <td style=\"padding-left: 1em; padding-right: 1em; text-align: center; vertical-align: top\">0</td>\n",
       "        <td style=\"padding-left: 1em; padding-right: 1em; text-align: center; vertical-align: top\">0</td>\n",
       "        <td style=\"padding-left: 1em; padding-right: 1em; text-align: center; vertical-align: top\">0</td>\n",
       "        <td style=\"padding-left: 1em; padding-right: 1em; text-align: center; vertical-align: top\">0</td>\n",
       "    </tr>\n",
       "</table>\n",
       "<table frame=\"box\" rules=\"cols\">\n",
       "    <tr>\n",
       "        <th style=\"padding-left: 1em; padding-right: 1em; text-align: center\">MYSTERY</th>\n",
       "        <th style=\"padding-left: 1em; padding-right: 1em; text-align: center\">ROMANCE</th>\n",
       "        <th style=\"padding-left: 1em; padding-right: 1em; text-align: center\">SCI-FI</th>\n",
       "        <th style=\"padding-left: 1em; padding-right: 1em; text-align: center\">THRILLER</th>\n",
       "    </tr>\n",
       "    <tr>\n",
       "        <td style=\"padding-left: 1em; padding-right: 1em; text-align: center; vertical-align: top\">0</td>\n",
       "        <td style=\"padding-left: 1em; padding-right: 1em; text-align: center; vertical-align: top\">0</td>\n",
       "        <td style=\"padding-left: 1em; padding-right: 1em; text-align: center; vertical-align: top\">0</td>\n",
       "        <td style=\"padding-left: 1em; padding-right: 1em; text-align: center; vertical-align: top\">0</td>\n",
       "    </tr>\n",
       "    <tr>\n",
       "        <td style=\"padding-left: 1em; padding-right: 1em; text-align: center; vertical-align: top\">0</td>\n",
       "        <td style=\"padding-left: 1em; padding-right: 1em; text-align: center; vertical-align: top\">0</td>\n",
       "        <td style=\"padding-left: 1em; padding-right: 1em; text-align: center; vertical-align: top\">0</td>\n",
       "        <td style=\"padding-left: 1em; padding-right: 1em; text-align: center; vertical-align: top\">0</td>\n",
       "    </tr>\n",
       "    <tr>\n",
       "        <td style=\"padding-left: 1em; padding-right: 1em; text-align: center; vertical-align: top\">0</td>\n",
       "        <td style=\"padding-left: 1em; padding-right: 1em; text-align: center; vertical-align: top\">0</td>\n",
       "        <td style=\"padding-left: 1em; padding-right: 1em; text-align: center; vertical-align: top\">0</td>\n",
       "        <td style=\"padding-left: 1em; padding-right: 1em; text-align: center; vertical-align: top\">0</td>\n",
       "    </tr>\n",
       "    <tr>\n",
       "        <td style=\"padding-left: 1em; padding-right: 1em; text-align: center; vertical-align: top\">0</td>\n",
       "        <td style=\"padding-left: 1em; padding-right: 1em; text-align: center; vertical-align: top\">0</td>\n",
       "        <td style=\"padding-left: 1em; padding-right: 1em; text-align: center; vertical-align: top\">0</td>\n",
       "        <td style=\"padding-left: 1em; padding-right: 1em; text-align: center; vertical-align: top\">0</td>\n",
       "    </tr>\n",
       "    <tr>\n",
       "        <td style=\"padding-left: 1em; padding-right: 1em; text-align: center; vertical-align: top\">0</td>\n",
       "        <td style=\"padding-left: 1em; padding-right: 1em; text-align: center; vertical-align: top\">0</td>\n",
       "        <td style=\"padding-left: 1em; padding-right: 1em; text-align: center; vertical-align: top\">0</td>\n",
       "        <td style=\"padding-left: 1em; padding-right: 1em; text-align: center; vertical-align: top\">0</td>\n",
       "    </tr>\n",
       "</table>\n",
       "[5 rows x 16 columns]<br/>\n",
       "</div>"
      ],
      "text/plain": [
       "Columns:\n",
       "\ttitle\tstr\n",
       "\tYEAR\tstr\n",
       "\tACTION\tint\n",
       "\tADVENTURE\tint\n",
       "\tCOMEDY\tint\n",
       "\tCRIME\tint\n",
       "\tDOCUMENTARY\tint\n",
       "\tDRAMA\tint\n",
       "\tFANTASY\tint\n",
       "\tFILM-NOIR\tint\n",
       "\tHORROR\tint\n",
       "\tMUSICAL\tint\n",
       "\tMYSTERY\tint\n",
       "\tROMANCE\tint\n",
       "\tSCI-FI\tint\n",
       "\tTHRILLER\tint\n",
       "\n",
       "Rows: 5\n",
       "\n",
       "Data:\n",
       "+-----------------+------+--------+-----------+--------+-------+-------------+-------+\n",
       "|      title      | YEAR | ACTION | ADVENTURE | COMEDY | CRIME | DOCUMENTARY | DRAMA |\n",
       "+-----------------+------+--------+-----------+--------+-------+-------------+-------+\n",
       "| Dangerous Minds | 1995 |   0    |     0     |   0    |   0   |      0      |   1   |\n",
       "| Dangerous Minds | 1995 |   0    |     0     |   0    |   0   |      0      |   1   |\n",
       "| Dangerous Minds | 1995 |   0    |     0     |   0    |   0   |      0      |   1   |\n",
       "| Dangerous Minds | 1995 |   0    |     0     |   0    |   0   |      0      |   1   |\n",
       "| Dangerous Minds | 1995 |   0    |     0     |   0    |   0   |      0      |   1   |\n",
       "+-----------------+------+--------+-----------+--------+-------+-------------+-------+\n",
       "+---------+-----------+--------+---------+---------+---------+--------+----------+\n",
       "| FANTASY | FILM-NOIR | HORROR | MUSICAL | MYSTERY | ROMANCE | SCI-FI | THRILLER |\n",
       "+---------+-----------+--------+---------+---------+---------+--------+----------+\n",
       "|    0    |     0     |   0    |    0    |    0    |    0    |   0    |    0     |\n",
       "|    0    |     0     |   0    |    0    |    0    |    0    |   0    |    0     |\n",
       "|    0    |     0     |   0    |    0    |    0    |    0    |   0    |    0     |\n",
       "|    0    |     0     |   0    |    0    |    0    |    0    |   0    |    0     |\n",
       "|    0    |     0     |   0    |    0    |    0    |    0    |   0    |    0     |\n",
       "+---------+-----------+--------+---------+---------+---------+--------+----------+\n",
       "[5 rows x 16 columns]"
      ]
     },
     "execution_count": 49,
     "metadata": {},
     "output_type": "execute_result"
    }
   ],
   "source": [
    "#Next, the second model shall include supplementary item data.\n",
    "#We create that, to adjust model paramters, below.\n",
    "\n",
    "#This supplementary data allows us to incorporate years and genres.\n",
    "\n",
    "train_side_info = train.select_columns(['title','YEAR','ACTION','ADVENTURE','COMEDY','CRIME','DOCUMENTARY',\n",
    "                                        'DRAMA','FANTASY','FILM-NOIR','HORROR','MUSICAL','MYSTERY','ROMANCE',\n",
    "                                        'SCI-FI','THRILLER'])\n",
    "\n",
    "test_side_info = test.select_columns(['title','YEAR','ACTION','ADVENTURE','COMEDY','CRIME','DOCUMENTARY','DRAMA',\n",
    "                                      'FANTASY','FILM-NOIR','HORROR','MUSICAL','MYSTERY','ROMANCE','SCI-FI','THRILLER'])\n",
    "\n",
    "test_side_info.head(5)"
   ]
  },
  {
   "cell_type": "markdown",
   "metadata": {},
   "source": [
    "<a id=\"train\"></a>\n",
    "### Modeling and Evaluation 1: Train and adjust parameters"
   ]
  },
  {
   "cell_type": "code",
   "execution_count": 50,
   "metadata": {
    "collapsed": false
   },
   "outputs": [
    {
     "data": {
      "text/html": [
       "<pre>Recsys training: model = ranking_factorization_recommender</pre>"
      ],
      "text/plain": [
       "Recsys training: model = ranking_factorization_recommender"
      ]
     },
     "metadata": {},
     "output_type": "display_data"
    },
    {
     "data": {
      "text/html": [
       "<pre>Preparing data set.</pre>"
      ],
      "text/plain": [
       "Preparing data set."
      ]
     },
     "metadata": {},
     "output_type": "display_data"
    },
    {
     "data": {
      "text/html": [
       "<pre>    Data has 39123 observations with 611 users and 1902 items.</pre>"
      ],
      "text/plain": [
       "    Data has 39123 observations with 611 users and 1902 items."
      ]
     },
     "metadata": {},
     "output_type": "display_data"
    },
    {
     "data": {
      "text/html": [
       "<pre>    Data prepared in: 0.253s</pre>"
      ],
      "text/plain": [
       "    Data prepared in: 0.253s"
      ]
     },
     "metadata": {},
     "output_type": "display_data"
    },
    {
     "data": {
      "text/html": [
       "<pre>Training ranking_factorization_recommender for recommendations.</pre>"
      ],
      "text/plain": [
       "Training ranking_factorization_recommender for recommendations."
      ]
     },
     "metadata": {},
     "output_type": "display_data"
    },
    {
     "data": {
      "text/html": [
       "<pre>+--------------------------------+--------------------------------------------------+----------+</pre>"
      ],
      "text/plain": [
       "+--------------------------------+--------------------------------------------------+----------+"
      ]
     },
     "metadata": {},
     "output_type": "display_data"
    },
    {
     "data": {
      "text/html": [
       "<pre>| Parameter                      | Description                                      | Value    |</pre>"
      ],
      "text/plain": [
       "| Parameter                      | Description                                      | Value    |"
      ]
     },
     "metadata": {},
     "output_type": "display_data"
    },
    {
     "data": {
      "text/html": [
       "<pre>+--------------------------------+--------------------------------------------------+----------+</pre>"
      ],
      "text/plain": [
       "+--------------------------------+--------------------------------------------------+----------+"
      ]
     },
     "metadata": {},
     "output_type": "display_data"
    },
    {
     "data": {
      "text/html": [
       "<pre>| num_factors                    | Factor Dimension                                 | 32       |</pre>"
      ],
      "text/plain": [
       "| num_factors                    | Factor Dimension                                 | 32       |"
      ]
     },
     "metadata": {},
     "output_type": "display_data"
    },
    {
     "data": {
      "text/html": [
       "<pre>| regularization                 | L2 Regularization on Factors                     | 1e-009   |</pre>"
      ],
      "text/plain": [
       "| regularization                 | L2 Regularization on Factors                     | 1e-009   |"
      ]
     },
     "metadata": {},
     "output_type": "display_data"
    },
    {
     "data": {
      "text/html": [
       "<pre>| solver                         | Solver used for training                         | adagrad  |</pre>"
      ],
      "text/plain": [
       "| solver                         | Solver used for training                         | adagrad  |"
      ]
     },
     "metadata": {},
     "output_type": "display_data"
    },
    {
     "data": {
      "text/html": [
       "<pre>| linear_regularization          | L2 Regularization on Linear Coefficients         | 1e-009   |</pre>"
      ],
      "text/plain": [
       "| linear_regularization          | L2 Regularization on Linear Coefficients         | 1e-009   |"
      ]
     },
     "metadata": {},
     "output_type": "display_data"
    },
    {
     "data": {
      "text/html": [
       "<pre>| ranking_regularization         | Rank-based Regularization Weight                 | 0.25     |</pre>"
      ],
      "text/plain": [
       "| ranking_regularization         | Rank-based Regularization Weight                 | 0.25     |"
      ]
     },
     "metadata": {},
     "output_type": "display_data"
    },
    {
     "data": {
      "text/html": [
       "<pre>| max_iterations                 | Maximum Number of Iterations                     | 25       |</pre>"
      ],
      "text/plain": [
       "| max_iterations                 | Maximum Number of Iterations                     | 25       |"
      ]
     },
     "metadata": {},
     "output_type": "display_data"
    },
    {
     "data": {
      "text/html": [
       "<pre>+--------------------------------+--------------------------------------------------+----------+</pre>"
      ],
      "text/plain": [
       "+--------------------------------+--------------------------------------------------+----------+"
      ]
     },
     "metadata": {},
     "output_type": "display_data"
    },
    {
     "data": {
      "text/html": [
       "<pre>  Optimizing model using SGD; tuning step size.</pre>"
      ],
      "text/plain": [
       "  Optimizing model using SGD; tuning step size."
      ]
     },
     "metadata": {},
     "output_type": "display_data"
    },
    {
     "data": {
      "text/html": [
       "<pre>  Using 10000 / 39123 points for tuning the step size.</pre>"
      ],
      "text/plain": [
       "  Using 10000 / 39123 points for tuning the step size."
      ]
     },
     "metadata": {},
     "output_type": "display_data"
    },
    {
     "data": {
      "text/html": [
       "<pre>+---------+-------------------+------------------------------------------+</pre>"
      ],
      "text/plain": [
       "+---------+-------------------+------------------------------------------+"
      ]
     },
     "metadata": {},
     "output_type": "display_data"
    },
    {
     "data": {
      "text/html": [
       "<pre>| Attempt | Initial Step Size | Estimated Objective Value                |</pre>"
      ],
      "text/plain": [
       "| Attempt | Initial Step Size | Estimated Objective Value                |"
      ]
     },
     "metadata": {},
     "output_type": "display_data"
    },
    {
     "data": {
      "text/html": [
       "<pre>+---------+-------------------+------------------------------------------+</pre>"
      ],
      "text/plain": [
       "+---------+-------------------+------------------------------------------+"
      ]
     },
     "metadata": {},
     "output_type": "display_data"
    },
    {
     "data": {
      "text/html": [
       "<pre>| 0       | 2.17391           | Not Viable                               |</pre>"
      ],
      "text/plain": [
       "| 0       | 2.17391           | Not Viable                               |"
      ]
     },
     "metadata": {},
     "output_type": "display_data"
    },
    {
     "data": {
      "text/html": [
       "<pre>| 1       | 0.543478          | Not Viable                               |</pre>"
      ],
      "text/plain": [
       "| 1       | 0.543478          | Not Viable                               |"
      ]
     },
     "metadata": {},
     "output_type": "display_data"
    },
    {
     "data": {
      "text/html": [
       "<pre>| 2       | 0.13587           | 0.847064                                 |</pre>"
      ],
      "text/plain": [
       "| 2       | 0.13587           | 0.847064                                 |"
      ]
     },
     "metadata": {},
     "output_type": "display_data"
    },
    {
     "data": {
      "text/html": [
       "<pre>| 3       | 0.0679348         | 1.11276                                  |</pre>"
      ],
      "text/plain": [
       "| 3       | 0.0679348         | 1.11276                                  |"
      ]
     },
     "metadata": {},
     "output_type": "display_data"
    },
    {
     "data": {
      "text/html": [
       "<pre>| 4       | 0.0339674         | 0.874763                                 |</pre>"
      ],
      "text/plain": [
       "| 4       | 0.0339674         | 0.874763                                 |"
      ]
     },
     "metadata": {},
     "output_type": "display_data"
    },
    {
     "data": {
      "text/html": [
       "<pre>| 5       | 0.0169837         | 1.42336                                  |</pre>"
      ],
      "text/plain": [
       "| 5       | 0.0169837         | 1.42336                                  |"
      ]
     },
     "metadata": {},
     "output_type": "display_data"
    },
    {
     "data": {
      "text/html": [
       "<pre>+---------+-------------------+------------------------------------------+</pre>"
      ],
      "text/plain": [
       "+---------+-------------------+------------------------------------------+"
      ]
     },
     "metadata": {},
     "output_type": "display_data"
    },
    {
     "data": {
      "text/html": [
       "<pre>| Final   | 0.13587           | 0.847064                                 |</pre>"
      ],
      "text/plain": [
       "| Final   | 0.13587           | 0.847064                                 |"
      ]
     },
     "metadata": {},
     "output_type": "display_data"
    },
    {
     "data": {
      "text/html": [
       "<pre>+---------+-------------------+------------------------------------------+</pre>"
      ],
      "text/plain": [
       "+---------+-------------------+------------------------------------------+"
      ]
     },
     "metadata": {},
     "output_type": "display_data"
    },
    {
     "data": {
      "text/html": [
       "<pre>Starting Optimization.</pre>"
      ],
      "text/plain": [
       "Starting Optimization."
      ]
     },
     "metadata": {},
     "output_type": "display_data"
    },
    {
     "data": {
      "text/html": [
       "<pre>+---------+--------------+-------------------+-----------------------+-------------+</pre>"
      ],
      "text/plain": [
       "+---------+--------------+-------------------+-----------------------+-------------+"
      ]
     },
     "metadata": {},
     "output_type": "display_data"
    },
    {
     "data": {
      "text/html": [
       "<pre>| Iter.   | Elapsed Time | Approx. Objective | Approx. Training RMSE | Step Size   |</pre>"
      ],
      "text/plain": [
       "| Iter.   | Elapsed Time | Approx. Objective | Approx. Training RMSE | Step Size   |"
      ]
     },
     "metadata": {},
     "output_type": "display_data"
    },
    {
     "data": {
      "text/html": [
       "<pre>+---------+--------------+-------------------+-----------------------+-------------+</pre>"
      ],
      "text/plain": [
       "+---------+--------------+-------------------+-----------------------+-------------+"
      ]
     },
     "metadata": {},
     "output_type": "display_data"
    },
    {
     "data": {
      "text/html": [
       "<pre>| Initial | 1ms          | 2.0274            | 1.01689               |             |</pre>"
      ],
      "text/plain": [
       "| Initial | 1ms          | 2.0274            | 1.01689               |             |"
      ]
     },
     "metadata": {},
     "output_type": "display_data"
    },
    {
     "data": {
      "text/html": [
       "<pre>+---------+--------------+-------------------+-----------------------+-------------+</pre>"
      ],
      "text/plain": [
       "+---------+--------------+-------------------+-----------------------+-------------+"
      ]
     },
     "metadata": {},
     "output_type": "display_data"
    },
    {
     "data": {
      "text/html": [
       "<pre>| 1       | 282ms        | DIVERGED          | DIVERGED              | 0.13587     |</pre>"
      ],
      "text/plain": [
       "| 1       | 282ms        | DIVERGED          | DIVERGED              | 0.13587     |"
      ]
     },
     "metadata": {},
     "output_type": "display_data"
    },
    {
     "data": {
      "text/html": [
       "<pre>| RESET   | 369ms        | 2.02741           | 1.01686               |             |</pre>"
      ],
      "text/plain": [
       "| RESET   | 369ms        | 2.02741           | 1.01686               |             |"
      ]
     },
     "metadata": {},
     "output_type": "display_data"
    },
    {
     "data": {
      "text/html": [
       "<pre>| 1       | 661ms        | 9.00456           | 2.60704               | 0.0679348   |</pre>"
      ],
      "text/plain": [
       "| 1       | 661ms        | 9.00456           | 2.60704               | 0.0679348   |"
      ]
     },
     "metadata": {},
     "output_type": "display_data"
    },
    {
     "data": {
      "text/html": [
       "<pre>| 2       | 924ms        | 2.24102           | 1.12768               | 0.0679348   |</pre>"
      ],
      "text/plain": [
       "| 2       | 924ms        | 2.24102           | 1.12768               | 0.0679348   |"
      ]
     },
     "metadata": {},
     "output_type": "display_data"
    },
    {
     "data": {
      "text/html": [
       "<pre>| 3       | 1.16s        | 2.51721           | 1.19847               | 0.0679348   |</pre>"
      ],
      "text/plain": [
       "| 3       | 1.16s        | 2.51721           | 1.19847               | 0.0679348   |"
      ]
     },
     "metadata": {},
     "output_type": "display_data"
    },
    {
     "data": {
      "text/html": [
       "<pre>| 4       | 1.35s        | 2.02546           | 1.06484               | 0.0679348   |</pre>"
      ],
      "text/plain": [
       "| 4       | 1.35s        | 2.02546           | 1.06484               | 0.0679348   |"
      ]
     },
     "metadata": {},
     "output_type": "display_data"
    },
    {
     "data": {
      "text/html": [
       "<pre>| 5       | 1.55s        | 1.81727           | 1.033                 | 0.0679348   |</pre>"
      ],
      "text/plain": [
       "| 5       | 1.55s        | 1.81727           | 1.033                 | 0.0679348   |"
      ]
     },
     "metadata": {},
     "output_type": "display_data"
    },
    {
     "data": {
      "text/html": [
       "<pre>| 6       | 1.79s        | 1.92696           | 1.11962               | 0.0679348   |</pre>"
      ],
      "text/plain": [
       "| 6       | 1.79s        | 1.92696           | 1.11962               | 0.0679348   |"
      ]
     },
     "metadata": {},
     "output_type": "display_data"
    },
    {
     "data": {
      "text/html": [
       "<pre>| 9       | 2.41s        | 2.56454           | 1.40371               | 0.0679348   |</pre>"
      ],
      "text/plain": [
       "| 9       | 2.41s        | 2.56454           | 1.40371               | 0.0679348   |"
      ]
     },
     "metadata": {},
     "output_type": "display_data"
    },
    {
     "data": {
      "text/html": [
       "<pre>| 11      | 2.76s        | 2.34802           | 1.34039               | 0.0679348   |</pre>"
      ],
      "text/plain": [
       "| 11      | 2.76s        | 2.34802           | 1.34039               | 0.0679348   |"
      ]
     },
     "metadata": {},
     "output_type": "display_data"
    },
    {
     "data": {
      "text/html": [
       "<pre>| 14      | 3.42s        | 1.87079           | 1.16523               | 0.0679348   |</pre>"
      ],
      "text/plain": [
       "| 14      | 3.42s        | 1.87079           | 1.16523               | 0.0679348   |"
      ]
     },
     "metadata": {},
     "output_type": "display_data"
    },
    {
     "data": {
      "text/html": [
       "<pre>| 19      | 4.31s        | 1.5532            | 1.04999               | 0.0679348   |</pre>"
      ],
      "text/plain": [
       "| 19      | 4.31s        | 1.5532            | 1.04999               | 0.0679348   |"
      ]
     },
     "metadata": {},
     "output_type": "display_data"
    },
    {
     "data": {
      "text/html": [
       "<pre>| 24      | 5.27s        | 1.62619           | 1.0941                | 0.0679348   |</pre>"
      ],
      "text/plain": [
       "| 24      | 5.27s        | 1.62619           | 1.0941                | 0.0679348   |"
      ]
     },
     "metadata": {},
     "output_type": "display_data"
    },
    {
     "data": {
      "text/html": [
       "<pre>+---------+--------------+-------------------+-----------------------+-------------+</pre>"
      ],
      "text/plain": [
       "+---------+--------------+-------------------+-----------------------+-------------+"
      ]
     },
     "metadata": {},
     "output_type": "display_data"
    },
    {
     "data": {
      "text/html": [
       "<pre>Optimization Complete: Maximum number of passes through the data reached.</pre>"
      ],
      "text/plain": [
       "Optimization Complete: Maximum number of passes through the data reached."
      ]
     },
     "metadata": {},
     "output_type": "display_data"
    },
    {
     "data": {
      "text/html": [
       "<pre>Computing final objective value and training RMSE.</pre>"
      ],
      "text/plain": [
       "Computing final objective value and training RMSE."
      ]
     },
     "metadata": {},
     "output_type": "display_data"
    },
    {
     "data": {
      "text/html": [
       "<pre>       Final objective value: 1.3823</pre>"
      ],
      "text/plain": [
       "       Final objective value: 1.3823"
      ]
     },
     "metadata": {},
     "output_type": "display_data"
    },
    {
     "data": {
      "text/html": [
       "<pre>       Final training RMSE: 0.984707</pre>"
      ],
      "text/plain": [
       "       Final training RMSE: 0.984707"
      ]
     },
     "metadata": {},
     "output_type": "display_data"
    }
   ],
   "source": [
    "#First, we train the first model without the supplementary item data.\n",
    "\n",
    "#to test with graphlab user splits\n",
    "#make first training model - a user-item collaborative-filtering\n",
    "#recommender system.\n",
    "#We use 32 latent factors for this recommender system.\n",
    "train_model1 = gl.recommender.ranking_factorization_recommender.create(train, user_id=\"userId\", item_id=\"title\", target = \"rating\")\n",
    "train_model1_results = train_model1.recommend(users=None, k=5)\n",
    "train_model1.save(\"train_model1\")\n",
    "\n",
    "#This first recommender system, \"train_model1\", has an overall RMSE \n",
    "#of 0.984707.Next, we will see how this compares to the second model."
   ]
  },
  {
   "cell_type": "code",
   "execution_count": 51,
   "metadata": {
    "collapsed": false
   },
   "outputs": [
    {
     "data": {
      "text/html": [
       "<pre>Recsys training: model = ranking_factorization_recommender</pre>"
      ],
      "text/plain": [
       "Recsys training: model = ranking_factorization_recommender"
      ]
     },
     "metadata": {},
     "output_type": "display_data"
    },
    {
     "data": {
      "text/html": [
       "<pre>Preparing data set.</pre>"
      ],
      "text/plain": [
       "Preparing data set."
      ]
     },
     "metadata": {},
     "output_type": "display_data"
    },
    {
     "data": {
      "text/html": [
       "<pre>    Data has 39123 observations with 611 users and 1902 items.</pre>"
      ],
      "text/plain": [
       "    Data has 39123 observations with 611 users and 1902 items."
      ]
     },
     "metadata": {},
     "output_type": "display_data"
    },
    {
     "data": {
      "text/html": [
       "<pre>    Data prepared in: 0.274s</pre>"
      ],
      "text/plain": [
       "    Data prepared in: 0.274s"
      ]
     },
     "metadata": {},
     "output_type": "display_data"
    },
    {
     "data": {
      "text/html": [
       "<pre>Training ranking_factorization_recommender for recommendations.</pre>"
      ],
      "text/plain": [
       "Training ranking_factorization_recommender for recommendations."
      ]
     },
     "metadata": {},
     "output_type": "display_data"
    },
    {
     "data": {
      "text/html": [
       "<pre>+--------------------------------+--------------------------------------------------+----------+</pre>"
      ],
      "text/plain": [
       "+--------------------------------+--------------------------------------------------+----------+"
      ]
     },
     "metadata": {},
     "output_type": "display_data"
    },
    {
     "data": {
      "text/html": [
       "<pre>| Parameter                      | Description                                      | Value    |</pre>"
      ],
      "text/plain": [
       "| Parameter                      | Description                                      | Value    |"
      ]
     },
     "metadata": {},
     "output_type": "display_data"
    },
    {
     "data": {
      "text/html": [
       "<pre>+--------------------------------+--------------------------------------------------+----------+</pre>"
      ],
      "text/plain": [
       "+--------------------------------+--------------------------------------------------+----------+"
      ]
     },
     "metadata": {},
     "output_type": "display_data"
    },
    {
     "data": {
      "text/html": [
       "<pre>| num_factors                    | Factor Dimension                                 | 32       |</pre>"
      ],
      "text/plain": [
       "| num_factors                    | Factor Dimension                                 | 32       |"
      ]
     },
     "metadata": {},
     "output_type": "display_data"
    },
    {
     "data": {
      "text/html": [
       "<pre>| regularization                 | L2 Regularization on Factors                     | 1e-009   |</pre>"
      ],
      "text/plain": [
       "| regularization                 | L2 Regularization on Factors                     | 1e-009   |"
      ]
     },
     "metadata": {},
     "output_type": "display_data"
    },
    {
     "data": {
      "text/html": [
       "<pre>| solver                         | Solver used for training                         | adagrad  |</pre>"
      ],
      "text/plain": [
       "| solver                         | Solver used for training                         | adagrad  |"
      ]
     },
     "metadata": {},
     "output_type": "display_data"
    },
    {
     "data": {
      "text/html": [
       "<pre>| linear_regularization          | L2 Regularization on Linear Coefficients         | 1e-009   |</pre>"
      ],
      "text/plain": [
       "| linear_regularization          | L2 Regularization on Linear Coefficients         | 1e-009   |"
      ]
     },
     "metadata": {},
     "output_type": "display_data"
    },
    {
     "data": {
      "text/html": [
       "<pre>| ranking_regularization         | Rank-based Regularization Weight                 | 0.25     |</pre>"
      ],
      "text/plain": [
       "| ranking_regularization         | Rank-based Regularization Weight                 | 0.25     |"
      ]
     },
     "metadata": {},
     "output_type": "display_data"
    },
    {
     "data": {
      "text/html": [
       "<pre>| side_data_factorization        | Assign Factors for Side Data                     | True     |</pre>"
      ],
      "text/plain": [
       "| side_data_factorization        | Assign Factors for Side Data                     | True     |"
      ]
     },
     "metadata": {},
     "output_type": "display_data"
    },
    {
     "data": {
      "text/html": [
       "<pre>| max_iterations                 | Maximum Number of Iterations                     | 25       |</pre>"
      ],
      "text/plain": [
       "| max_iterations                 | Maximum Number of Iterations                     | 25       |"
      ]
     },
     "metadata": {},
     "output_type": "display_data"
    },
    {
     "data": {
      "text/html": [
       "<pre>+--------------------------------+--------------------------------------------------+----------+</pre>"
      ],
      "text/plain": [
       "+--------------------------------+--------------------------------------------------+----------+"
      ]
     },
     "metadata": {},
     "output_type": "display_data"
    },
    {
     "data": {
      "text/html": [
       "<pre>  Optimizing model using SGD; tuning step size.</pre>"
      ],
      "text/plain": [
       "  Optimizing model using SGD; tuning step size."
      ]
     },
     "metadata": {},
     "output_type": "display_data"
    },
    {
     "data": {
      "text/html": [
       "<pre>  Using 10000 / 39123 points for tuning the step size.</pre>"
      ],
      "text/plain": [
       "  Using 10000 / 39123 points for tuning the step size."
      ]
     },
     "metadata": {},
     "output_type": "display_data"
    },
    {
     "data": {
      "text/html": [
       "<pre>+---------+-------------------+------------------------------------------+</pre>"
      ],
      "text/plain": [
       "+---------+-------------------+------------------------------------------+"
      ]
     },
     "metadata": {},
     "output_type": "display_data"
    },
    {
     "data": {
      "text/html": [
       "<pre>| Attempt | Initial Step Size | Estimated Objective Value                |</pre>"
      ],
      "text/plain": [
       "| Attempt | Initial Step Size | Estimated Objective Value                |"
      ]
     },
     "metadata": {},
     "output_type": "display_data"
    },
    {
     "data": {
      "text/html": [
       "<pre>+---------+-------------------+------------------------------------------+</pre>"
      ],
      "text/plain": [
       "+---------+-------------------+------------------------------------------+"
      ]
     },
     "metadata": {},
     "output_type": "display_data"
    },
    {
     "data": {
      "text/html": [
       "<pre>| 0       | 1.31579           | Not Viable                               |</pre>"
      ],
      "text/plain": [
       "| 0       | 1.31579           | Not Viable                               |"
      ]
     },
     "metadata": {},
     "output_type": "display_data"
    },
    {
     "data": {
      "text/html": [
       "<pre>| 1       | 0.328947          | Not Viable                               |</pre>"
      ],
      "text/plain": [
       "| 1       | 0.328947          | Not Viable                               |"
      ]
     },
     "metadata": {},
     "output_type": "display_data"
    },
    {
     "data": {
      "text/html": [
       "<pre>| 2       | 0.0822368         | Not Viable                               |</pre>"
      ],
      "text/plain": [
       "| 2       | 0.0822368         | Not Viable                               |"
      ]
     },
     "metadata": {},
     "output_type": "display_data"
    },
    {
     "data": {
      "text/html": [
       "<pre>| 3       | 0.0205592         | 0.950632                                 |</pre>"
      ],
      "text/plain": [
       "| 3       | 0.0205592         | 0.950632                                 |"
      ]
     },
     "metadata": {},
     "output_type": "display_data"
    },
    {
     "data": {
      "text/html": [
       "<pre>| 4       | 0.0102796         | 1.30528                                  |</pre>"
      ],
      "text/plain": [
       "| 4       | 0.0102796         | 1.30528                                  |"
      ]
     },
     "metadata": {},
     "output_type": "display_data"
    },
    {
     "data": {
      "text/html": [
       "<pre>| 5       | 0.0051398         | 1.59269                                  |</pre>"
      ],
      "text/plain": [
       "| 5       | 0.0051398         | 1.59269                                  |"
      ]
     },
     "metadata": {},
     "output_type": "display_data"
    },
    {
     "data": {
      "text/html": [
       "<pre>| 6       | 0.0025699         | 1.78808                                  |</pre>"
      ],
      "text/plain": [
       "| 6       | 0.0025699         | 1.78808                                  |"
      ]
     },
     "metadata": {},
     "output_type": "display_data"
    },
    {
     "data": {
      "text/html": [
       "<pre>+---------+-------------------+------------------------------------------+</pre>"
      ],
      "text/plain": [
       "+---------+-------------------+------------------------------------------+"
      ]
     },
     "metadata": {},
     "output_type": "display_data"
    },
    {
     "data": {
      "text/html": [
       "<pre>| Final   | 0.0205592         | 0.950632                                 |</pre>"
      ],
      "text/plain": [
       "| Final   | 0.0205592         | 0.950632                                 |"
      ]
     },
     "metadata": {},
     "output_type": "display_data"
    },
    {
     "data": {
      "text/html": [
       "<pre>+---------+-------------------+------------------------------------------+</pre>"
      ],
      "text/plain": [
       "+---------+-------------------+------------------------------------------+"
      ]
     },
     "metadata": {},
     "output_type": "display_data"
    },
    {
     "data": {
      "text/html": [
       "<pre>Starting Optimization.</pre>"
      ],
      "text/plain": [
       "Starting Optimization."
      ]
     },
     "metadata": {},
     "output_type": "display_data"
    },
    {
     "data": {
      "text/html": [
       "<pre>+---------+--------------+-------------------+-----------------------+-------------+</pre>"
      ],
      "text/plain": [
       "+---------+--------------+-------------------+-----------------------+-------------+"
      ]
     },
     "metadata": {},
     "output_type": "display_data"
    },
    {
     "data": {
      "text/html": [
       "<pre>| Iter.   | Elapsed Time | Approx. Objective | Approx. Training RMSE | Step Size   |</pre>"
      ],
      "text/plain": [
       "| Iter.   | Elapsed Time | Approx. Objective | Approx. Training RMSE | Step Size   |"
      ]
     },
     "metadata": {},
     "output_type": "display_data"
    },
    {
     "data": {
      "text/html": [
       "<pre>+---------+--------------+-------------------+-----------------------+-------------+</pre>"
      ],
      "text/plain": [
       "+---------+--------------+-------------------+-----------------------+-------------+"
      ]
     },
     "metadata": {},
     "output_type": "display_data"
    },
    {
     "data": {
      "text/html": [
       "<pre>| Initial | 0us          | 2.02764           | 1.01688               |             |</pre>"
      ],
      "text/plain": [
       "| Initial | 0us          | 2.02764           | 1.01688               |             |"
      ]
     },
     "metadata": {},
     "output_type": "display_data"
    },
    {
     "data": {
      "text/html": [
       "<pre>+---------+--------------+-------------------+-----------------------+-------------+</pre>"
      ],
      "text/plain": [
       "+---------+--------------+-------------------+-----------------------+-------------+"
      ]
     },
     "metadata": {},
     "output_type": "display_data"
    },
    {
     "data": {
      "text/html": [
       "<pre>| 1       | 334ms        | 1.55992           | 0.983706              | 0.0205592   |</pre>"
      ],
      "text/plain": [
       "| 1       | 334ms        | 1.55992           | 0.983706              | 0.0205592   |"
      ]
     },
     "metadata": {},
     "output_type": "display_data"
    },
    {
     "data": {
      "text/html": [
       "<pre>| 2       | 687ms        | 1.22374           | 0.908463              | 0.0205592   |</pre>"
      ],
      "text/plain": [
       "| 2       | 687ms        | 1.22374           | 0.908463              | 0.0205592   |"
      ]
     },
     "metadata": {},
     "output_type": "display_data"
    },
    {
     "data": {
      "text/html": [
       "<pre>| 3       | 1.09s        | 1.06855           | 0.873671              | 0.0205592   |</pre>"
      ],
      "text/plain": [
       "| 3       | 1.09s        | 1.06855           | 0.873671              | 0.0205592   |"
      ]
     },
     "metadata": {},
     "output_type": "display_data"
    },
    {
     "data": {
      "text/html": [
       "<pre>| 4       | 1.42s        | 0.96842           | 0.849651              | 0.0205592   |</pre>"
      ],
      "text/plain": [
       "| 4       | 1.42s        | 0.96842           | 0.849651              | 0.0205592   |"
      ]
     },
     "metadata": {},
     "output_type": "display_data"
    },
    {
     "data": {
      "text/html": [
       "<pre>| 5       | 1.80s        | 0.903009          | 0.831801              | 0.0205592   |</pre>"
      ],
      "text/plain": [
       "| 5       | 1.80s        | 0.903009          | 0.831801              | 0.0205592   |"
      ]
     },
     "metadata": {},
     "output_type": "display_data"
    },
    {
     "data": {
      "text/html": [
       "<pre>| 6       | 2.08s        | 0.855516          | 0.820041              | 0.0205592   |</pre>"
      ],
      "text/plain": [
       "| 6       | 2.08s        | 0.855516          | 0.820041              | 0.0205592   |"
      ]
     },
     "metadata": {},
     "output_type": "display_data"
    },
    {
     "data": {
      "text/html": [
       "<pre>| 10      | 3.25s        | 0.748748          | 0.787123              | 0.0205592   |</pre>"
      ],
      "text/plain": [
       "| 10      | 3.25s        | 0.748748          | 0.787123              | 0.0205592   |"
      ]
     },
     "metadata": {},
     "output_type": "display_data"
    },
    {
     "data": {
      "text/html": [
       "<pre>| 11      | 3.50s        | 0.732178          | 0.781201              | 0.0205592   |</pre>"
      ],
      "text/plain": [
       "| 11      | 3.50s        | 0.732178          | 0.781201              | 0.0205592   |"
      ]
     },
     "metadata": {},
     "output_type": "display_data"
    },
    {
     "data": {
      "text/html": [
       "<pre>| 15      | 4.61s        | 0.686398          | 0.764352              | 0.0205592   |</pre>"
      ],
      "text/plain": [
       "| 15      | 4.61s        | 0.686398          | 0.764352              | 0.0205592   |"
      ]
     },
     "metadata": {},
     "output_type": "display_data"
    },
    {
     "data": {
      "text/html": [
       "<pre>| 20      | 5.64s        | 0.649498          | 0.749584              | 0.0205592   |</pre>"
      ],
      "text/plain": [
       "| 20      | 5.64s        | 0.649498          | 0.749584              | 0.0205592   |"
      ]
     },
     "metadata": {},
     "output_type": "display_data"
    },
    {
     "data": {
      "text/html": [
       "<pre>| 25      | 6.73s        | 0.628753          | 0.7394                | 0.0205592   |</pre>"
      ],
      "text/plain": [
       "| 25      | 6.73s        | 0.628753          | 0.7394                | 0.0205592   |"
      ]
     },
     "metadata": {},
     "output_type": "display_data"
    },
    {
     "data": {
      "text/html": [
       "<pre>+---------+--------------+-------------------+-----------------------+-------------+</pre>"
      ],
      "text/plain": [
       "+---------+--------------+-------------------+-----------------------+-------------+"
      ]
     },
     "metadata": {},
     "output_type": "display_data"
    },
    {
     "data": {
      "text/html": [
       "<pre>Optimization Complete: Maximum number of passes through the data reached.</pre>"
      ],
      "text/plain": [
       "Optimization Complete: Maximum number of passes through the data reached."
      ]
     },
     "metadata": {},
     "output_type": "display_data"
    },
    {
     "data": {
      "text/html": [
       "<pre>Computing final objective value and training RMSE.</pre>"
      ],
      "text/plain": [
       "Computing final objective value and training RMSE."
      ]
     },
     "metadata": {},
     "output_type": "display_data"
    },
    {
     "data": {
      "text/html": [
       "<pre>       Final objective value: 0.61277</pre>"
      ],
      "text/plain": [
       "       Final objective value: 0.61277"
      ]
     },
     "metadata": {},
     "output_type": "display_data"
    },
    {
     "data": {
      "text/html": [
       "<pre>       Final training RMSE: 0.729079</pre>"
      ],
      "text/plain": [
       "       Final training RMSE: 0.729079"
      ]
     },
     "metadata": {},
     "output_type": "display_data"
    }
   ],
   "source": [
    "#Second, we train the second model with the supplementary item data.\n",
    "\n",
    "\n",
    "#to test with graphlab user splits\n",
    "#make first training model - user-item collaborative-filtering\n",
    "#recommender system.\n",
    "#We use 32 latent factors for this recommender system.\n",
    "train_model2 = gl.recommender.ranking_factorization_recommender.create(train, user_id=\"userId\", item_id=\"title\", \n",
    "                                                                       item_data=train_side_info, target=\"rating\")\n",
    "train_model2_results = train_model2.recommend(users=None, k=5)\n",
    "train_model2.save(\"train_model2\")\n",
    "\n",
    "#This second recommender system, \"train_model2\", has an overall RMSE \n",
    "#of 0.729079. Therefore, on the training data, train_model2 performs \n",
    "#better than train_model1. However, this performance only shows how \n",
    "#well each recommender system fits to the training data. To truly \n",
    "#evaluate and compare model performance, we need to see how each \n",
    "#recommender system generalizes to the test data set."
   ]
  },
  {
   "cell_type": "markdown",
   "metadata": {},
   "source": [
    "<a id=\"eval\"></a>\n",
    "\n",
    "### Modeling and Evaluation 2: Evaluate and Compare\n",
    "** To begin the evaluation and comparison of recommender system 1 and 2, we first review the training results. These results will provide initial comparisons between the two recommender systems prior to running them on the test data. **"
   ]
  },
  {
   "cell_type": "code",
   "execution_count": 52,
   "metadata": {
    "collapsed": false
   },
   "outputs": [
    {
     "data": {
      "text/html": [
       "<div style=\"max-height:1000px;max-width:1500px;overflow:auto;\"><table frame=\"box\" rules=\"cols\">\n",
       "    <tr>\n",
       "        <th style=\"padding-left: 1em; padding-right: 1em; text-align: center\">userId</th>\n",
       "        <th style=\"padding-left: 1em; padding-right: 1em; text-align: center\">title</th>\n",
       "        <th style=\"padding-left: 1em; padding-right: 1em; text-align: center\">score</th>\n",
       "        <th style=\"padding-left: 1em; padding-right: 1em; text-align: center\">rank</th>\n",
       "    </tr>\n",
       "    <tr>\n",
       "        <td style=\"padding-left: 1em; padding-right: 1em; text-align: center; vertical-align: top\">1</td>\n",
       "        <td style=\"padding-left: 1em; padding-right: 1em; text-align: center; vertical-align: top\">Star Wars: Episode IV - A<br>New Hope ...</td>\n",
       "        <td style=\"padding-left: 1em; padding-right: 1em; text-align: center; vertical-align: top\">3.9992292173</td>\n",
       "        <td style=\"padding-left: 1em; padding-right: 1em; text-align: center; vertical-align: top\">1</td>\n",
       "    </tr>\n",
       "    <tr>\n",
       "        <td style=\"padding-left: 1em; padding-right: 1em; text-align: center; vertical-align: top\">1</td>\n",
       "        <td style=\"padding-left: 1em; padding-right: 1em; text-align: center; vertical-align: top\">Shawshank Redemption, The</td>\n",
       "        <td style=\"padding-left: 1em; padding-right: 1em; text-align: center; vertical-align: top\">3.89861820114</td>\n",
       "        <td style=\"padding-left: 1em; padding-right: 1em; text-align: center; vertical-align: top\">2</td>\n",
       "    </tr>\n",
       "    <tr>\n",
       "        <td style=\"padding-left: 1em; padding-right: 1em; text-align: center; vertical-align: top\">1</td>\n",
       "        <td style=\"padding-left: 1em; padding-right: 1em; text-align: center; vertical-align: top\">American Beauty</td>\n",
       "        <td style=\"padding-left: 1em; padding-right: 1em; text-align: center; vertical-align: top\">3.82786665333</td>\n",
       "        <td style=\"padding-left: 1em; padding-right: 1em; text-align: center; vertical-align: top\">3</td>\n",
       "    </tr>\n",
       "    <tr>\n",
       "        <td style=\"padding-left: 1em; padding-right: 1em; text-align: center; vertical-align: top\">1</td>\n",
       "        <td style=\"padding-left: 1em; padding-right: 1em; text-align: center; vertical-align: top\">Forrest Gump</td>\n",
       "        <td style=\"padding-left: 1em; padding-right: 1em; text-align: center; vertical-align: top\">3.81863395346</td>\n",
       "        <td style=\"padding-left: 1em; padding-right: 1em; text-align: center; vertical-align: top\">4</td>\n",
       "    </tr>\n",
       "    <tr>\n",
       "        <td style=\"padding-left: 1em; padding-right: 1em; text-align: center; vertical-align: top\">1</td>\n",
       "        <td style=\"padding-left: 1em; padding-right: 1em; text-align: center; vertical-align: top\">Silence of the Lambs, The</td>\n",
       "        <td style=\"padding-left: 1em; padding-right: 1em; text-align: center; vertical-align: top\">3.73630734754</td>\n",
       "        <td style=\"padding-left: 1em; padding-right: 1em; text-align: center; vertical-align: top\">5</td>\n",
       "    </tr>\n",
       "    <tr>\n",
       "        <td style=\"padding-left: 1em; padding-right: 1em; text-align: center; vertical-align: top\">7</td>\n",
       "        <td style=\"padding-left: 1em; padding-right: 1em; text-align: center; vertical-align: top\">American Beauty</td>\n",
       "        <td style=\"padding-left: 1em; padding-right: 1em; text-align: center; vertical-align: top\">4.50366387737</td>\n",
       "        <td style=\"padding-left: 1em; padding-right: 1em; text-align: center; vertical-align: top\">1</td>\n",
       "    </tr>\n",
       "    <tr>\n",
       "        <td style=\"padding-left: 1em; padding-right: 1em; text-align: center; vertical-align: top\">7</td>\n",
       "        <td style=\"padding-left: 1em; padding-right: 1em; text-align: center; vertical-align: top\">Lord of the Rings: The<br>Fellowship of the Ring, ...</td>\n",
       "        <td style=\"padding-left: 1em; padding-right: 1em; text-align: center; vertical-align: top\">4.31567129714</td>\n",
       "        <td style=\"padding-left: 1em; padding-right: 1em; text-align: center; vertical-align: top\">2</td>\n",
       "    </tr>\n",
       "    <tr>\n",
       "        <td style=\"padding-left: 1em; padding-right: 1em; text-align: center; vertical-align: top\">7</td>\n",
       "        <td style=\"padding-left: 1em; padding-right: 1em; text-align: center; vertical-align: top\">Schindler's List</td>\n",
       "        <td style=\"padding-left: 1em; padding-right: 1em; text-align: center; vertical-align: top\">4.25173303706</td>\n",
       "        <td style=\"padding-left: 1em; padding-right: 1em; text-align: center; vertical-align: top\">3</td>\n",
       "    </tr>\n",
       "    <tr>\n",
       "        <td style=\"padding-left: 1em; padding-right: 1em; text-align: center; vertical-align: top\">7</td>\n",
       "        <td style=\"padding-left: 1em; padding-right: 1em; text-align: center; vertical-align: top\">Silence of the Lambs, The</td>\n",
       "        <td style=\"padding-left: 1em; padding-right: 1em; text-align: center; vertical-align: top\">4.23375702871</td>\n",
       "        <td style=\"padding-left: 1em; padding-right: 1em; text-align: center; vertical-align: top\">4</td>\n",
       "    </tr>\n",
       "    <tr>\n",
       "        <td style=\"padding-left: 1em; padding-right: 1em; text-align: center; vertical-align: top\">7</td>\n",
       "        <td style=\"padding-left: 1em; padding-right: 1em; text-align: center; vertical-align: top\">Sixth Sense, The</td>\n",
       "        <td style=\"padding-left: 1em; padding-right: 1em; text-align: center; vertical-align: top\">4.22057827038</td>\n",
       "        <td style=\"padding-left: 1em; padding-right: 1em; text-align: center; vertical-align: top\">5</td>\n",
       "    </tr>\n",
       "</table>\n",
       "[3055 rows x 4 columns]<br/>Note: Only the head of the SFrame is printed.<br/>You can use print_rows(num_rows=m, num_columns=n) to print more rows and columns.\n",
       "</div>"
      ],
      "text/plain": [
       "Columns:\n",
       "\tuserId\tint\n",
       "\ttitle\tstr\n",
       "\tscore\tfloat\n",
       "\trank\tint\n",
       "\n",
       "Rows: 3055\n",
       "\n",
       "Data:\n",
       "+--------+-------------------------------+---------------+------+\n",
       "| userId |             title             |     score     | rank |\n",
       "+--------+-------------------------------+---------------+------+\n",
       "|   1    | Star Wars: Episode IV - A ... |  3.9992292173 |  1   |\n",
       "|   1    |   Shawshank Redemption, The   | 3.89861820114 |  2   |\n",
       "|   1    |        American Beauty        | 3.82786665333 |  3   |\n",
       "|   1    |          Forrest Gump         | 3.81863395346 |  4   |\n",
       "|   1    |   Silence of the Lambs, The   | 3.73630734754 |  5   |\n",
       "|   7    |        American Beauty        | 4.50366387737 |  1   |\n",
       "|   7    | Lord of the Rings: The Fel... | 4.31567129714 |  2   |\n",
       "|   7    |        Schindler's List       | 4.25173303706 |  3   |\n",
       "|   7    |   Silence of the Lambs, The   | 4.23375702871 |  4   |\n",
       "|   7    |        Sixth Sense, The       | 4.22057827038 |  5   |\n",
       "+--------+-------------------------------+---------------+------+\n",
       "[3055 rows x 4 columns]\n",
       "Note: Only the head of the SFrame is printed.\n",
       "You can use print_rows(num_rows=m, num_columns=n) to print more rows and columns."
      ]
     },
     "execution_count": 52,
     "metadata": {},
     "output_type": "execute_result"
    }
   ],
   "source": [
    "#For train_model1, we explore a subset of what the results look \n",
    "#like for the first recommender system.\n",
    "\n",
    "train_model1_results \n",
    "\n",
    "#We see below the top 5 recommendations for two users in the training\n",
    "#data. Their userId is provided, along with movies recommended, the\n",
    "#overall score of the movies (based on average reviews), and last,\n",
    "#the ranking of these top 5 movie recommendations for the user."
   ]
  },
  {
   "cell_type": "code",
   "execution_count": 53,
   "metadata": {
    "collapsed": false
   },
   "outputs": [
    {
     "data": {
      "text/html": [
       "<div style=\"max-height:1000px;max-width:1500px;overflow:auto;\"><table frame=\"box\" rules=\"cols\">\n",
       "    <tr>\n",
       "        <th style=\"padding-left: 1em; padding-right: 1em; text-align: center\">userId</th>\n",
       "        <th style=\"padding-left: 1em; padding-right: 1em; text-align: center\">title</th>\n",
       "        <th style=\"padding-left: 1em; padding-right: 1em; text-align: center\">score</th>\n",
       "        <th style=\"padding-left: 1em; padding-right: 1em; text-align: center\">rank</th>\n",
       "    </tr>\n",
       "    <tr>\n",
       "        <td style=\"padding-left: 1em; padding-right: 1em; text-align: center; vertical-align: top\">1</td>\n",
       "        <td style=\"padding-left: 1em; padding-right: 1em; text-align: center; vertical-align: top\">Star Wars: Episode V -<br>The Empire Strikes Back ...</td>\n",
       "        <td style=\"padding-left: 1em; padding-right: 1em; text-align: center; vertical-align: top\">3.77180702593</td>\n",
       "        <td style=\"padding-left: 1em; padding-right: 1em; text-align: center; vertical-align: top\">1</td>\n",
       "    </tr>\n",
       "    <tr>\n",
       "        <td style=\"padding-left: 1em; padding-right: 1em; text-align: center; vertical-align: top\">1</td>\n",
       "        <td style=\"padding-left: 1em; padding-right: 1em; text-align: center; vertical-align: top\">Gladiator</td>\n",
       "        <td style=\"padding-left: 1em; padding-right: 1em; text-align: center; vertical-align: top\">3.62052062251</td>\n",
       "        <td style=\"padding-left: 1em; padding-right: 1em; text-align: center; vertical-align: top\">2</td>\n",
       "    </tr>\n",
       "    <tr>\n",
       "        <td style=\"padding-left: 1em; padding-right: 1em; text-align: center; vertical-align: top\">1</td>\n",
       "        <td style=\"padding-left: 1em; padding-right: 1em; text-align: center; vertical-align: top\">Godfather, The</td>\n",
       "        <td style=\"padding-left: 1em; padding-right: 1em; text-align: center; vertical-align: top\">3.61304121115</td>\n",
       "        <td style=\"padding-left: 1em; padding-right: 1em; text-align: center; vertical-align: top\">3</td>\n",
       "    </tr>\n",
       "    <tr>\n",
       "        <td style=\"padding-left: 1em; padding-right: 1em; text-align: center; vertical-align: top\">1</td>\n",
       "        <td style=\"padding-left: 1em; padding-right: 1em; text-align: center; vertical-align: top\">Lord of the Rings: The<br>Fellowship of the Ring, ...</td>\n",
       "        <td style=\"padding-left: 1em; padding-right: 1em; text-align: center; vertical-align: top\">3.55501683565</td>\n",
       "        <td style=\"padding-left: 1em; padding-right: 1em; text-align: center; vertical-align: top\">4</td>\n",
       "    </tr>\n",
       "    <tr>\n",
       "        <td style=\"padding-left: 1em; padding-right: 1em; text-align: center; vertical-align: top\">1</td>\n",
       "        <td style=\"padding-left: 1em; padding-right: 1em; text-align: center; vertical-align: top\">Shrek</td>\n",
       "        <td style=\"padding-left: 1em; padding-right: 1em; text-align: center; vertical-align: top\">3.49306903621</td>\n",
       "        <td style=\"padding-left: 1em; padding-right: 1em; text-align: center; vertical-align: top\">5</td>\n",
       "    </tr>\n",
       "    <tr>\n",
       "        <td style=\"padding-left: 1em; padding-right: 1em; text-align: center; vertical-align: top\">7</td>\n",
       "        <td style=\"padding-left: 1em; padding-right: 1em; text-align: center; vertical-align: top\">Lord of the Rings: The<br>Fellowship of the Ring, ...</td>\n",
       "        <td style=\"padding-left: 1em; padding-right: 1em; text-align: center; vertical-align: top\">3.91611138439</td>\n",
       "        <td style=\"padding-left: 1em; padding-right: 1em; text-align: center; vertical-align: top\">1</td>\n",
       "    </tr>\n",
       "    <tr>\n",
       "        <td style=\"padding-left: 1em; padding-right: 1em; text-align: center; vertical-align: top\">7</td>\n",
       "        <td style=\"padding-left: 1em; padding-right: 1em; text-align: center; vertical-align: top\">Star Wars: Episode V -<br>The Empire Strikes Back ...</td>\n",
       "        <td style=\"padding-left: 1em; padding-right: 1em; text-align: center; vertical-align: top\">3.72142521785</td>\n",
       "        <td style=\"padding-left: 1em; padding-right: 1em; text-align: center; vertical-align: top\">2</td>\n",
       "    </tr>\n",
       "    <tr>\n",
       "        <td style=\"padding-left: 1em; padding-right: 1em; text-align: center; vertical-align: top\">7</td>\n",
       "        <td style=\"padding-left: 1em; padding-right: 1em; text-align: center; vertical-align: top\">Matrix, The</td>\n",
       "        <td style=\"padding-left: 1em; padding-right: 1em; text-align: center; vertical-align: top\">3.60624966987</td>\n",
       "        <td style=\"padding-left: 1em; padding-right: 1em; text-align: center; vertical-align: top\">3</td>\n",
       "    </tr>\n",
       "    <tr>\n",
       "        <td style=\"padding-left: 1em; padding-right: 1em; text-align: center; vertical-align: top\">7</td>\n",
       "        <td style=\"padding-left: 1em; padding-right: 1em; text-align: center; vertical-align: top\">Lord of the Rings: The<br>Two Towers, The ...</td>\n",
       "        <td style=\"padding-left: 1em; padding-right: 1em; text-align: center; vertical-align: top\">3.58106133911</td>\n",
       "        <td style=\"padding-left: 1em; padding-right: 1em; text-align: center; vertical-align: top\">4</td>\n",
       "    </tr>\n",
       "    <tr>\n",
       "        <td style=\"padding-left: 1em; padding-right: 1em; text-align: center; vertical-align: top\">7</td>\n",
       "        <td style=\"padding-left: 1em; padding-right: 1em; text-align: center; vertical-align: top\">Gladiator</td>\n",
       "        <td style=\"padding-left: 1em; padding-right: 1em; text-align: center; vertical-align: top\">3.55674092825</td>\n",
       "        <td style=\"padding-left: 1em; padding-right: 1em; text-align: center; vertical-align: top\">5</td>\n",
       "    </tr>\n",
       "</table>\n",
       "[3055 rows x 4 columns]<br/>Note: Only the head of the SFrame is printed.<br/>You can use print_rows(num_rows=m, num_columns=n) to print more rows and columns.\n",
       "</div>"
      ],
      "text/plain": [
       "Columns:\n",
       "\tuserId\tint\n",
       "\ttitle\tstr\n",
       "\tscore\tfloat\n",
       "\trank\tint\n",
       "\n",
       "Rows: 3055\n",
       "\n",
       "Data:\n",
       "+--------+-------------------------------+---------------+------+\n",
       "| userId |             title             |     score     | rank |\n",
       "+--------+-------------------------------+---------------+------+\n",
       "|   1    | Star Wars: Episode V - The... | 3.77180702593 |  1   |\n",
       "|   1    |           Gladiator           | 3.62052062251 |  2   |\n",
       "|   1    |         Godfather, The        | 3.61304121115 |  3   |\n",
       "|   1    | Lord of the Rings: The Fel... | 3.55501683565 |  4   |\n",
       "|   1    |             Shrek             | 3.49306903621 |  5   |\n",
       "|   7    | Lord of the Rings: The Fel... | 3.91611138439 |  1   |\n",
       "|   7    | Star Wars: Episode V - The... | 3.72142521785 |  2   |\n",
       "|   7    |          Matrix, The          | 3.60624966987 |  3   |\n",
       "|   7    | Lord of the Rings: The Two... | 3.58106133911 |  4   |\n",
       "|   7    |           Gladiator           | 3.55674092825 |  5   |\n",
       "+--------+-------------------------------+---------------+------+\n",
       "[3055 rows x 4 columns]\n",
       "Note: Only the head of the SFrame is printed.\n",
       "You can use print_rows(num_rows=m, num_columns=n) to print more rows and columns."
      ]
     },
     "execution_count": 53,
     "metadata": {},
     "output_type": "execute_result"
    }
   ],
   "source": [
    "#For train_model2, we explore a subset of what the results look \n",
    "#like for the second recommender system.\n",
    "\n",
    "train_model2_results\n",
    "\n",
    "#As before, we have the same two user's movie recommendations in the\n",
    "#training data set. However, these movies are slightly different.\n",
    "#By adding the genre and year information as supplementary item data,\n",
    "#the recommendations have changed for the two users."
   ]
  },
  {
   "cell_type": "code",
   "execution_count": 54,
   "metadata": {
    "collapsed": false
   },
   "outputs": [
    {
     "data": {
      "text/html": [
       "<div style=\"max-height:1000px;max-width:1500px;overflow:auto;\"><table frame=\"box\" rules=\"cols\">\n",
       "    <tr>\n",
       "        <th style=\"padding-left: 1em; padding-right: 1em; text-align: center\">userId</th>\n",
       "        <th style=\"padding-left: 1em; padding-right: 1em; text-align: center\">title</th>\n",
       "        <th style=\"padding-left: 1em; padding-right: 1em; text-align: center\">score</th>\n",
       "        <th style=\"padding-left: 1em; padding-right: 1em; text-align: center\">rank</th>\n",
       "    </tr>\n",
       "    <tr>\n",
       "        <td style=\"padding-left: 1em; padding-right: 1em; text-align: center; vertical-align: top\">5</td>\n",
       "        <td style=\"padding-left: 1em; padding-right: 1em; text-align: center; vertical-align: top\">Star Wars: Episode IV - A<br>New Hope ...</td>\n",
       "        <td style=\"padding-left: 1em; padding-right: 1em; text-align: center; vertical-align: top\">4.81436828</td>\n",
       "        <td style=\"padding-left: 1em; padding-right: 1em; text-align: center; vertical-align: top\">1</td>\n",
       "    </tr>\n",
       "    <tr>\n",
       "        <td style=\"padding-left: 1em; padding-right: 1em; text-align: center; vertical-align: top\">5</td>\n",
       "        <td style=\"padding-left: 1em; padding-right: 1em; text-align: center; vertical-align: top\">American Beauty</td>\n",
       "        <td style=\"padding-left: 1em; padding-right: 1em; text-align: center; vertical-align: top\">4.78214279038</td>\n",
       "        <td style=\"padding-left: 1em; padding-right: 1em; text-align: center; vertical-align: top\">2</td>\n",
       "    </tr>\n",
       "    <tr>\n",
       "        <td style=\"padding-left: 1em; padding-right: 1em; text-align: center; vertical-align: top\">5</td>\n",
       "        <td style=\"padding-left: 1em; padding-right: 1em; text-align: center; vertical-align: top\">Matrix, The</td>\n",
       "        <td style=\"padding-left: 1em; padding-right: 1em; text-align: center; vertical-align: top\">4.67363386077</td>\n",
       "        <td style=\"padding-left: 1em; padding-right: 1em; text-align: center; vertical-align: top\">3</td>\n",
       "    </tr>\n",
       "    <tr>\n",
       "        <td style=\"padding-left: 1em; padding-right: 1em; text-align: center; vertical-align: top\">5</td>\n",
       "        <td style=\"padding-left: 1em; padding-right: 1em; text-align: center; vertical-align: top\">Star Wars: Episode V -<br>The Empire Strikes Back ...</td>\n",
       "        <td style=\"padding-left: 1em; padding-right: 1em; text-align: center; vertical-align: top\">4.66769959254</td>\n",
       "        <td style=\"padding-left: 1em; padding-right: 1em; text-align: center; vertical-align: top\">4</td>\n",
       "    </tr>\n",
       "    <tr>\n",
       "        <td style=\"padding-left: 1em; padding-right: 1em; text-align: center; vertical-align: top\">5</td>\n",
       "        <td style=\"padding-left: 1em; padding-right: 1em; text-align: center; vertical-align: top\">Terminator 2: Judgment<br>Day ...</td>\n",
       "        <td style=\"padding-left: 1em; padding-right: 1em; text-align: center; vertical-align: top\">4.60149345023</td>\n",
       "        <td style=\"padding-left: 1em; padding-right: 1em; text-align: center; vertical-align: top\">5</td>\n",
       "    </tr>\n",
       "    <tr>\n",
       "        <td style=\"padding-left: 1em; padding-right: 1em; text-align: center; vertical-align: top\">5</td>\n",
       "        <td style=\"padding-left: 1em; padding-right: 1em; text-align: center; vertical-align: top\">Forrest Gump</td>\n",
       "        <td style=\"padding-left: 1em; padding-right: 1em; text-align: center; vertical-align: top\">4.60041238589</td>\n",
       "        <td style=\"padding-left: 1em; padding-right: 1em; text-align: center; vertical-align: top\">6</td>\n",
       "    </tr>\n",
       "    <tr>\n",
       "        <td style=\"padding-left: 1em; padding-right: 1em; text-align: center; vertical-align: top\">5</td>\n",
       "        <td style=\"padding-left: 1em; padding-right: 1em; text-align: center; vertical-align: top\">Indiana Jones and the<br>Last Crusade ...</td>\n",
       "        <td style=\"padding-left: 1em; padding-right: 1em; text-align: center; vertical-align: top\">4.58474807662</td>\n",
       "        <td style=\"padding-left: 1em; padding-right: 1em; text-align: center; vertical-align: top\">7</td>\n",
       "    </tr>\n",
       "    <tr>\n",
       "        <td style=\"padding-left: 1em; padding-right: 1em; text-align: center; vertical-align: top\">5</td>\n",
       "        <td style=\"padding-left: 1em; padding-right: 1em; text-align: center; vertical-align: top\">Back to the Future</td>\n",
       "        <td style=\"padding-left: 1em; padding-right: 1em; text-align: center; vertical-align: top\">4.55486768705</td>\n",
       "        <td style=\"padding-left: 1em; padding-right: 1em; text-align: center; vertical-align: top\">8</td>\n",
       "    </tr>\n",
       "    <tr>\n",
       "        <td style=\"padding-left: 1em; padding-right: 1em; text-align: center; vertical-align: top\">5</td>\n",
       "        <td style=\"padding-left: 1em; padding-right: 1em; text-align: center; vertical-align: top\">Silence of the Lambs, The</td>\n",
       "        <td style=\"padding-left: 1em; padding-right: 1em; text-align: center; vertical-align: top\">4.55340290291</td>\n",
       "        <td style=\"padding-left: 1em; padding-right: 1em; text-align: center; vertical-align: top\">9</td>\n",
       "    </tr>\n",
       "    <tr>\n",
       "        <td style=\"padding-left: 1em; padding-right: 1em; text-align: center; vertical-align: top\">5</td>\n",
       "        <td style=\"padding-left: 1em; padding-right: 1em; text-align: center; vertical-align: top\">Shawshank Redemption, The</td>\n",
       "        <td style=\"padding-left: 1em; padding-right: 1em; text-align: center; vertical-align: top\">4.53126843495</td>\n",
       "        <td style=\"padding-left: 1em; padding-right: 1em; text-align: center; vertical-align: top\">10</td>\n",
       "    </tr>\n",
       "</table>\n",
       "[10 rows x 4 columns]<br/>\n",
       "</div>"
      ],
      "text/plain": [
       "Columns:\n",
       "\tuserId\tint\n",
       "\ttitle\tstr\n",
       "\tscore\tfloat\n",
       "\trank\tint\n",
       "\n",
       "Rows: 10\n",
       "\n",
       "Data:\n",
       "+--------+-------------------------------+---------------+------+\n",
       "| userId |             title             |     score     | rank |\n",
       "+--------+-------------------------------+---------------+------+\n",
       "|   5    | Star Wars: Episode IV - A ... |   4.81436828  |  1   |\n",
       "|   5    |        American Beauty        | 4.78214279038 |  2   |\n",
       "|   5    |          Matrix, The          | 4.67363386077 |  3   |\n",
       "|   5    | Star Wars: Episode V - The... | 4.66769959254 |  4   |\n",
       "|   5    |   Terminator 2: Judgment Day  | 4.60149345023 |  5   |\n",
       "|   5    |          Forrest Gump         | 4.60041238589 |  6   |\n",
       "|   5    | Indiana Jones and the Last... | 4.58474807662 |  7   |\n",
       "|   5    |       Back to the Future      | 4.55486768705 |  8   |\n",
       "|   5    |   Silence of the Lambs, The   | 4.55340290291 |  9   |\n",
       "|   5    |   Shawshank Redemption, The   | 4.53126843495 |  10  |\n",
       "+--------+-------------------------------+---------------+------+\n",
       "[10 rows x 4 columns]"
      ]
     },
     "execution_count": 54,
     "metadata": {},
     "output_type": "execute_result"
    }
   ],
   "source": [
    "# To take this comparison of the two recommendations one step further,\n",
    "# below we show how the recommender systems can show movie \n",
    "# recommendations for individual users. These users can be manually\n",
    "# selected, to provide targeted recommendations. This serves as a \n",
    "# proof of concept for our final recommendations on the test data set.\n",
    "\n",
    "#generate recommendations for 1 user, user 5 with model 1 using training data\n",
    "user5recommendations_model1 = train_model1.recommend(users=[\"5\"])\n",
    "user5recommendations_model1\n",
    "\n",
    "#Now, we can generate 10 recommendations for a chosen user. This\n",
    "#will hopefully keep the user occupied until we get more rating \n",
    "#feedback data from them to update their recommendations later."
   ]
  },
  {
   "cell_type": "code",
   "execution_count": 55,
   "metadata": {
    "collapsed": false
   },
   "outputs": [
    {
     "data": {
      "text/html": [
       "<div style=\"max-height:1000px;max-width:1500px;overflow:auto;\"><table frame=\"box\" rules=\"cols\">\n",
       "    <tr>\n",
       "        <th style=\"padding-left: 1em; padding-right: 1em; text-align: center\">userId</th>\n",
       "        <th style=\"padding-left: 1em; padding-right: 1em; text-align: center\">title</th>\n",
       "        <th style=\"padding-left: 1em; padding-right: 1em; text-align: center\">score</th>\n",
       "        <th style=\"padding-left: 1em; padding-right: 1em; text-align: center\">rank</th>\n",
       "    </tr>\n",
       "    <tr>\n",
       "        <td style=\"padding-left: 1em; padding-right: 1em; text-align: center; vertical-align: top\">5</td>\n",
       "        <td style=\"padding-left: 1em; padding-right: 1em; text-align: center; vertical-align: top\">Shawshank Redemption, The</td>\n",
       "        <td style=\"padding-left: 1em; padding-right: 1em; text-align: center; vertical-align: top\">3.93719007268</td>\n",
       "        <td style=\"padding-left: 1em; padding-right: 1em; text-align: center; vertical-align: top\">1</td>\n",
       "    </tr>\n",
       "    <tr>\n",
       "        <td style=\"padding-left: 1em; padding-right: 1em; text-align: center; vertical-align: top\">5</td>\n",
       "        <td style=\"padding-left: 1em; padding-right: 1em; text-align: center; vertical-align: top\">Pulp Fiction</td>\n",
       "        <td style=\"padding-left: 1em; padding-right: 1em; text-align: center; vertical-align: top\">3.85036911168</td>\n",
       "        <td style=\"padding-left: 1em; padding-right: 1em; text-align: center; vertical-align: top\">2</td>\n",
       "    </tr>\n",
       "    <tr>\n",
       "        <td style=\"padding-left: 1em; padding-right: 1em; text-align: center; vertical-align: top\">5</td>\n",
       "        <td style=\"padding-left: 1em; padding-right: 1em; text-align: center; vertical-align: top\">Star Wars: Episode V -<br>The Empire Strikes Back ...</td>\n",
       "        <td style=\"padding-left: 1em; padding-right: 1em; text-align: center; vertical-align: top\">3.8346573655</td>\n",
       "        <td style=\"padding-left: 1em; padding-right: 1em; text-align: center; vertical-align: top\">3</td>\n",
       "    </tr>\n",
       "    <tr>\n",
       "        <td style=\"padding-left: 1em; padding-right: 1em; text-align: center; vertical-align: top\">5</td>\n",
       "        <td style=\"padding-left: 1em; padding-right: 1em; text-align: center; vertical-align: top\">Star Wars: Episode IV - A<br>New Hope ...</td>\n",
       "        <td style=\"padding-left: 1em; padding-right: 1em; text-align: center; vertical-align: top\">3.74300852958</td>\n",
       "        <td style=\"padding-left: 1em; padding-right: 1em; text-align: center; vertical-align: top\">4</td>\n",
       "    </tr>\n",
       "    <tr>\n",
       "        <td style=\"padding-left: 1em; padding-right: 1em; text-align: center; vertical-align: top\">5</td>\n",
       "        <td style=\"padding-left: 1em; padding-right: 1em; text-align: center; vertical-align: top\">Star Wars: Episode VI -<br>Return of the Jedi ...</td>\n",
       "        <td style=\"padding-left: 1em; padding-right: 1em; text-align: center; vertical-align: top\">3.70701998477</td>\n",
       "        <td style=\"padding-left: 1em; padding-right: 1em; text-align: center; vertical-align: top\">5</td>\n",
       "    </tr>\n",
       "    <tr>\n",
       "        <td style=\"padding-left: 1em; padding-right: 1em; text-align: center; vertical-align: top\">5</td>\n",
       "        <td style=\"padding-left: 1em; padding-right: 1em; text-align: center; vertical-align: top\">Silence of the Lambs, The</td>\n",
       "        <td style=\"padding-left: 1em; padding-right: 1em; text-align: center; vertical-align: top\">3.69484363734</td>\n",
       "        <td style=\"padding-left: 1em; padding-right: 1em; text-align: center; vertical-align: top\">6</td>\n",
       "    </tr>\n",
       "    <tr>\n",
       "        <td style=\"padding-left: 1em; padding-right: 1em; text-align: center; vertical-align: top\">5</td>\n",
       "        <td style=\"padding-left: 1em; padding-right: 1em; text-align: center; vertical-align: top\">Forrest Gump</td>\n",
       "        <td style=\"padding-left: 1em; padding-right: 1em; text-align: center; vertical-align: top\">3.68530779569</td>\n",
       "        <td style=\"padding-left: 1em; padding-right: 1em; text-align: center; vertical-align: top\">7</td>\n",
       "    </tr>\n",
       "    <tr>\n",
       "        <td style=\"padding-left: 1em; padding-right: 1em; text-align: center; vertical-align: top\">5</td>\n",
       "        <td style=\"padding-left: 1em; padding-right: 1em; text-align: center; vertical-align: top\">Gladiator</td>\n",
       "        <td style=\"padding-left: 1em; padding-right: 1em; text-align: center; vertical-align: top\">3.64694806955</td>\n",
       "        <td style=\"padding-left: 1em; padding-right: 1em; text-align: center; vertical-align: top\">8</td>\n",
       "    </tr>\n",
       "    <tr>\n",
       "        <td style=\"padding-left: 1em; padding-right: 1em; text-align: center; vertical-align: top\">5</td>\n",
       "        <td style=\"padding-left: 1em; padding-right: 1em; text-align: center; vertical-align: top\">Lord of the Rings: The<br>Fellowship of the Ring, ...</td>\n",
       "        <td style=\"padding-left: 1em; padding-right: 1em; text-align: center; vertical-align: top\">3.57505011982</td>\n",
       "        <td style=\"padding-left: 1em; padding-right: 1em; text-align: center; vertical-align: top\">9</td>\n",
       "    </tr>\n",
       "    <tr>\n",
       "        <td style=\"padding-left: 1em; padding-right: 1em; text-align: center; vertical-align: top\">5</td>\n",
       "        <td style=\"padding-left: 1em; padding-right: 1em; text-align: center; vertical-align: top\">Fargo</td>\n",
       "        <td style=\"padding-left: 1em; padding-right: 1em; text-align: center; vertical-align: top\">3.57170151598</td>\n",
       "        <td style=\"padding-left: 1em; padding-right: 1em; text-align: center; vertical-align: top\">10</td>\n",
       "    </tr>\n",
       "</table>\n",
       "[10 rows x 4 columns]<br/>\n",
       "</div>"
      ],
      "text/plain": [
       "Columns:\n",
       "\tuserId\tint\n",
       "\ttitle\tstr\n",
       "\tscore\tfloat\n",
       "\trank\tint\n",
       "\n",
       "Rows: 10\n",
       "\n",
       "Data:\n",
       "+--------+-------------------------------+---------------+------+\n",
       "| userId |             title             |     score     | rank |\n",
       "+--------+-------------------------------+---------------+------+\n",
       "|   5    |   Shawshank Redemption, The   | 3.93719007268 |  1   |\n",
       "|   5    |          Pulp Fiction         | 3.85036911168 |  2   |\n",
       "|   5    | Star Wars: Episode V - The... |  3.8346573655 |  3   |\n",
       "|   5    | Star Wars: Episode IV - A ... | 3.74300852958 |  4   |\n",
       "|   5    | Star Wars: Episode VI - Re... | 3.70701998477 |  5   |\n",
       "|   5    |   Silence of the Lambs, The   | 3.69484363734 |  6   |\n",
       "|   5    |          Forrest Gump         | 3.68530779569 |  7   |\n",
       "|   5    |           Gladiator           | 3.64694806955 |  8   |\n",
       "|   5    | Lord of the Rings: The Fel... | 3.57505011982 |  9   |\n",
       "|   5    |             Fargo             | 3.57170151598 |  10  |\n",
       "+--------+-------------------------------+---------------+------+\n",
       "[10 rows x 4 columns]"
      ]
     },
     "execution_count": 55,
     "metadata": {},
     "output_type": "execute_result"
    }
   ],
   "source": [
    "#We do the same for the training data, as in the previous cell, for\n",
    "#the second recommender system.\n",
    "\n",
    "#generate recommendations for 1 user, user 5 with model 2 using training data\n",
    "user5recommendations_model2 = train_model2.recommend(users=[\"5\"])\n",
    "user5recommendations_model2\n",
    "\n",
    "#As you can see, the recommendations are a bit different."
   ]
  },
  {
   "cell_type": "markdown",
   "metadata": {},
   "source": [
    "** At this point, we have created our two recommender systems that each have been created using different parameters. **\n",
    "\n",
    "** The first recommender system includes no supplementary item data. It only includes the users, movie titles, and their ratings - to inform personalized recommendations. **\n",
    "\n",
    "** The second recommender system includes additional supplementary item data, to include year and genre information associated with each movie. Furthermore, the second recommender system includes all of the other information that the first recommender system has. **\n",
    "\n",
    "** To make an informed decision on which recommender system should be deployed in a production environment, we need to see how each generalizes to the test data. We begin this process, below. After all, the second recommender system's initial better performance may just mean that it has overfit to the training data.**"
   ]
  },
  {
   "cell_type": "code",
   "execution_count": 56,
   "metadata": {
    "collapsed": false
   },
   "outputs": [
    {
     "name": "stdout",
     "output_type": "stream",
     "text": [
      "PROGRESS: Evaluate model M0\n",
      "\n",
      "Precision and recall summary statistics by cutoff\n",
      "+--------+-----------------+------------------+\n",
      "| cutoff |  mean_precision |   mean_recall    |\n",
      "+--------+-----------------+------------------+\n",
      "|   1    |  0.128289473684 | 0.00806542845917 |\n",
      "|   2    |  0.107730263158 | 0.0131474798443  |\n",
      "|   3    | 0.0997807017544 | 0.0195660703678  |\n",
      "|   4    |  0.100740131579 | 0.0257726749453  |\n",
      "|   5    | 0.0953947368421 | 0.0323415810335  |\n",
      "|   6    | 0.0921052631579 | 0.0372376306997  |\n",
      "|   7    | 0.0869360902256 | 0.0409667016476  |\n",
      "|   8    | 0.0838815789474 | 0.0442886372436  |\n",
      "|   9    | 0.0820540935673 | 0.0481098201159  |\n",
      "|   10   | 0.0796052631579 | 0.0512380236566  |\n",
      "+--------+-----------------+------------------+\n",
      "[10 rows x 3 columns]\n",
      "\n",
      "('\\nOverall RMSE: ', 1.053180109832905)\n",
      "\n",
      "Per User RMSE (best)\n",
      "+--------+-------+----------------+\n",
      "| userId | count |      rmse      |\n",
      "+--------+-------+----------------+\n",
      "|  549   |   2   | 0.163216164391 |\n",
      "+--------+-------+----------------+\n",
      "[1 rows x 3 columns]\n",
      "\n",
      "\n",
      "Per User RMSE (worst)\n",
      "+--------+-------+---------------+\n",
      "| userId | count |      rmse     |\n",
      "+--------+-------+---------------+\n",
      "|  272   |   7   | 2.90012994338 |\n",
      "+--------+-------+---------------+\n",
      "[1 rows x 3 columns]\n",
      "\n",
      "\n",
      "Per Item RMSE (best)\n",
      "+-----------+-------+------------------+\n",
      "|   title   | count |       rmse       |\n",
      "+-----------+-------+------------------+\n",
      "| G.I. Jane |   1   | 0.00229779868128 |\n",
      "+-----------+-------+------------------+\n",
      "[1 rows x 3 columns]\n",
      "\n",
      "\n",
      "Per Item RMSE (worst)\n",
      "+--------------------------+-------+--------------+\n",
      "|          title           | count |     rmse     |\n",
      "+--------------------------+-------+--------------+\n",
      "| The Theory of Everything |   1   | 7.5804382815 |\n",
      "+--------------------------+-------+--------------+\n",
      "[1 rows x 3 columns]\n",
      "\n",
      "PROGRESS: Evaluate model M1\n",
      "\n",
      "Precision and recall summary statistics by cutoff\n",
      "+--------+-----------------+------------------+\n",
      "| cutoff |  mean_precision |   mean_recall    |\n",
      "+--------+-----------------+------------------+\n",
      "|   1    |  0.113486842105 | 0.00712054851107 |\n",
      "|   2    |  0.101973684211 | 0.0120187318889  |\n",
      "|   3    | 0.0959429824561 | 0.0165665979427  |\n",
      "|   4    | 0.0933388157895 | 0.0217879318725  |\n",
      "|   5    | 0.0881578947368 |  0.025558435335  |\n",
      "|   6    | 0.0844298245614 | 0.0298355834434  |\n",
      "|   7    | 0.0789473684211 | 0.0321453253554  |\n",
      "|   8    | 0.0777138157895 | 0.0367631087335  |\n",
      "|   9    | 0.0747441520468 |  0.040171476261  |\n",
      "|   10   | 0.0730263157895 | 0.0434450983925  |\n",
      "+--------+-----------------+------------------+\n",
      "[10 rows x 3 columns]\n",
      "\n",
      "('\\nOverall RMSE: ', 0.9324538080155241)\n",
      "\n",
      "Per User RMSE (best)\n",
      "+--------+-------+----------------+\n",
      "| userId | count |      rmse      |\n",
      "+--------+-------+----------------+\n",
      "|  438   |   1   | 0.105737141544 |\n",
      "+--------+-------+----------------+\n",
      "[1 rows x 3 columns]\n",
      "\n",
      "\n",
      "Per User RMSE (worst)\n",
      "+--------+-------+---------------+\n",
      "| userId | count |      rmse     |\n",
      "+--------+-------+---------------+\n",
      "|  609   |   6   | 2.57622479514 |\n",
      "+--------+-------+---------------+\n",
      "[1 rows x 3 columns]\n",
      "\n",
      "\n",
      "Per Item RMSE (best)\n",
      "+----------------------+-------+-------------------+\n",
      "|        title         | count |        rmse       |\n",
      "+----------------------+-------+-------------------+\n",
      "| Death and the Maiden |   1   | 0.000177288427619 |\n",
      "+----------------------+-------+-------------------+\n",
      "[1 rows x 3 columns]\n",
      "\n",
      "\n",
      "Per Item RMSE (worst)\n",
      "+--------------+-------+---------------+\n",
      "|    title     | count |      rmse     |\n",
      "+--------------+-------+---------------+\n",
      "| Ninja Scroll |   1   | 3.20881439602 |\n",
      "+--------------+-------+---------------+\n",
      "[1 rows x 3 columns]\n",
      "\n"
     ]
    }
   ],
   "source": [
    "#Here, we compare the first and second recommender systems performance \n",
    "#on the test data set to see how they each generalize. \n",
    "\n",
    "#compare the first recommender system to the second.\n",
    "comparison = gl.recommender.util.compare_models(test, [train_model1, train_model2])\n",
    "\n",
    "#The first recommender system has an overall RMSE of ~ 1.0531.\n",
    "#The second recommender system has an overall RMSE of ~ 1.0395."
   ]
  },
  {
   "cell_type": "markdown",
   "metadata": {},
   "source": [
    "** If we evaluate the models only based on RMSE, the second recommender system generalizes the best to the test data. However, we can also use precision and recall to evaluate and compare each model statistically. **\n",
    "\n",
    "** We assess the precision and recall of each recommender system on the test dataset, below. **"
   ]
  },
  {
   "cell_type": "code",
   "execution_count": 57,
   "metadata": {
    "collapsed": false
   },
   "outputs": [
    {
     "name": "stdout",
     "output_type": "stream",
     "text": [
      "\n",
      "Precision and recall summary statistics by cutoff\n",
      "+--------+-----------------+------------------+\n",
      "| cutoff |  mean_precision |   mean_recall    |\n",
      "+--------+-----------------+------------------+\n",
      "|   1    |  0.128289473684 | 0.00806542845917 |\n",
      "|   2    |  0.107730263158 | 0.0131474798443  |\n",
      "|   3    | 0.0997807017544 | 0.0195660703678  |\n",
      "|   4    |  0.100740131579 | 0.0257726749453  |\n",
      "|   5    | 0.0953947368421 | 0.0323415810335  |\n",
      "|   6    | 0.0921052631579 | 0.0372376306997  |\n",
      "|   7    | 0.0869360902256 | 0.0409667016476  |\n",
      "|   8    | 0.0838815789474 | 0.0442886372436  |\n",
      "|   9    | 0.0820540935673 | 0.0481098201159  |\n",
      "|   10   | 0.0796052631579 | 0.0512380236566  |\n",
      "+--------+-----------------+------------------+\n",
      "[10 rows x 3 columns]\n",
      "\n",
      "('\\nOverall RMSE: ', 1.053180109832905)\n",
      "\n",
      "Per User RMSE (best)\n",
      "+--------+-------+----------------+\n",
      "| userId | count |      rmse      |\n",
      "+--------+-------+----------------+\n",
      "|  549   |   2   | 0.163216164391 |\n",
      "+--------+-------+----------------+\n",
      "[1 rows x 3 columns]\n",
      "\n",
      "\n",
      "Per User RMSE (worst)\n",
      "+--------+-------+---------------+\n",
      "| userId | count |      rmse     |\n",
      "+--------+-------+---------------+\n",
      "|  272   |   7   | 2.90012994338 |\n",
      "+--------+-------+---------------+\n",
      "[1 rows x 3 columns]\n",
      "\n",
      "\n",
      "Per Item RMSE (best)\n",
      "+-----------+-------+------------------+\n",
      "|   title   | count |       rmse       |\n",
      "+-----------+-------+------------------+\n",
      "| G.I. Jane |   1   | 0.00229779868128 |\n",
      "+-----------+-------+------------------+\n",
      "[1 rows x 3 columns]\n",
      "\n",
      "\n",
      "Per Item RMSE (worst)\n",
      "+--------------------------+-------+--------------+\n",
      "|          title           | count |     rmse     |\n",
      "+--------------------------+-------+--------------+\n",
      "| The Theory of Everything |   1   | 7.5804382815 |\n",
      "+--------------------------+-------+--------------+\n",
      "[1 rows x 3 columns]\n",
      "\n"
     ]
    }
   ],
   "source": [
    "#First we review the first recommender system's precision and recall\n",
    "#on the test data. To do this, we must first generate the results.\n",
    "\n",
    "rmse_results_train1 = train_model1.evaluate(test)"
   ]
  },
  {
   "cell_type": "code",
   "execution_count": 58,
   "metadata": {
    "collapsed": false
   },
   "outputs": [
    {
     "name": "stdout",
     "output_type": "stream",
     "text": [
      "+--------+------------------+-------------------+------------------+\n",
      "| cutoff | Avg of precision | Stdv of precision |  Avg of recall   |\n",
      "+--------+------------------+-------------------+------------------+\n",
      "|   16   | 0.0737047697368  |  0.0898109880762  | 0.0757718314389  |\n",
      "|   10   | 0.0796052631579  |   0.108117148811  | 0.0512380236566  |\n",
      "|   36   | 0.0529057017544  |  0.0589305949357  |  0.119254840772  |\n",
      "|   26   | 0.0600328947368  |  0.0670858902409  | 0.0993745893214  |\n",
      "|   41   | 0.0498636071887  |  0.0553025319864  |  0.128501851664  |\n",
      "|   3    | 0.0997807017544  |   0.188057036519  | 0.0195660703678  |\n",
      "|   1    |  0.128289473684  |   0.334411848812  | 0.00806542845917 |\n",
      "|   6    | 0.0921052631579  |   0.137914014768  | 0.0372376306997  |\n",
      "|   11   | 0.0793959330144  |   0.10513979406   | 0.0557923543892  |\n",
      "|   2    |  0.107730263158  |   0.220993821966  | 0.0131474798443  |\n",
      "|   46   | 0.0472683066362  |  0.0515703291658  |  0.13685113664   |\n",
      "|   31   | 0.0556557724958  |  0.0621809168833  |  0.108587219121  |\n",
      "|   8    | 0.0838815789474  |   0.116509610187  | 0.0442886372436  |\n",
      "|   5    | 0.0953947368421  |   0.153399553879  | 0.0323415810335  |\n",
      "|   4    |  0.100740131579  |   0.172143830148  | 0.0257726749453  |\n",
      "|   21   | 0.0662593984962  |  0.0766384155341  | 0.0899585779142  |\n",
      "|   9    | 0.0820540935673  |   0.112511226779  | 0.0481098201159  |\n",
      "|   7    | 0.0869360902256  |   0.12677784132   | 0.0409667016476  |\n",
      "+--------+------------------+-------------------+------------------+\n",
      "+-----------------+\n",
      "|  Stdv of recall |\n",
      "+-----------------+\n",
      "|  0.104619780119 |\n",
      "| 0.0859938301789 |\n",
      "|  0.126432099141 |\n",
      "|  0.116525673732 |\n",
      "|  0.139716230667 |\n",
      "| 0.0582523171209 |\n",
      "| 0.0285879984527 |\n",
      "| 0.0750056455119 |\n",
      "| 0.0891471600399 |\n",
      "| 0.0344816452778 |\n",
      "|  0.144385944552 |\n",
      "|  0.120969788393 |\n",
      "| 0.0801959888104 |\n",
      "|  0.071800120406 |\n",
      "| 0.0632262534711 |\n",
      "|  0.113122364893 |\n",
      "| 0.0837108440933 |\n",
      "| 0.0790359391436 |\n",
      "+-----------------+\n",
      "[18 rows x 5 columns]\n",
      "\n"
     ]
    }
   ],
   "source": [
    "import graphlab.aggregate as agg\n",
    "\n",
    "rmse_results_train1['precision_recall_by_user'].groupby('cutoff',[agg.AVG('precision'),agg.STD('precision'),\n",
    "                                                                  agg.AVG('recall'),agg.STD('recall')]).print_rows(num_rows=100)\n"
   ]
  },
  {
   "cell_type": "markdown",
   "metadata": {},
   "source": [
    "** Before we analyze the precision and recall, we review their definitions:**\n",
    "\n",
    "\n",
    "** Precision: As defined from wikipedia (https://en.wikipedia.org/wiki/Precision_and_recall), \"precision is the number of correct results divided by the number of all returned results.\" In the case above, precision is provided as a cut-off rank, which can be summarized as the precision at a particular value of n. Ideally, we want precision to be as close to 1 as possible, such that a larger relative value of precision is better. When we have larger values of precision, we can say we are retreiving more correct movie recommendations for the user relative to all available rated movies. **\n",
    "\n",
    "** Recall: As defined from wikipedia (https://en.wikipedia.org/wiki/Precision_and_recall), \"recall is the number of correct results divided by the number of results that should have been retreived.\" As stated for precision, the recall values above are based on a cut-off rank. Ideally, we also want the recall to be as close to 1 as possible, while simulataneously also controlling for the unrelated movie recommendations. This is why we must present both precision and recall. **\n",
    "\n",
    "When looking at the average precision and recall results for the cut-off ranks above, we want the average precision and recall to both be as high as possible (close to 1) while also having the smallest standard deviation possible for precision and recall. For cut-off rank 1,2, and 3, we have very poor recall relative to the precision. The cut-off ranks increase as we provide more recommendations to a user. As the cut-off ranks increase, our precision and recall tends to increase, but there is a practical balance of how many movies is actually useful to recommend at a time to a user. **If we provide 10 recommendations to an individual, the average recall is 0.0512380236566, while the precision is 0.0796052631579 with the first recommender system. With 10 recommendations, the standard deviation of the precision is 0.108117148811 and the standard deviation of the recall is 0.0859938301789.**"
   ]
  },
  {
   "cell_type": "code",
   "execution_count": 59,
   "metadata": {
    "collapsed": false
   },
   "outputs": [
    {
     "name": "stdout",
     "output_type": "stream",
     "text": [
      "\n",
      "Precision and recall summary statistics by cutoff\n",
      "+--------+-----------------+------------------+\n",
      "| cutoff |  mean_precision |   mean_recall    |\n",
      "+--------+-----------------+------------------+\n",
      "|   1    |  0.113486842105 | 0.00712054851107 |\n",
      "|   2    |  0.101973684211 | 0.0120187318889  |\n",
      "|   3    | 0.0959429824561 | 0.0165665979427  |\n",
      "|   4    | 0.0933388157895 | 0.0217879318725  |\n",
      "|   5    | 0.0881578947368 |  0.025558435335  |\n",
      "|   6    | 0.0844298245614 | 0.0298355834434  |\n",
      "|   7    | 0.0789473684211 | 0.0321453253554  |\n",
      "|   8    | 0.0777138157895 | 0.0367631087335  |\n",
      "|   9    | 0.0747441520468 |  0.040171476261  |\n",
      "|   10   | 0.0730263157895 | 0.0434450983925  |\n",
      "+--------+-----------------+------------------+\n",
      "[10 rows x 3 columns]\n",
      "\n",
      "('\\nOverall RMSE: ', 0.9324538080155241)\n",
      "\n",
      "Per User RMSE (best)\n",
      "+--------+-------+----------------+\n",
      "| userId | count |      rmse      |\n",
      "+--------+-------+----------------+\n",
      "|  438   |   1   | 0.105737141544 |\n",
      "+--------+-------+----------------+\n",
      "[1 rows x 3 columns]\n",
      "\n",
      "\n",
      "Per User RMSE (worst)\n",
      "+--------+-------+---------------+\n",
      "| userId | count |      rmse     |\n",
      "+--------+-------+---------------+\n",
      "|  609   |   6   | 2.57622479514 |\n",
      "+--------+-------+---------------+\n",
      "[1 rows x 3 columns]\n",
      "\n",
      "\n",
      "Per Item RMSE (best)\n",
      "+----------------------+-------+-------------------+\n",
      "|        title         | count |        rmse       |\n",
      "+----------------------+-------+-------------------+\n",
      "| Death and the Maiden |   1   | 0.000177288427619 |\n",
      "+----------------------+-------+-------------------+\n",
      "[1 rows x 3 columns]\n",
      "\n",
      "\n",
      "Per Item RMSE (worst)\n",
      "+--------------+-------+---------------+\n",
      "|    title     | count |      rmse     |\n",
      "+--------------+-------+---------------+\n",
      "| Ninja Scroll |   1   | 3.20881439602 |\n",
      "+--------------+-------+---------------+\n",
      "[1 rows x 3 columns]\n",
      "\n"
     ]
    }
   ],
   "source": [
    "#Next, we review the second recommender system's precision and recall\n",
    "#on the test data. To do this, we must generate the results.\n",
    "\n",
    "rmse_results_train2 = train_model2.evaluate(test)"
   ]
  },
  {
   "cell_type": "code",
   "execution_count": 60,
   "metadata": {
    "collapsed": false
   },
   "outputs": [
    {
     "name": "stdout",
     "output_type": "stream",
     "text": [
      "+--------+------------------+-------------------+------------------+\n",
      "| cutoff | Avg of precision | Stdv of precision |  Avg of recall   |\n",
      "+--------+------------------+-------------------+------------------+\n",
      "|   16   | 0.0632195723684  |  0.0875454904033  |  0.063099488508  |\n",
      "|   10   | 0.0730263157895  |   0.113827197481  | 0.0434450983925  |\n",
      "|   36   | 0.0456871345029  |  0.0559795493456  |  0.104905534578  |\n",
      "|   26   | 0.0513031376518  |  0.0663835860687  | 0.0844661261793  |\n",
      "|   41   | 0.0432846598203  |  0.0525662130246  |  0.112034095213  |\n",
      "|   3    | 0.0959429824561  |   0.203509923951  | 0.0165665979427  |\n",
      "|   1    |  0.113486842105  |   0.317186977624  | 0.00712054851107 |\n",
      "|   6    | 0.0844298245614  |   0.149312154041  | 0.0298355834434  |\n",
      "|   11   | 0.0717703349282  |   0.108812233246  | 0.0477410635517  |\n",
      "|   2    |  0.101973684211  |   0.238821226558  | 0.0120187318889  |\n",
      "|   46   | 0.0415117276888  |  0.0493719310703  |  0.119126203076  |\n",
      "|   31   | 0.0472198641766  |  0.0598824648649  | 0.0930652332646  |\n",
      "|   8    | 0.0777138157895  |   0.126734818228  | 0.0367631087335  |\n",
      "|   5    | 0.0881578947368  |   0.159742478007  |  0.025558435335  |\n",
      "|   4    | 0.0933388157895  |   0.176848890131  | 0.0217879318725  |\n",
      "|   21   | 0.0558427318296  |  0.0752642532174  | 0.0731831151961  |\n",
      "|   9    | 0.0747441520468  |   0.11835546497   |  0.040171476261  |\n",
      "|   7    | 0.0789473684211  |   0.134421497585  | 0.0321453253554  |\n",
      "+--------+------------------+-------------------+------------------+\n",
      "+-----------------+\n",
      "|  Stdv of recall |\n",
      "+-----------------+\n",
      "|  0.093419950544 |\n",
      "| 0.0728465836168 |\n",
      "|  0.122411823237 |\n",
      "|  0.109924769026 |\n",
      "|  0.125651514764 |\n",
      "| 0.0424264026812 |\n",
      "| 0.0263690481882 |\n",
      "| 0.0611889165649 |\n",
      "| 0.0758861558622 |\n",
      "| 0.0346540844843 |\n",
      "|  0.12897100567  |\n",
      "|  0.11751464726  |\n",
      "| 0.0660730374248 |\n",
      "| 0.0544029359726 |\n",
      "|  0.050943695133 |\n",
      "|  0.100208611815 |\n",
      "| 0.0703984214868 |\n",
      "| 0.0625301932448 |\n",
      "+-----------------+\n",
      "[18 rows x 5 columns]\n",
      "\n"
     ]
    }
   ],
   "source": [
    "# Now, we can present the precision and recall results for the second\n",
    "# recommender system. These results can be found, below.\n",
    "\n",
    "rmse_results_train2['precision_recall_by_user'].groupby('cutoff',[agg.AVG('precision'),agg.STD('precision'),\n",
    "                                                                  agg.AVG('recall'),agg.STD('recall')]).print_rows(num_rows=100)"
   ]
  },
  {
   "cell_type": "markdown",
   "metadata": {},
   "source": [
    "**Remember that for the first recommender system, if we provide 10 recommendations to an individual, the average recall is 0.0512380236566, while the precision is 0.0796052631579 with the first recommender system. With 10 recommendations, the standard deviation of the recall is 0.0859938301789 and the standard deviation of the precision is 0.108117148811.**\n",
    "\n",
    "For the second recommender to have better precision and recall than the first recommender system, the average precision and recall need to be higher with 10 recommendations with ideally lower standard deviation for each. ** With the second recommender system at 10 recommendations, the average recall is 0.0434450983925  and the average precision is 0.0730263157895. Then, the standard deviation of the recall is 0.0728465836168 and the standard deviation of the precision is 0.113827197481. **\n",
    "\n",
    "It seems that the precision and recall are a little worse on average with the second recommender system, with some additional variability for these estimates compared to the first recommender system. **We will discuss the pros and cons of evaluating the two recommender systems based on RMSE vs Precision and Recall in the modeling and evaluation 4 section.** \n",
    "\n",
    "** In the next section, Modeling and Evaluation 3: Visualize Results, we visualize the results between each recommender system.** "
   ]
  },
  {
   "cell_type": "markdown",
   "metadata": {},
   "source": [
    "<a id=\"visualize\"></a>\n",
    "\n",
    "### Modeling and Evaluation 3: Visualize Results\n",
    "\n",
    "** In this section, we explore visually the output of the results generated in the Modeling and Evaluation 2 section. **\n",
    "\n",
    "We begin with comparing the RMSE for both recommender systems with histograms."
   ]
  },
  {
   "cell_type": "code",
   "execution_count": 98,
   "metadata": {
    "collapsed": false
   },
   "outputs": [
    {
     "data": {
      "image/png": "[encoded data removed]",
      "text/plain": [
       "<matplotlib.figure.Figure at 0x4150ba58>"
      ]
     },
     "metadata": {},
     "output_type": "display_data"
    }
   ],
   "source": [
    "#visualize the results of the first model on the test dataset.\n",
    "#code from the 13. Recommender Systems example\n",
    "\n",
    "rmsevals1 = rmse_results_train1['rmse_by_user']['rmse']\n",
    "rmsevals1 = rmsevals1[rmse_results_train1['rmse_by_user']['count']]\n",
    "\n",
    "plt.hist(rmsevals1,bins=20)\n",
    "plt.title('RMSE by User')\n",
    "plt.show()"
   ]
  },
  {
   "cell_type": "markdown",
   "metadata": {},
   "source": [
    "In the histogram of the RMSE by user above, we visualize the RMSE on a user basis for the first recommender system. The average RMSE by user is appoximately 1 with the majority of values being contained in the interval (0.1, 2.0). There are a small number of users who had an RMSE greater than 2.5.\n",
    "\n",
    "It is important to clarify that this is the RMSE regarding their ratings that differed in the test dataset compared to the training dataset. If this RMSE per user is comparatively smaller in one recommender system vs. another, we have a better sense of how users actually will rate movies, based on their previous habits. We can use this information to produce better movie recommendations.\n",
    "\n",
    "Next, we show the RMSE by user for the second recommender system."
   ]
  },
  {
   "cell_type": "code",
   "execution_count": 99,
   "metadata": {
    "collapsed": false,
    "scrolled": true
   },
   "outputs": [
    {
     "data": {
      "image/png": "[encoded data removed]",
      "text/plain": [
       "<matplotlib.figure.Figure at 0x414fceb8>"
      ]
     },
     "metadata": {},
     "output_type": "display_data"
    }
   ],
   "source": [
    "#visualize the results of the first model on the test dataset.\n",
    "#code from the 13. Recommender Systems example\n",
    "\n",
    "rmsevals2 = rmse_results_train2['rmse_by_user']['rmse']\n",
    "rmsevals2 = rmsevals2[rmse_results_train2['rmse_by_user']['count']]\n",
    "\n",
    "plt.hist(rmsevals2,bins=20)\n",
    "plt.title('RMSE by User')\n",
    "plt.show()\n"
   ]
  },
  {
   "cell_type": "markdown",
   "metadata": {},
   "source": [
    "In the histogram of the RMSE by user above, we visualize the RMSE on a user basis for the second recommender system. The average RMSE by user is appoximately 0.9 with the majority of values being contained in the interval (0.1, 2.0). There appears visually to be no users who have a RMSE greater than 2.5.\n",
    "\n",
    "While the RMSE by user is very similar in the second recommender system to the first, the average RMSE has clearly dropped in second recommender. This provides further evidence to use the second recommender system instead of the first.\n",
    "\n",
    "**Next, to visualize the precision and recall for both recommender systems, we output the previous precision and recall results to Excel, and import them in as a csv file. This csv file is read in, shown, and visualized in the following cells. **"
   ]
  },
  {
   "cell_type": "code",
   "execution_count": 77,
   "metadata": {
    "collapsed": true
   },
   "outputs": [],
   "source": [
    "#Load the data with the results of the models  \n",
    "filename = 'C:/Alma@SMU/MSDS_7331_DM/Movies/Testresults.csv'\n",
    "Results_df = pd.read_csv(filename, sep=',', error_bad_lines=False, index_col=False, encoding='utf-8', low_memory=False)"
   ]
  },
  {
   "cell_type": "code",
   "execution_count": 78,
   "metadata": {
    "collapsed": false,
    "scrolled": true
   },
   "outputs": [
    {
     "data": {
      "text/html": [
       "<div>\n",
       "<table border=\"1\" class=\"dataframe\">\n",
       "  <thead>\n",
       "    <tr style=\"text-align: right;\">\n",
       "      <th></th>\n",
       "      <th>Model</th>\n",
       "      <th>cutoff</th>\n",
       "      <th>Avg Precision</th>\n",
       "      <th>Stdv Precision</th>\n",
       "      <th>Avg recall</th>\n",
       "      <th>Stdvc Recall</th>\n",
       "    </tr>\n",
       "  </thead>\n",
       "  <tbody>\n",
       "    <tr>\n",
       "      <th>0</th>\n",
       "      <td>One</td>\n",
       "      <td>1</td>\n",
       "      <td>0.128289</td>\n",
       "      <td>0.334412</td>\n",
       "      <td>0.008065</td>\n",
       "      <td>0.028588</td>\n",
       "    </tr>\n",
       "    <tr>\n",
       "      <th>1</th>\n",
       "      <td>One</td>\n",
       "      <td>5</td>\n",
       "      <td>0.095395</td>\n",
       "      <td>0.153400</td>\n",
       "      <td>0.032342</td>\n",
       "      <td>0.071800</td>\n",
       "    </tr>\n",
       "    <tr>\n",
       "      <th>2</th>\n",
       "      <td>One</td>\n",
       "      <td>10</td>\n",
       "      <td>0.079605</td>\n",
       "      <td>0.108117</td>\n",
       "      <td>0.051238</td>\n",
       "      <td>0.085994</td>\n",
       "    </tr>\n",
       "    <tr>\n",
       "      <th>3</th>\n",
       "      <td>One</td>\n",
       "      <td>16</td>\n",
       "      <td>0.073705</td>\n",
       "      <td>0.089811</td>\n",
       "      <td>0.075772</td>\n",
       "      <td>0.104620</td>\n",
       "    </tr>\n",
       "    <tr>\n",
       "      <th>4</th>\n",
       "      <td>One</td>\n",
       "      <td>21</td>\n",
       "      <td>0.066259</td>\n",
       "      <td>0.076638</td>\n",
       "      <td>0.089959</td>\n",
       "      <td>0.113122</td>\n",
       "    </tr>\n",
       "    <tr>\n",
       "      <th>5</th>\n",
       "      <td>Two</td>\n",
       "      <td>1</td>\n",
       "      <td>0.113487</td>\n",
       "      <td>0.317187</td>\n",
       "      <td>0.007121</td>\n",
       "      <td>0.026369</td>\n",
       "    </tr>\n",
       "    <tr>\n",
       "      <th>6</th>\n",
       "      <td>Two</td>\n",
       "      <td>5</td>\n",
       "      <td>0.088158</td>\n",
       "      <td>0.159742</td>\n",
       "      <td>0.025558</td>\n",
       "      <td>0.054403</td>\n",
       "    </tr>\n",
       "    <tr>\n",
       "      <th>7</th>\n",
       "      <td>Two</td>\n",
       "      <td>10</td>\n",
       "      <td>0.073026</td>\n",
       "      <td>0.113827</td>\n",
       "      <td>0.043445</td>\n",
       "      <td>0.072847</td>\n",
       "    </tr>\n",
       "    <tr>\n",
       "      <th>8</th>\n",
       "      <td>Two</td>\n",
       "      <td>16</td>\n",
       "      <td>0.063220</td>\n",
       "      <td>0.087545</td>\n",
       "      <td>0.063099</td>\n",
       "      <td>0.093420</td>\n",
       "    </tr>\n",
       "    <tr>\n",
       "      <th>9</th>\n",
       "      <td>Two</td>\n",
       "      <td>21</td>\n",
       "      <td>0.055843</td>\n",
       "      <td>0.075264</td>\n",
       "      <td>0.073183</td>\n",
       "      <td>0.100209</td>\n",
       "    </tr>\n",
       "  </tbody>\n",
       "</table>\n",
       "</div>"
      ],
      "text/plain": [
       "  Model  cutoff  Avg Precision  Stdv Precision  Avg recall  Stdvc Recall\n",
       "0   One       1       0.128289        0.334412    0.008065      0.028588\n",
       "1   One       5       0.095395        0.153400    0.032342      0.071800\n",
       "2   One      10       0.079605        0.108117    0.051238      0.085994\n",
       "3   One      16       0.073705        0.089811    0.075772      0.104620\n",
       "4   One      21       0.066259        0.076638    0.089959      0.113122\n",
       "5   Two       1       0.113487        0.317187    0.007121      0.026369\n",
       "6   Two       5       0.088158        0.159742    0.025558      0.054403\n",
       "7   Two      10       0.073026        0.113827    0.043445      0.072847\n",
       "8   Two      16       0.063220        0.087545    0.063099      0.093420\n",
       "9   Two      21       0.055843        0.075264    0.073183      0.100209"
      ]
     },
     "execution_count": 78,
     "metadata": {},
     "output_type": "execute_result"
    }
   ],
   "source": [
    "Results_df"
   ]
  },
  {
   "cell_type": "markdown",
   "metadata": {},
   "source": [
    "**The first and second recommender system precision and recall results are shown below. We will interpret them subsequently. **"
   ]
  },
  {
   "cell_type": "code",
   "execution_count": 93,
   "metadata": {
    "collapsed": false
   },
   "outputs": [
    {
     "data": {
      "image/png": "[encoded data removed]",
      "text/plain": [
       "<matplotlib.figure.Figure at 0x41305320>"
      ]
     },
     "metadata": {},
     "output_type": "display_data"
    }
   ],
   "source": [
    "Model1 = Results_df.loc[Results_df['Model']==\"One\"]\n",
    "Model1.sort_values('cutoff').plot('cutoff', kind='bar',  width=0.8, title=\"First Model Results\");"
   ]
  },
  {
   "cell_type": "code",
   "execution_count": 97,
   "metadata": {
    "collapsed": false
   },
   "outputs": [
    {
     "data": {
      "image/png": "[encoded data removed]",
      "text/plain": [
       "<matplotlib.figure.Figure at 0x40ea8cf8>"
      ]
     },
     "metadata": {},
     "output_type": "display_data"
    }
   ],
   "source": [
    "Model2 = Results_df.loc[Results_df['Model']==\"Two\"]\n",
    "Model2.sort_values('cutoff').plot('cutoff', kind='bar',  width=0.8, title=\"Second Model Results\");"
   ]
  },
  {
   "cell_type": "markdown",
   "metadata": {},
   "source": [
    "**Refer first to the precision and recall results by cut off rank for the first recommender system.** The average and standard deviation for precision and recall are grouped together. Generally, we want to have high average recall with an accompanying high average precision. Meanwhile, we want to have small standard deviation for each, such that our estimates for each do not vary much.\n",
    "\n",
    "To interpret the plots above, first compare the blue and red bars by cut-off rank to visually inspect the average precision and recall at a set number of recommendations to a user (1,5,10,16, and 21). For instance, when we give one recommendation to a user, notice that the average recall (the red bar) is very small compared to the average precision (the blue bar), and the standard deviation for the precision is large. We probably do not want to recommend only one movie at a time to a user, because we will likely not recommend a relevant movie, compared to their other previously provided ratings. Instead, we should consider recommending 10 to 16 movies at a time, since the precision and recall are closer together and the standard deviation for each is smaller.\n",
    "\n",
    "**Now refer to the precision and recall results by cut-off rank for the second recommender system. Compare them to the first recommender system results.** There do not appear visually to be large differences in the precision and recall by each cut-off rank between the first and second recommender systems. Although, the first recommender system appears to have slightly better recall than the second recommender system. **This means that we tend to produce slightly more relevant movie ratings for a given number of movie recommendations with the the first recommender system.** However, practically speaking, there may not be a large difference in relevant movie recommendations between each recommender system.\n",
    "\n",
    "**We will summarize the results in the next section, Modeling and Evaluation 4: Summarize the Ramifications.**"
   ]
  },
  {
   "cell_type": "markdown",
   "metadata": {},
   "source": [
    "<a id=\"summary\"></a>\n",
    "\n",
    "### Modeling and Evaluation 4: Summarize the Ramifications\n",
    "\n",
    "**In this section, we summarize the results between both recommender systems, including a discussion of their pros and cons.** \n",
    "\n",
    "First, we will discuss the pros and cons of each recommender system model.\n",
    "\n",
    "* **The first recommender system, without the side item data, had slightly higher recall compared to the second model.** When providing 10 movie recommendations to a user, the average recall was 0.051238 and the average precision was 0.079605. This means the first recommender system is slightly more likely to provide relevant movie recommendations than the second model. However, the first recommender system also has slightly higher overall RMSE (1.05318) to determine  user rating differences in the training vs. test data.\n",
    "\n",
    "* **The second recommender system contains additional movie genre and year information for each movie, and had a slightly lower overall RMSE (0.9325).** This means that the second model can determine rating differences between the training and test data for the users slightly better than the first model. However, the second model had slightly lower recall compared to the first model. When providing 10 movie recommendations to a user, the average recall was 0.043445 and the average precision was 0.073026.\n",
    "\n",
    "Given that the goal is to provide relevant recommendations to users based their prior feedback (through their ratings), we must evaluate both RMSE in addition to precision and recall. After all, our recommender system needs to have an accurate sense of rating differences between the training and test data to have an idea of what relevant movie recommendations are. In this situation, one recommender system has a lower overall RMSE and the other has higher precision and recall. **This requires us to make a decision on which is more important to us, finding differences in the ratings for users in the training and test data (RMSE) or the relevance of the recommendations (average recall).** Both are important, however, our goal is to provide better recommendations. **Therefore, we decided that we would focus on having a higher precision and recall in this case, since there was not an extremely large difference in the overall RMSE between each recommender system.**\n",
    "\n",
    "**Next, we discuss the deployment of the first recommender system model.**"
   ]
  },
  {
   "cell_type": "markdown",
   "metadata": {},
   "source": [
    "<a id=\"deployment\"></a>\n",
    "<a href=\"#top\">Back to Top</a>\n",
    "## Deployment\n",
    "\n",
    "This model can be deployed to entertainment streaming services, or film rental vending services. After removing outliers from total ratings by users, where some users had rated far too many movies than typical usage, the recommendation model improved.  There were 60 users with high amount of ratings that may have been bots who rated a large number of films in bulk. These 60 users were enough to disrupt the model, thus the model would not return as good recommendations as when they were removed.\n",
    "\n",
    "Similarly, films with too few recommendations create noise in the model because there is insufficient information available to be able to make accurate recommendations.  If a stranger on the subway recommended a film you have not heard of, one would be reluctant to trust a stranger's preferences. In our model, films rated by five users or fewer were insufficient to make accurate recommendations to other users.\n",
    "\n",
    "The purpose of our model is to make film recommendations unique to each customer as well. The top 10 personalized film recommendations are presented when inputting the user ID of the customer and obtaining recommendations based on films that particular client rated, and comparing rated movies of other users. The user's ID can be queried in a database and new recommendations could be provided once the user logs in so that recommendations are refreshed using any ratings the customer provided on the previous session. Depending on the platform of the service provider, the system can refresh sooner than at the start of a new session so that customers can have quicker feedback.\n",
    "\n",
    "Other data that we found that could be useful to refine recommendations, or to find more information about our customers would be demographic information about the user.  Demographic information about gender, household size, children age ranges, the customer's age, customer locale, and the time the customer uses the service would be useful information to get a better understanding of the customers who rate films using this system.  Recommendations may further be accurate knowing some more information about the client's background.  For example, child age ranges may help give more family oriented film suggestions.\n",
    "\n",
    "If the demographic information could be obtained, then the update would need to be done soon after it is obtained to glean new information from user demographics.  Conversely, should the demographic information not be easily obtained and our model variables remain the same, we would recommend updating the model periodically to allow newly released films to be included in the recommendation system.  The time period would depend on the number of customers and the volume of ratings generated by the customers. Therefore, service providers with fewer subscribers would update the model less frequently than services with higher subscribers to allow films to be rated. Moreover, we would caution against recommending films with few ratings as these could provide unwanted noise for the recommendation model.\n",
    "\n",
    "Below, we give an example of how the User ID could be looked up interactively (rather than hard coding User Ids), and obtaining the top 10 recommendations for that user.\n"
   ]
  },
  {
   "cell_type": "code",
   "execution_count": 115,
   "metadata": {
    "collapsed": false
   },
   "outputs": [],
   "source": [
    "# Widget to be used to retrieve user input - user id\n",
    "StrUserId = widgets.IntText(\n",
    "    placeholder='Id',\n",
    "    description='User Id:',\n",
    "    disabled=False\n",
    ")\n",
    "StrUserId"
   ]
  },
  {
   "cell_type": "code",
   "execution_count": 116,
   "metadata": {
    "collapsed": false
   },
   "outputs": [
    {
     "name": "stdout",
     "output_type": "stream",
     "text": [
      "+--------+-------------------------------+---------------+------+\n",
      "| userId |             title             |     score     | rank |\n",
      "+--------+-------------------------------+---------------+------+\n",
      "|  432   | Lord of the Rings: The Fel... | 4.29188503059 |  1   |\n",
      "|  432   | Star Wars: Episode V - The... | 4.05200138413 |  2   |\n",
      "|  432   |           Gladiator           | 4.03819520403 |  3   |\n",
      "|  432   | Star Wars: Episode VI - Re... | 4.00853042076 |  4   |\n",
      "|  432   |       Beautiful Mind, A       | 3.94260998168 |  5   |\n",
      "|  432   | Star Wars: Episode IV - A ... | 3.92314739111 |  6   |\n",
      "|  432   |             Shrek             | 3.91658263704 |  7   |\n",
      "|  432   |          Matrix, The          | 3.88984690854 |  8   |\n",
      "|  432   |          Finding Nemo         | 3.88928635609 |  9   |\n",
      "|  432   |         Monsters, Inc.        | 3.88422434979 |  10  |\n",
      "+--------+-------------------------------+---------------+------+\n",
      "[10 rows x 4 columns]\n",
      "\n"
     ]
    }
   ],
   "source": [
    "#Running the selected model for the provided User Id in the widget above and print the results\n",
    "UsrIdVal = StrUserId.value\n",
    "rec_model2_filter = train_model2.recommend(users=[UsrIdVal])\n",
    "print(rec_model2_filter)\n"
   ]
  },
  {
   "cell_type": "markdown",
   "metadata": {},
   "source": [
    "<a id=\"exceptional\"></a>\n",
    "<a href=\"#top\">Back to Top</a>\n",
    "## Exceptional Work\n"
   ]
  },
  {
   "cell_type": "markdown",
   "metadata": {},
   "source": [
    "We decided to use other tools like scikit-learn tool functions and scipy.sparse library to create a similar recommendation model and compare the results.\n",
    "In the following code we implemented Model-Based CF by using singular value decomposition (SVD) and Memory-Based CF by computing cosine similarity."
   ]
  },
  {
   "cell_type": "code",
   "execution_count": 64,
   "metadata": {
    "collapsed": false
   },
   "outputs": [
    {
     "name": "stdout",
     "output_type": "stream",
     "text": [
      "Number of users = 611 | Number of movies = 1926\n"
     ]
    }
   ],
   "source": [
    "n_users = Rated_movies.userId.unique().shape[0]\n",
    "n_items = Rated_movies.movieId.unique().shape[0]\n",
    "print 'Number of users = ' + str(n_users) + ' | Number of movies = ' + str(n_items)"
   ]
  },
  {
   "cell_type": "code",
   "execution_count": 65,
   "metadata": {
    "collapsed": true
   },
   "outputs": [],
   "source": [
    "# Using scikit-learn tool cross_validation for the creation of the training and test data sets 80/20\n",
    "# http://scikit-learn.org/stable/about.html#citing-scikit-learn \n",
    "from sklearn import cross_validation as cv\n",
    "train_data, test_data = cv.train_test_split(Rated_movies, test_size=0.2)"
   ]
  },
  {
   "cell_type": "code",
   "execution_count": 66,
   "metadata": {
    "collapsed": false
   },
   "outputs": [
    {
     "name": "stdout",
     "output_type": "stream",
     "text": [
      "Training matrix\n",
      "[[ 0.  0.  0. ...,  0.  0.  0.]\n",
      " [ 0.  0.  0. ...,  0.  0.  0.]\n",
      " [ 0.  0.  0. ...,  0.  0.  0.]\n",
      " ..., \n",
      " [ 0.  0.  0. ...,  0.  0.  0.]\n",
      " [ 0.  0.  0. ...,  0.  0.  0.]\n",
      " [ 5.  0.  0. ...,  0.  0.  0.]]\n",
      "\n",
      "Test matrix\n",
      "[[ 0.  0.  0. ...,  0.  0.  0.]\n",
      " [ 0.  0.  0. ...,  0.  0.  0.]\n",
      " [ 0.  0.  0. ...,  0.  0.  0.]\n",
      " ..., \n",
      " [ 0.  0.  0. ...,  0.  0.  0.]\n",
      " [ 4.  0.  0. ...,  0.  0.  0.]\n",
      " [ 0.  0.  0. ...,  0.  0.  0.]]\n"
     ]
    }
   ],
   "source": [
    "# Create 2 matrices user-item \n",
    "# Dimension of then matrices is Number of users: 611 * Number of movies: 1926 \n",
    "# For User-Item Collaborative Filtering the similarity values between users are measured by observing all \n",
    "# the items that are rated by both users\n",
    "# Each cell will contain the rate by user to the movie, if there is not a rating value for a cell it will be set to 0.0\n",
    "\n",
    "# Training matrix \n",
    "trainm = train_data.pivot(index='userId', columns='movieId', values='rating')\n",
    "trainm.replace({np.nan:0}, inplace=True)\n",
    "train_matrix = trainm.as_matrix()\n",
    "\n",
    "# Test matrix\n",
    "testm = test_data.pivot(index='userId', columns='movieId', values='rating')\n",
    "testm.replace({np.nan:0}, inplace=True)\n",
    "test_matrix = testm.as_matrix()\n",
    "print(\"Training matrix\")\n",
    "print(train_matrix)\n",
    "print(\"\\nTest matrix\")\n",
    "print(test_matrix)"
   ]
  },
  {
   "cell_type": "markdown",
   "metadata": {},
   "source": [
    "For recommender systems the distance metric to use is **cosine similarity**, ratings are seen as vectors in n-dimensional space and the similarity is calculated based on the angle between these vectors.\n",
    "We use the pairwise distance function from sklearn to calculate the cosine similarity."
   ]
  },
  {
   "cell_type": "code",
   "execution_count": 67,
   "metadata": {
    "collapsed": false
   },
   "outputs": [
    {
     "name": "stdout",
     "output_type": "stream",
     "text": [
      "\n",
      " USER SIMILARITY:\n",
      "[[  2.22044605e-16   1.00000000e+00   1.00000000e+00 ...,   9.07960437e-01\n",
      "    1.00000000e+00   1.00000000e+00]\n",
      " [  1.00000000e+00   0.00000000e+00   8.64610103e-01 ...,   9.74574331e-01\n",
      "    9.00082542e-01   8.91423303e-01]\n",
      " [  1.00000000e+00   8.64610103e-01   3.33066907e-16 ...,   8.89316581e-01\n",
      "    8.57115572e-01   7.78409694e-01]\n",
      " ..., \n",
      " [  9.07960437e-01   9.74574331e-01   8.89316581e-01 ...,   0.00000000e+00\n",
      "    9.42262086e-01   9.17687483e-01]\n",
      " [  1.00000000e+00   9.00082542e-01   8.57115572e-01 ...,   9.42262086e-01\n",
      "    0.00000000e+00   8.43919762e-01]\n",
      " [  1.00000000e+00   8.91423303e-01   7.78409694e-01 ...,   9.17687483e-01\n",
      "    8.43919762e-01   2.22044605e-16]]\n",
      "\n",
      " MOVIE SIMILARITY:\n",
      "[[ -4.44089210e-16   6.90893914e-01   7.25231168e-01 ...,   9.20509832e-01\n",
      "    9.54202695e-01   8.64750977e-01]\n",
      " [  6.90893914e-01   0.00000000e+00   8.16922452e-01 ...,   8.96880636e-01\n",
      "    1.00000000e+00   9.49652600e-01]\n",
      " [  7.25231168e-01   8.16922452e-01   0.00000000e+00 ...,   1.00000000e+00\n",
      "    1.00000000e+00   1.00000000e+00]\n",
      " ..., \n",
      " [  9.20509832e-01   8.96880636e-01   1.00000000e+00 ...,   1.11022302e-16\n",
      "    6.76499808e-01   7.25032320e-01]\n",
      " [  9.54202695e-01   1.00000000e+00   1.00000000e+00 ...,   6.76499808e-01\n",
      "   -2.22044605e-16   7.77627259e-01]\n",
      " [  8.64750977e-01   9.49652600e-01   1.00000000e+00 ...,   7.25032320e-01\n",
      "    7.77627259e-01  -2.22044605e-16]]\n"
     ]
    }
   ],
   "source": [
    "from sklearn.metrics.pairwise import pairwise_distances\n",
    "user_similarity = pairwise_distances(train_matrix, metric='cosine')\n",
    "item_similarity = pairwise_distances(train_matrix.T, metric='cosine')\n",
    "print(\"\\n USER SIMILARITY:\")\n",
    "print(user_similarity)\n",
    "print(\"\\n MOVIE SIMILARITY:\")\n",
    "print(item_similarity)"
   ]
  },
  {
   "cell_type": "markdown",
   "metadata": {},
   "source": [
    "We proceed to make predictions using the similarity matrices. Functions were created for predictions by user and item types.\n",
    "https://cambridgespark.com/content/tutorials/implementing-your-own-recommender-systems-in-Python/index.html"
   ]
  },
  {
   "cell_type": "code",
   "execution_count": 68,
   "metadata": {
    "collapsed": true
   },
   "outputs": [],
   "source": [
    "# This functions is used to execute \n",
    "def predict(ratings, similarity, type='user'):\n",
    "    if type == 'user':\n",
    "        mean_user_rating = ratings.mean(axis=1)\n",
    "        #You use np.newaxis so that mean_user_rating has same format as ratings\n",
    "        ratings_diff = (ratings - mean_user_rating[:, np.newaxis])\n",
    "        pred = mean_user_rating[:, np.newaxis] + similarity.dot(ratings_diff) / np.array([np.abs(similarity).sum(axis=1)]).T\n",
    "    elif type == 'item':\n",
    "        pred = ratings.dot(similarity) / np.array([np.abs(similarity).sum(axis=1)])\n",
    "    return pred"
   ]
  },
  {
   "cell_type": "code",
   "execution_count": 69,
   "metadata": {
    "collapsed": false
   },
   "outputs": [],
   "source": [
    "# Executing the above function for user and movie (item)\n",
    "movie_prediction = predict(train_matrix, item_similarity, type='item')\n",
    "user_prediction = predict(train_matrix, user_similarity, type='user')"
   ]
  },
  {
   "cell_type": "code",
   "execution_count": 70,
   "metadata": {
    "collapsed": false
   },
   "outputs": [
    {
     "name": "stdout",
     "output_type": "stream",
     "text": [
      "\n",
      " MOVIE PREDICTION:\n",
      "[[ 0.01960648  0.01901137  0.01905719 ...,  0.01937751  0.01943812\n",
      "   0.01943871]\n",
      " [ 0.09547822  0.08814101  0.09784117 ...,  0.10893286  0.10836663\n",
      "   0.10760419]\n",
      " [ 0.06553221  0.06985381  0.07312251 ...,  0.07553323  0.07299016\n",
      "   0.07387906]\n",
      " ..., \n",
      " [ 0.04344112  0.04480831  0.04463509 ...,  0.04599033  0.04583899\n",
      "   0.04561222]\n",
      " [ 0.04190582  0.04500699  0.0467322  ...,  0.04951487  0.04784159\n",
      "   0.04910459]\n",
      " [ 0.14355564  0.15857015  0.16722491 ...,  0.17131879  0.16677519\n",
      "   0.16897177]]\n",
      "\n",
      " USER PREDICTION:\n",
      "[[  8.87374546e-01   2.67929770e-01   1.32362005e-01 ...,  -7.76732929e-02\n",
      "   -2.69030705e-02   6.12371570e-03]\n",
      " [  9.59668123e-01   3.10522255e-01   2.15235313e-01 ...,   1.26574064e-02\n",
      "    6.59710278e-02   1.00742777e-01]\n",
      " [  9.22445071e-01   3.17381389e-01   1.98273239e-01 ...,  -1.84946717e-02\n",
      "    2.94149493e-02   6.39821270e-02]\n",
      " ..., \n",
      " [  9.04576205e-01   2.94377286e-01   1.60072543e-01 ...,  -5.03797986e-02\n",
      "    6.61064419e-04   3.34339765e-02]\n",
      " [  9.04470852e-01   2.95723335e-01   1.67105634e-01 ...,  -4.50511950e-02\n",
      "    4.37207706e-03   4.16008798e-02]\n",
      " [  9.80431932e-01   4.14164918e-01   2.97658192e-01 ...,   7.97694811e-02\n",
      "    1.27101708e-01   1.62582917e-01]]\n"
     ]
    }
   ],
   "source": [
    "print(\"\\n MOVIE PREDICTION:\")\n",
    "print(movie_prediction)\n",
    "print(\"\\n USER PREDICTION:\")\n",
    "print(user_prediction)"
   ]
  },
  {
   "cell_type": "markdown",
   "metadata": {},
   "source": [
    "For the evaluation of the predicted models, we used Root Mean Squared Error (RMSE) and the function form scikit-learn."
   ]
  },
  {
   "cell_type": "code",
   "execution_count": 71,
   "metadata": {
    "collapsed": true
   },
   "outputs": [],
   "source": [
    "# RMSE for the predicted models\n",
    "# We only wan to consider predicted ratings that are in the test dataset.\n",
    "# using matrix with prediction[ground_truth.nonzero()] filter out all other elements in the prediction.\n",
    "from sklearn.metrics import mean_squared_error\n",
    "from math import sqrt\n",
    "def rmse(prediction, ground_truth):\n",
    "    prediction = prediction[ground_truth.nonzero()].flatten()\n",
    "    ground_truth = ground_truth[ground_truth.nonzero()].flatten()\n",
    "    return sqrt(mean_squared_error(prediction, ground_truth))"
   ]
  },
  {
   "cell_type": "code",
   "execution_count": 72,
   "metadata": {
    "collapsed": false
   },
   "outputs": [
    {
     "name": "stdout",
     "output_type": "stream",
     "text": [
      "User-based CF RMSE: 3.67325071983\n",
      "Movie-based CF RMSE: 3.68884725586\n"
     ]
    }
   ],
   "source": [
    "print 'User-based CF RMSE: ' + str(rmse(user_prediction, test_matrix))\n",
    "print 'Movie-based CF RMSE: ' + str(rmse(movie_prediction, test_matrix))"
   ]
  },
  {
   "cell_type": "markdown",
   "metadata": {},
   "source": [
    "Memory-based algorithms are easy to implement and produce reasonable prediction quality. But memory-based CF doesn't scale to real-world scenarios and doesn't address the well-known cold-start problem, that is when new user or new item enters the system.\n",
    "\n",
    "Model-based CF methods are scalable and can deal with higher sparsity level than memory-based models, but also suffer when new users or items that don't have any ratings enter the system.\n",
    "\n",
    "Model-based Collaborative Filtering is based on matrix factorization (MF) considered as an unsupervised learning method for latent variable decomposition and dimensionality reduction. \n",
    "Matrix factorization is widely used for recommender systems, it deals better with scalability and sparsity than Memory-based CF.\n",
    "In our research we found that this models learn from the user information and attributes of the items in this case movies to then predict the unknown rating through the dot product of the users and items information/attributes arrays/matrices.\n",
    "\n",
    "For very sparse matrix, with a lot of dimensions, by doing matrix factorization is recommended to restructure the user-item matrix into low-rank structure, the matrix can be represented by the multiplication of two low-rank matrices, where the rows contain the latent vector with user information like: age, gender, zipcode, any demographic information for movies information like: lead actor, language, director, etc.  For our data set we were limited with the user information we only have userId.\n",
    "\n",
    "The important aspect is that the CF model only uses data (user_id, movie_id, rating) to learn the latent features. If there is little data available model-based CF model will predict poorly, since it will be more difficult to learn the latent features.\n",
    "\n",
    "Models that use both ratings and content features are called Hybrid Recommender Systems where both Collaborative Filtering and Content-based Models are combined. Hybrid recommender systems usually show higher accuracy than Collaborative Filtering or Content-based Models on their own: they are capable to address the cold-start problem better if the user doesn't have any ratings, the metadata from the user or item is used to make a prediction. \n",
    "\n",
    "Reference: https://cambridgespark.com/content/tutorials/implementing-your-own-recommender-systems-in-Python/index.html"
   ]
  },
  {
   "cell_type": "code",
   "execution_count": 73,
   "metadata": {
    "collapsed": false
   },
   "outputs": [
    {
     "name": "stdout",
     "output_type": "stream",
     "text": [
      "The sparsity level of MovieLens-100K is 95.8%\n"
     ]
    }
   ],
   "source": [
    "# Calculating the sparsity of our movie data set\n",
    "sparsity=round(1.0-len(Rated_movies)/float(n_users*n_items),3)\n",
    "print 'The sparsity level of MovieLens-100K is ' +  str(sparsity*100) + '%'"
   ]
  },
  {
   "cell_type": "markdown",
   "metadata": {},
   "source": [
    "For a Netflix prize competition the winner team used matrix factorization known as Singular Value Decomposition (SVD) (https://medium.com/netflix-techblog/netflix-recommendations-beyond-the-5-stars-part-1-55838468f429). The general equation can be expressed as follows: X=U×S×VT\n",
    "\n",
    "Given an m×n matrix X:\n",
    "- U is an m×r orthogonal matrix\n",
    "- S is an r×r diagonal matrix with non-negative real numbers on the diagonal\n",
    "- VT is an r×n orthogonal matrix\n",
    "\n",
    "Elements on the diagonal in S are known as singular values of X.\n",
    "\n",
    "Matrix X can be factorized to U, S and V. The U matrix represents the feature vectors corresponding to the users in the hidden feature space and the V matrix represents the feature vectors corresponding to the items in the hidden feature space.\n",
    "\n",
    "The prediction is produced by taking dot product of U, S and VT.\n",
    "\n",
    "We executed this method in our dataset just to see what results we get, we are aware that we have very limited information from users and movies."
   ]
  },
  {
   "cell_type": "code",
   "execution_count": 74,
   "metadata": {
    "collapsed": false
   },
   "outputs": [
    {
     "name": "stdout",
     "output_type": "stream",
     "text": [
      "User-based CF MSE: 3.59515493552\n"
     ]
    }
   ],
   "source": [
    "# SVD method\n",
    "import scipy.sparse as sp\n",
    "from scipy.sparse.linalg import svds\n",
    "\n",
    "#get SVD components from train matrix. Choose k.\n",
    "u, s, vt = svds(train_matrix, k = 10)\n",
    "s_diag_matrix=np.diag(s)\n",
    "X_pred = np.dot(np.dot(u, s_diag_matrix), vt)\n",
    "print 'User-based CF MSE: ' + str(rmse(X_pred, test_matrix))"
   ]
  },
  {
   "cell_type": "markdown",
   "metadata": {},
   "source": [
    "The model did slightly better. But we got better results and visualization with the use of graphlab Turi tool - https://turi.com covered in the <a href=\"#MandE\">Modeling and Evaluation</a> section of this project."
   ]
  },
  {
   "cell_type": "code",
   "execution_count": null,
   "metadata": {
    "collapsed": true
   },
   "outputs": [],
   "source": []
  }
 ],
 "metadata": {
  "kernelspec": {
   "display_name": "Python 2",
   "language": "python",
   "name": "python2"
  },
  "language_info": {
   "codemirror_mode": {
    "name": "ipython",
    "version": 2
   },
   "file_extension": ".py",
   "mimetype": "text/x-python",
   "name": "python",
   "nbconvert_exporter": "python",
   "pygments_lexer": "ipython2",
   "version": "2.7.11"
  }
 },
 "nbformat": 4,
 "nbformat_minor": 2
}
